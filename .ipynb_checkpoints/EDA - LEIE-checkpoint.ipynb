{
 "cells": [
  {
   "cell_type": "code",
   "execution_count": 1,
   "metadata": {},
   "outputs": [],
   "source": [
    "import pandas as pd\n",
    "import numpy as np\n",
    "import matplotlib.pyplot as plt\n",
    "%matplotlib inline"
   ]
  },
  {
   "cell_type": "code",
   "execution_count": 40,
   "metadata": {},
   "outputs": [],
   "source": [
    "def process_LEIE(file_path):\n",
    "    '''\n",
    "    Input: relative file path of the .csv file for LEIE(List of Excluded Individuals/Entities)\n",
    "    Input(Optional): order by month and/or by day\n",
    "    Process: Takes in a csv converts it into a pandas dataframe. Also, adds a \"year\" and \"month\" column.\n",
    "    Output: pd.DataFrame\n",
    "    '''\n",
    "    df = pd.read_csv(file_path, low_memory=False)\n",
    "    df[\"year\"] = pd.to_datetime(df[\"EXCLDATE\"], format=\"%Y%m%d\").dt.year\n",
    "    df[\"month\"] = pd.to_datetime(df[\"EXCLDATE\"], format=\"%Y%m%d\").dt.month\n",
    "    return df\n",
    "\n",
    "def add_key_npi(df):\n",
    "    '''\n",
    "    input: LEIE pd.DataFrame\n",
    "    output: LEIE pd.DataFrame with added boolean \"key_present\" column\n",
    "    '''\n",
    "    df[\"key_present\"] = df[\"NPI\"] != 0\n",
    "    return df\n",
    "\n",
    "def filter_years(df, min_year):\n",
    "    '''\n",
    "    Input: LEIE pd.DataFrame, min_year(inclusive)\n",
    "    Output: LEIE pd.DataFrame for years after min_year\n",
    "    '''\n",
    "    return df[df[\"year\"]>=min_year].reset_index(drop=True)\n",
    "\n",
    "def filter_keys(df):\n",
    "    '''\n",
    "    Input: pd.DataFrame of LEIE report with \"key_present\" columns\n",
    "    Output: pd.DataFrame of LEIE report where key is present\n",
    "    '''\n",
    "    return df[df[\"key_present\"]].reset_index(drop=True)"
   ]
  },
  {
   "cell_type": "markdown",
   "metadata": {},
   "source": [
    "---\n",
    "# A deeper look into the LEIE data"
   ]
  },
  {
   "cell_type": "code",
   "execution_count": 3,
   "metadata": {},
   "outputs": [
    {
     "data": {
      "text/html": [
       "<div>\n",
       "<style>\n",
       "    .dataframe thead tr:only-child th {\n",
       "        text-align: right;\n",
       "    }\n",
       "\n",
       "    .dataframe thead th {\n",
       "        text-align: left;\n",
       "    }\n",
       "\n",
       "    .dataframe tbody tr th {\n",
       "        vertical-align: top;\n",
       "    }\n",
       "</style>\n",
       "<table border=\"1\" class=\"dataframe\">\n",
       "  <thead>\n",
       "    <tr style=\"text-align: right;\">\n",
       "      <th></th>\n",
       "      <th>LASTNAME</th>\n",
       "      <th>FIRSTNAME</th>\n",
       "      <th>MIDNAME</th>\n",
       "      <th>BUSNAME</th>\n",
       "      <th>GENERAL</th>\n",
       "      <th>SPECIALTY</th>\n",
       "      <th>UPIN</th>\n",
       "      <th>NPI</th>\n",
       "      <th>DOB</th>\n",
       "      <th>ADDRESS</th>\n",
       "      <th>CITY</th>\n",
       "      <th>STATE</th>\n",
       "      <th>ZIP</th>\n",
       "      <th>EXCLTYPE</th>\n",
       "      <th>EXCLDATE</th>\n",
       "      <th>REINDATE</th>\n",
       "      <th>WAIVERDATE</th>\n",
       "      <th>WVRSTATE</th>\n",
       "      <th>year</th>\n",
       "      <th>month</th>\n",
       "    </tr>\n",
       "  </thead>\n",
       "  <tbody>\n",
       "    <tr>\n",
       "      <th>0</th>\n",
       "      <td>NaN</td>\n",
       "      <td>NaN</td>\n",
       "      <td></td>\n",
       "      <td>14 LAWRENCE AVE PHARMACY</td>\n",
       "      <td>PHARMACY</td>\n",
       "      <td>NaN</td>\n",
       "      <td>NaN</td>\n",
       "      <td>0</td>\n",
       "      <td>NaN</td>\n",
       "      <td>14 LAWRENCE AVENUE</td>\n",
       "      <td>SMITHTOWN</td>\n",
       "      <td>NY</td>\n",
       "      <td>11787</td>\n",
       "      <td>1128a1</td>\n",
       "      <td>19880830</td>\n",
       "      <td>0</td>\n",
       "      <td>0</td>\n",
       "      <td>NaN</td>\n",
       "      <td>1988</td>\n",
       "      <td>8</td>\n",
       "    </tr>\n",
       "    <tr>\n",
       "      <th>1</th>\n",
       "      <td>NaN</td>\n",
       "      <td>NaN</td>\n",
       "      <td></td>\n",
       "      <td>143 MEDICAL EQUIPMENT CO</td>\n",
       "      <td>DME COMPANY</td>\n",
       "      <td>DME - OXYGEN</td>\n",
       "      <td>NaN</td>\n",
       "      <td>0</td>\n",
       "      <td>NaN</td>\n",
       "      <td>701 NW 36 AVENUE</td>\n",
       "      <td>MIAMI</td>\n",
       "      <td>FL</td>\n",
       "      <td>33125</td>\n",
       "      <td>1128b7</td>\n",
       "      <td>19970620</td>\n",
       "      <td>0</td>\n",
       "      <td>0</td>\n",
       "      <td>NaN</td>\n",
       "      <td>1997</td>\n",
       "      <td>6</td>\n",
       "    </tr>\n",
       "    <tr>\n",
       "      <th>2</th>\n",
       "      <td>NaN</td>\n",
       "      <td>NaN</td>\n",
       "      <td></td>\n",
       "      <td>184TH STREET PHARMACY CORP</td>\n",
       "      <td>OTHER BUSINESS</td>\n",
       "      <td>PHARMACY</td>\n",
       "      <td>NaN</td>\n",
       "      <td>1922348218</td>\n",
       "      <td>NaN</td>\n",
       "      <td>69 E 184TH ST</td>\n",
       "      <td>BRONX</td>\n",
       "      <td>NY</td>\n",
       "      <td>10468</td>\n",
       "      <td>1128a1</td>\n",
       "      <td>20180419</td>\n",
       "      <td>0</td>\n",
       "      <td>0</td>\n",
       "      <td>NaN</td>\n",
       "      <td>2018</td>\n",
       "      <td>4</td>\n",
       "    </tr>\n",
       "    <tr>\n",
       "      <th>3</th>\n",
       "      <td>NaN</td>\n",
       "      <td>NaN</td>\n",
       "      <td></td>\n",
       "      <td>1951 FLATBUSH AVENUE PHARMACY</td>\n",
       "      <td>PHARMACY</td>\n",
       "      <td>NaN</td>\n",
       "      <td>NaN</td>\n",
       "      <td>0</td>\n",
       "      <td>NaN</td>\n",
       "      <td>1951 FLATBUSH AVE</td>\n",
       "      <td>BROOKLYN</td>\n",
       "      <td>NY</td>\n",
       "      <td>11234</td>\n",
       "      <td>1128b5</td>\n",
       "      <td>20090319</td>\n",
       "      <td>0</td>\n",
       "      <td>0</td>\n",
       "      <td>NaN</td>\n",
       "      <td>2009</td>\n",
       "      <td>3</td>\n",
       "    </tr>\n",
       "    <tr>\n",
       "      <th>4</th>\n",
       "      <td>NaN</td>\n",
       "      <td>NaN</td>\n",
       "      <td></td>\n",
       "      <td>1ST COMMUNITY HEALTH CTR, LTD</td>\n",
       "      <td>CLINIC</td>\n",
       "      <td>NaN</td>\n",
       "      <td>NaN</td>\n",
       "      <td>0</td>\n",
       "      <td>NaN</td>\n",
       "      <td>3138 W CERMAK ROAD</td>\n",
       "      <td>CHICAGO</td>\n",
       "      <td>IL</td>\n",
       "      <td>60623</td>\n",
       "      <td>1128a1</td>\n",
       "      <td>19940524</td>\n",
       "      <td>0</td>\n",
       "      <td>0</td>\n",
       "      <td>NaN</td>\n",
       "      <td>1994</td>\n",
       "      <td>5</td>\n",
       "    </tr>\n",
       "  </tbody>\n",
       "</table>\n",
       "</div>"
      ],
      "text/plain": [
       "  LASTNAME FIRSTNAME MIDNAME                        BUSNAME         GENERAL  \\\n",
       "0      NaN       NaN               14 LAWRENCE AVE PHARMACY        PHARMACY   \n",
       "1      NaN       NaN               143 MEDICAL EQUIPMENT CO     DME COMPANY   \n",
       "2      NaN       NaN             184TH STREET PHARMACY CORP  OTHER BUSINESS   \n",
       "3      NaN       NaN          1951 FLATBUSH AVENUE PHARMACY        PHARMACY   \n",
       "4      NaN       NaN          1ST COMMUNITY HEALTH CTR, LTD          CLINIC   \n",
       "\n",
       "      SPECIALTY UPIN         NPI  DOB             ADDRESS       CITY STATE  \\\n",
       "0           NaN  NaN           0  NaN  14 LAWRENCE AVENUE  SMITHTOWN    NY   \n",
       "1  DME - OXYGEN  NaN           0  NaN    701 NW 36 AVENUE      MIAMI    FL   \n",
       "2      PHARMACY  NaN  1922348218  NaN       69 E 184TH ST      BRONX    NY   \n",
       "3           NaN  NaN           0  NaN   1951 FLATBUSH AVE   BROOKLYN    NY   \n",
       "4           NaN  NaN           0  NaN  3138 W CERMAK ROAD    CHICAGO    IL   \n",
       "\n",
       "     ZIP EXCLTYPE  EXCLDATE  REINDATE  WAIVERDATE WVRSTATE  year  month  \n",
       "0  11787   1128a1  19880830         0           0      NaN  1988      8  \n",
       "1  33125   1128b7  19970620         0           0      NaN  1997      6  \n",
       "2  10468   1128a1  20180419         0           0      NaN  2018      4  \n",
       "3  11234   1128b5  20090319         0           0      NaN  2009      3  \n",
       "4  60623   1128a1  19940524         0           0      NaN  1994      5  "
      ]
     },
     "execution_count": 3,
     "metadata": {},
     "output_type": "execute_result"
    }
   ],
   "source": [
    "df = process_LEIE(\"data/raw/UPDATED.csv\")\n",
    "df.head()"
   ]
  },
  {
   "cell_type": "markdown",
   "metadata": {},
   "source": [
    "### What features in the LEIE dataset can we use as a key to connect with the Medicare Part D dataset?\n",
    "> - Total Number of records: 70,056\n",
    "> - Unique NPIs: 4,682\n",
    "> - Individual/Entity Name: \n",
    "> - Address"
   ]
  },
  {
   "cell_type": "code",
   "execution_count": 41,
   "metadata": {},
   "outputs": [],
   "source": [
    "# Create a LEIE_keys dictionary to capture all potential common keys\n",
    "LEIE_keys = {}\n",
    "\n",
    "# add unique NPIs to LEIE_keys dictionary\n",
    "npi = df[\"NPI\"]\n",
    "LEIE_keys[\"NPI\"] = np.unique(npi[npi != 0].values)\n",
    "\n",
    "# create and update key_present column in the LEIE df\n",
    "df = add_key_npi(df)"
   ]
  },
  {
   "cell_type": "markdown",
   "metadata": {},
   "source": [
    "---\n",
    "### Let's load previous month's LEIE report and see if it has more unique NPIs?"
   ]
  },
  {
   "cell_type": "code",
   "execution_count": 47,
   "metadata": {},
   "outputs": [
    {
     "name": "stdout",
     "output_type": "stream",
     "text": [
      "number of records in the June LEIE report:  70056\n",
      "number of records in the May LEIE report:  69933\n"
     ]
    }
   ],
   "source": [
    "# Load previous LEIE report\n",
    "df_052018 = process_LEIE(\"data/raw/05-2018 LEIE.csv\")\n",
    "npi_052018 = df_052018[\"NPI\"][df_052018[\"NPI\"] != 0]\n",
    "print(\"number of records in the June LEIE report: \", df.shape[0]) \n",
    "print(\"number of records in the May LEIE report: \", df_052018.shape[0]) "
   ]
  },
  {
   "cell_type": "code",
   "execution_count": 43,
   "metadata": {},
   "outputs": [
    {
     "name": "stdout",
     "output_type": "stream",
     "text": [
      "Number of unique NPIs in the the June LEIE report: 4682\n",
      "Number of unique NPIs in the the May LEIE report: 4668\n",
      "NPIs added to the June LEIE report: 22\n",
      "NPIs removed from the May LEIE report: 8\n"
     ]
    }
   ],
   "source": [
    "# Compute differences between June and May LEIE reports\n",
    "npis_062018 = set(LEIE_keys[\"NPI\"])\n",
    "npis_052018 = set(npi_052018)\n",
    "added_npis = npis_062018.difference(npis_052018)\n",
    "removed_npis = npis_052018.difference(npis_062018)\n",
    "print(\"Number of unique NPIs in the the June LEIE report: {}\".format(len(npis_062018)))\n",
    "print(\"Number of unique NPIs in the the May LEIE report: {}\".format(len(npis_052018)))\n",
    "print(\"NPIs added to the June LEIE report: {}\".format(len(added_npis)))\n",
    "print(\"NPIs removed from the May LEIE report: {}\".format(len(removed_npis)))"
   ]
  },
  {
   "cell_type": "markdown",
   "metadata": {},
   "source": [
    "**_Based on NPIs alone, the May LEIE report doesn't help us with getting more unique NPIs. We will need to find other ways to identify excluded individuals and entities._**"
   ]
  },
  {
   "cell_type": "markdown",
   "metadata": {},
   "source": [
    "---\n",
    "### Use the NPIs to build the `target ` to train the Machine Learning model. \n",
    "> But keep in mind, NPIs account for a very small percentage of all the **targets** in the LEIE report."
   ]
  },
  {
   "cell_type": "code",
   "execution_count": 44,
   "metadata": {},
   "outputs": [
    {
     "name": "stdout",
     "output_type": "stream",
     "text": [
      "Percentage of targets accounted for by NPIs alone: 6.68%\n"
     ]
    }
   ],
   "source": [
    "npi_ratio = len(npis_062018)/df.shape[0]\n",
    "print(\"Percentage of targets accounted for by NPIs alone: {}\".format(str(round(npi_ratio, 4)*100))+\"%\")"
   ]
  },
  {
   "cell_type": "code",
   "execution_count": 45,
   "metadata": {},
   "outputs": [
    {
     "data": {
      "text/plain": [
       "array([[<matplotlib.axes._subplots.AxesSubplot object at 0x11b964a90>]], dtype=object)"
      ]
     },
     "execution_count": 45,
     "metadata": {},
     "output_type": "execute_result"
    },
    {
     "data": {
      "image/png": "[encoded data removed]",
      "text/plain": [
       "<matplotlib.figure.Figure at 0x11a9b2f98>"
      ]
     },
     "metadata": {},
     "output_type": "display_data"
    }
   ],
   "source": [
    "df.hist(\"year\")"
   ]
  },
  {
   "cell_type": "code",
   "execution_count": 46,
   "metadata": {},
   "outputs": [],
   "source": [
    "# Filter out old data and data without keys\n",
    "df1 = filter_years(df, 2014)\n",
    "df2 = filter_keys(df1)"
   ]
  },
  {
   "cell_type": "code",
   "execution_count": 35,
   "metadata": {},
   "outputs": [
    {
     "name": "stdout",
     "output_type": "stream",
     "text": [
      "Total number of records in the LEIE dataset: 70056\n",
      "Number of records after filtering out everything prior to 2014: 16096\n",
      "Number of records with NPI as a key: 2879\n"
     ]
    }
   ],
   "source": [
    "print(\"Total number of records in the LEIE dataset: {}\".format(df.shape[0]))\n",
    "print(\"Number of records after filtering out everything prior to 2014: {}\".format(df1.shape[0]))\n",
    "print(\"Number of records with NPI as a key: {}\".format(df2.shape[0]))"
   ]
  },
  {
   "cell_type": "code",
   "execution_count": 49,
   "metadata": {},
   "outputs": [
    {
     "name": "stdout",
     "output_type": "stream",
     "text": [
      "(2879,)\n",
      "2843\n"
     ]
    }
   ],
   "source": [
    "print(df2['NPI'].shape)\n",
    "print(len(set(df2['NPI'])))"
   ]
  },
  {
   "cell_type": "code",
   "execution_count": null,
   "metadata": {},
   "outputs": [],
   "source": [
    "# add EXCLYR Column\n",
    "df_LEIE[\"EXCLYR\"] = df_LEIE[\"EXCLDATE\"].astype(str).str[0:4].astype(int)\n",
    "\n",
    "# remove all data prior to 2013\n",
    "df_LEIE1 = df_LEIE[df_LEIE[\"EXCLYR\"]>=2013].reset_index().copy()"
   ]
  },
  {
   "cell_type": "code",
   "execution_count": null,
   "metadata": {},
   "outputs": [],
   "source": [
    "# remove white spaces from EXCLTYPE\n",
    "isNameNull = df_LEIE1.isnull()[[\"LASTNAME\",\"FIRSTNAME\"]]\n",
    "isNPInotNull = df_LEIE1[\"NPI\"]!=0\n",
    "isLocatableByNPIorName = []\n",
    "for i in range(len(isNameNull)):\n",
    "    if not isNameNull.iloc[i].values.any() or isNPInotNull.iloc[i]:\n",
    "        isLocatableByNPIorName.append(True)\n",
    "    else:\n",
    "        isLocatableByNPIorName.append(False)"
   ]
  },
  {
   "cell_type": "code",
   "execution_count": null,
   "metadata": {},
   "outputs": [],
   "source": [
    "LEIE = df_LEIE1[isLocatableByNPIorName].reset_index(drop=True)"
   ]
  },
  {
   "cell_type": "code",
   "execution_count": null,
   "metadata": {},
   "outputs": [],
   "source": [
    "excluded = np.unique(df_LEIE1[\"NPI\"][df_LEIE1[\"NPI\"]!=0])\n",
    "np.savetxt('excluded.txt', excluded)"
   ]
  },
  {
   "cell_type": "code",
   "execution_count": null,
   "metadata": {},
   "outputs": [],
   "source": [
    "LEIE[[\n",
    "    \"LASTNAME\",\n",
    "    \"FIRSTNAME\",\n",
    "    \"MIDNAME\",\n",
    "    \"BUSNAME\",\n",
    "    \"GENERAL\",\n",
    "    \"SPECIALTY\",\n",
    "    \"NPI\",\n",
    "    \"DOB\",\n",
    "    \"CITY\",\n",
    "    \"STATE\",\n",
    "    \"ZIP\",\n",
    "    \"EXCLTYPE\",\n",
    "    \"EXCLDATE\",\n",
    "    \"EXCLYR\"]].to_csv(\"LEIE.txt\",index=False, \n",
    "                      header=[\"LASTNAME\",\n",
    "                                \"FIRSTNAME\",\n",
    "                                \"MIDNAME\",\n",
    "                                \"BUSNAME\",\n",
    "                                \"GENERAL\",\n",
    "                                \"SPECIALTY\",\n",
    "                                \"NPI\",\n",
    "                                \"DOB\",\n",
    "                                \"CITY\",\n",
    "                                \"STATE\",\n",
    "                                \"ZIP\",\n",
    "                                \"EXCLTYPE\",\n",
    "                                \"EXCLDATE\",\n",
    "                                \"EXCLYR\"])"
   ]
  },
  {
   "cell_type": "code",
   "execution_count": null,
   "metadata": {},
   "outputs": [],
   "source": [
    "LEIE_df = LEIE.groupby(\"EXCLTYPE\").count().sort_values(\"index\", ascending = False).reset_index()[[\"EXCLTYPE\",\"index\"]]\n",
    "LEIE_df.columns = [\"Code\",\"Count\"]\n",
    "LEIE_df.head()"
   ]
  },
  {
   "cell_type": "code",
   "execution_count": null,
   "metadata": {},
   "outputs": [],
   "source": [
    "ExclType_Dict = {\"1128Aa\":\"???\",\n",
    "                 \"1128a1\":\"Conviction of program-related crimes. Minimum Period: 5 years\",\n",
    "                 \"1128a2\":\"Conviction relating to patient abuse or neglect. Minimum Period: 5 years\",\n",
    "                 \"1128a3\":\"Felony conviction relating to health care fraud. Minimum Period: 5 years\",\n",
    "                 \"1128a4\":\"Felony conviction relating to controlled substance. Minimum Period: 5 years\",\n",
    "                 \"1128b1\":\"Misdemeanor conviction relating to health care fraud. Baseline Period: 3 years\",\n",
    "                 \"1128b14\":\"Default on health education loan or scholarship obligations. Minimum Period: Until default or obligation has been resolved.\",\n",
    "                 \"1128b15\":\"Individuals controlling a sanctioned entity. Minimum Period: Same as length of entity's exclusion.\",\n",
    "                 \"1128b16\":\"Making false statement or misrepresentations of material fact. Minimum period: None.\",\n",
    "                 \"1128b2\":\"Conviction relating to obstruction of an investigation or audit. Baseline Period: 3 years\",\n",
    "                 \"1128b3\":\"Misdemeanor conviction relating to controlled substance. Baseline Period: 3 years\",\n",
    "                 \"1128b4\":\"License revocation, suspension, or surrender. Minimum Period: Period imposed by the state licensing authority.\",\n",
    "                 \"1128b5\":\"Exclusion or suspension under federal or state health care program. Minimum Period: No less than the period imposed by federal or state health care program.\",\n",
    "                 \"1128b6\":\"Claims for excessive charges, unnecessary services or services which fail to meet professionally recognized standards of health care, or failure of an HMO to furnish medically necessary services. Minimum Period: 1 year\",\n",
    "                 \"1128b7\":\"Fraud, kickbacks, and other prohibited activities. Minimum Period: None\",\n",
    "                 \"1128b8\":\"Entities controlled by a sanctioned individual. Minimum Period: Same as length of individual's exclusion.\",\n",
    "                 \"1156\":\"Failure to meet statutory obligations of practitioners and providers to provide medically necessary services meeting professionally recognized standards of health care (Quality Improvement Organization (QIO) findings). Minimum Period: 1 year\",\n",
    "                 \"1160\":\"???\",\n",
    "                 \"BRCH CIA\":\"???\",\n",
    "                 \"BRCH SA\":\"???\"\n",
    "                }"
   ]
  },
  {
   "cell_type": "code",
   "execution_count": null,
   "metadata": {},
   "outputs": [],
   "source": [
    "# convert ExclType_Dict to Pandas DataFrame\n",
    "ExclTypeSummary_df = pd.DataFrame().from_dict(ExclType_Dict, orient=\"index\").reset_index()\n",
    "ExclTypeSummary_df.columns = [\"Code\",\"Description\"]\n",
    "ExclTypeSummary_df.head()"
   ]
  },
  {
   "cell_type": "code",
   "execution_count": null,
   "metadata": {},
   "outputs": [],
   "source": [
    "# Build LEIE_Summary by merging ExclTypeSummary_df and LEIE_df on Count\n",
    "LEIE_Summary = pd.merge(ExclTypeSummary_df, LEIE_df, on=\"Code\")\\\n",
    "                    .sort_values(\"Count\", ascending=False)\n",
    "pd.set_option('display.max_colwidth', -1)\n",
    "LEIE_body=LEIE_Summary.head(12).reset_index(drop=True)"
   ]
  },
  {
   "cell_type": "code",
   "execution_count": null,
   "metadata": {},
   "outputs": [],
   "source": [
    "# Collapse LEIE_Summary Tail\n",
    "tail = pd.DataFrame()\n",
    "tail_dict = {\"Code\":\"Misc.\",\n",
    "             \"Description\":\"Other\",\n",
    "             \"Count\": LEIE_Summary.tail(7).sum(numeric_only=True)\n",
    "            }\n",
    "LEIE_tail = tail.from_dict(tail_dict)[[\"Code\",\"Description\",\"Count\"]].reset_index(drop=True)"
   ]
  },
  {
   "cell_type": "code",
   "execution_count": null,
   "metadata": {},
   "outputs": [],
   "source": [
    "LEIE_summary = LEIE_body.append(LEIE_tail, ignore_index=True)\n",
    "LEIE_summary"
   ]
  },
  {
   "cell_type": "code",
   "execution_count": null,
   "metadata": {},
   "outputs": [],
   "source": [
    "LEIE_w_total = LEIE_summary.append(LEIE_summary.sum(numeric_only=True), ignore_index=True)\n",
    "LEIE_w_total"
   ]
  },
  {
   "cell_type": "code",
   "execution_count": null,
   "metadata": {},
   "outputs": [],
   "source": [
    "# Convert LEIE_Summary Summary to HTML\n",
    "HTML = LEIE_w_total.to_html(index=False, )\n",
    "HTML.replace(\"\\n\",\"\")"
   ]
  },
  {
   "cell_type": "code",
   "execution_count": null,
   "metadata": {},
   "outputs": [],
   "source": []
  }
 ],
 "metadata": {
  "kernelspec": {
   "display_name": "Python 3",
   "language": "python",
   "name": "python3"
  },
  "language_info": {
   "codemirror_mode": {
    "name": "ipython",
    "version": 3
   },
   "file_extension": ".py",
   "mimetype": "text/x-python",
   "name": "python",
   "nbconvert_exporter": "python",
   "pygments_lexer": "ipython3",
   "version": "3.6.4"
  }
 },
 "nbformat": 4,
 "nbformat_minor": 2
}
