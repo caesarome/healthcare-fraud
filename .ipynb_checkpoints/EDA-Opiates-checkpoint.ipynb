{
 "cells": [
  {
   "cell_type": "code",
   "execution_count": 1,
   "metadata": {},
   "outputs": [],
   "source": [
    "import numpy as np\n",
    "import pandas as pd"
   ]
  },
  {
   "cell_type": "code",
   "execution_count": 90,
   "metadata": {},
   "outputs": [
    {
     "data": {
      "text/plain": [
       "0                           ABSTRAL\n",
       "1    ACETAMINOPH-CAFF-DIHYDROCODEIN\n",
       "2             ACETAMINOPHEN-CODEINE\n",
       "3                             ACTIQ\n",
       "4       ASA-BUTALB-CAFFEINE-CODEINE\n",
       "Name: Drug Name, dtype: object"
      ]
     },
     "execution_count": 90,
     "metadata": {},
     "output_type": "execute_result"
    }
   ],
   "source": [
    "df_opiates = pd.read_excel(\"Opioid_Drug_List_2013-2016.xlsx\", sheet_name=None, header=2).reset_index()[\"Drug Name\"]\n",
    "df_opiates.head()"
   ]
  },
  {
   "cell_type": "code",
   "execution_count": null,
   "metadata": {},
   "outputs": [],
   "source": [
    "opiates = []\n",
    "for each_drug in df_opiates:\n",
    "    opiates.append(str(each_drug).split(\"/\"))\n",
    "opiates = opiates[:-5]"
   ]
  },
  {
   "cell_type": "code",
   "execution_count": 108,
   "metadata": {},
   "outputs": [],
   "source": [
    "with open(\"opiates.txt\", \"w\") as output:\n",
    "    output.write(str(opiates))"
   ]
  }
 ],
 "metadata": {
  "kernelspec": {
   "display_name": "Python 3",
   "language": "python",
   "name": "python3"
  },
  "language_info": {
   "codemirror_mode": {
    "name": "ipython",
    "version": 3
   },
   "file_extension": ".py",
   "mimetype": "text/x-python",
   "name": "python",
   "nbconvert_exporter": "python",
   "pygments_lexer": "ipython3",
   "version": "3.6.4"
  }
 },
 "nbformat": 4,
 "nbformat_minor": 2
}
