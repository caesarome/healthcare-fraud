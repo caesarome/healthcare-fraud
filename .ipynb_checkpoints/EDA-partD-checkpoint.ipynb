{
 "cells": [
  {
   "cell_type": "code",
   "execution_count": 39,
   "metadata": {},
   "outputs": [],
   "source": [
    "import numpy as np\n",
    "import pandas as pd\n",
    "import gc\n",
    "import psycopg2\n",
    "import importlib\n",
    "import sql_commands\n",
    "importlib.reload(sql_commands)\n",
    "from sql_commands import process_partD, csv2sql, sql_query, build_medicare_partD_table"
   ]
  },
  {
   "cell_type": "code",
   "execution_count": 41,
   "metadata": {},
   "outputs": [
    {
     "ename": "SyntaxError",
     "evalue": "EOF while scanning triple-quoted string literal (<ipython-input-41-2f5cb7fcbc14>, line 14)",
     "output_type": "error",
     "traceback": [
      "\u001b[0;36m  File \u001b[0;32m\"<ipython-input-41-2f5cb7fcbc14>\"\u001b[0;36m, line \u001b[0;32m14\u001b[0m\n\u001b[0;31m    ''''''\u001b[0m\n\u001b[0m          \n^\u001b[0m\n\u001b[0;31mSyntaxError\u001b[0m\u001b[0;31m:\u001b[0m EOF while scanning triple-quoted string literal\n"
     ]
    }
   ],
   "source": [
    "# takes ~40 minutes per file\n",
    "# process raw Medicare Part D files\n",
    "path_tuples = [(\"data/raw/PartD_Prescriber_PUF_NPI_Drug_13.txt\", 2013),\n",
    "               (\"data/raw/PartD_Prescriber_PUF_NPI_Drug_14.txt\", 2014),\n",
    "               (\"data/raw/PartD_Prescriber_PUF_NPI_Drug_15.txt\", 2015),\n",
    "               (\"data/raw/PartD_Prescriber_PUF_NPI_Drug_16.txt\", 2016)]\n",
    "\n",
    "df_list = []\n",
    "for path in path_tuples:\n",
    "    df_list.append(process_partD(path[0], path[1], destination_path))\n",
    "df = pd.concat(df_list, axis=0)\n",
    "df.to_csv(\"medicare_partD.csv\")"
   ]
  },
  {
   "cell_type": "code",
   "execution_count": null,
   "metadata": {},
   "outputs": [],
   "source": [
    "# set-up a postgres DB\n",
    "'''\n",
    "in terminal, find all local DBs by:\n",
    "    step 1: $psql - enter postgress command shell from terminal \n",
    "    step 2: #\\l - list all database instances\n",
    "    step 3 (optional): if 'healthcarefraud' database is not liste run # CREATE DATABASE healthcarefraud;\n",
    "    step 4: # \\q - exit postgress \n",
    "    step 5: # psql healthcarefraud - connect to healthcarefraud database\n",
    "'''"
   ]
  },
  {
   "cell_type": "code",
   "execution_count": 36,
   "metadata": {},
   "outputs": [
    {
     "name": "stdout",
     "output_type": "stream",
     "text": [
      "2018-08-07 13:19:43,928 INFO sqlalchemy.engine.base.Engine select version()\n",
      "2018-08-07 13:19:43,928 INFO sqlalchemy.engine.base.Engine {}\n",
      "2018-08-07 13:19:43,930 INFO sqlalchemy.engine.base.Engine select current_schema()\n",
      "2018-08-07 13:19:43,931 INFO sqlalchemy.engine.base.Engine {}\n",
      "2018-08-07 13:19:43,933 INFO sqlalchemy.engine.base.Engine SELECT CAST('test plain returns' AS VARCHAR(60)) AS anon_1\n",
      "2018-08-07 13:19:43,934 INFO sqlalchemy.engine.base.Engine {}\n",
      "2018-08-07 13:19:43,936 INFO sqlalchemy.engine.base.Engine SELECT CAST('test unicode returns' AS VARCHAR(60)) AS anon_1\n",
      "2018-08-07 13:19:43,937 INFO sqlalchemy.engine.base.Engine {}\n",
      "2018-08-07 13:19:43,939 INFO sqlalchemy.engine.base.Engine show standard_conforming_strings\n",
      "2018-08-07 13:19:43,939 INFO sqlalchemy.engine.base.Engine {}\n",
      "2018-08-07 13:19:43,954 INFO sqlalchemy.engine.base.Engine select relname from pg_class c join pg_namespace n on n.oid=c.relnamespace where pg_catalog.pg_table_is_visible(c.oid) and relname=%(name)s\n",
      "2018-08-07 13:19:43,955 INFO sqlalchemy.engine.base.Engine {'name': 'medicare_part_d'}\n",
      "2018-08-07 13:19:43,973 INFO sqlalchemy.engine.base.Engine \n",
      "CREATE TABLE medicare_part_d (\n",
      "\tid INTEGER NOT NULL, \n",
      "\tnpi VARCHAR(10), \n",
      "\tnppes_provider_last_org_name VARCHAR(128), \n",
      "\tnppes_provider_first_name VARCHAR(32), \n",
      "\tnppes_provider_city VARCHAR(32), \n",
      "\tnppes_provider_state VARCHAR(2), \n",
      "\tspecialty_description VARCHAR(128), \n",
      "\tdescription_flag VARCHAR(1), \n",
      "\tdrug_name VARCHAR(32), \n",
      "\tgeneric_name VARCHAR(32), \n",
      "\tbene_count FLOAT, \n",
      "\ttotal_claim_count FLOAT, \n",
      "\ttotal_30_day_fill_count FLOAT, \n",
      "\ttotal_day_supply FLOAT, \n",
      "\ttotal_drug_cost FLOAT, \n",
      "\tbene_count_ge65 FLOAT, \n",
      "\tbene_count_ge65_suppress_flag VARCHAR(1), \n",
      "\ttotal_claim_count_ge65 FLOAT, \n",
      "\tge65_suppress_flag VARCHAR(1), \n",
      "\ttotal_30_day_fill_count_ge65 FLOAT, \n",
      "\ttotal_day_supply_ge65 FLOAT, \n",
      "\ttotal_drug_cost_ge65 FLOAT, \n",
      "\tyear FLOAT, \n",
      "\tPRIMARY KEY (id)\n",
      ")\n",
      "\n",
      "\n",
      "2018-08-07 13:19:43,974 INFO sqlalchemy.engine.base.Engine {}\n",
      "2018-08-07 13:19:44,002 INFO sqlalchemy.engine.base.Engine COMMIT\n"
     ]
    }
   ],
   "source": [
    "# Takes ~10 minutes\n",
    "# SQL connection parameters\n",
    "host = 'localhost'\n",
    "port = '5432'\n",
    "dbname = 'healthcarefraud'\n",
    "user = 'postgres'\n",
    "\n",
    "# build Medicare Part D table in the Database\n",
    "build_medicare_partD_table(user, host, dbname)\n",
    "\n",
    "# load .csv into SQL\n",
    "fpath = 'data/medicare_partD_2013.csv'\n",
    "table_name = 'medicare_part_d'\n",
    "# csv2sql(host, port, dbname, user, fpath, table_name)"
   ]
  },
  {
   "cell_type": "code",
   "execution_count": 42,
   "metadata": {},
   "outputs": [
    {
     "ename": "DataError",
     "evalue": "extra data after last expected column\nCONTEXT:  COPY medicare_part_d, line 2: \"0,,,*,S,ISOSORBIDE MONONITRATE ER,*,ISOSORBIDE MONONITRATE,1003000126,CUMBERLAND,ARDALAN,ENKESHAFI,M...\"\n",
     "output_type": "error",
     "traceback": [
      "\u001b[0;31m---------------------------------------------------------------------------\u001b[0m",
      "\u001b[0;31mDataError\u001b[0m                                 Traceback (most recent call last)",
      "\u001b[0;32m<ipython-input-42-d1c3a92dd58b>\u001b[0m in \u001b[0;36m<module>\u001b[0;34m()\u001b[0m\n\u001b[1;32m     18\u001b[0m \u001b[0;34m\u001b[0m\u001b[0m\n\u001b[1;32m     19\u001b[0m \u001b[0;32mtry\u001b[0m\u001b[0;34m:\u001b[0m\u001b[0;34m\u001b[0m\u001b[0m\n\u001b[0;32m---> 20\u001b[0;31m     \u001b[0mprocess_file\u001b[0m\u001b[0;34m(\u001b[0m\u001b[0mconn\u001b[0m\u001b[0;34m,\u001b[0m \u001b[0mtable_name\u001b[0m\u001b[0;34m,\u001b[0m \u001b[0mmy_file\u001b[0m\u001b[0;34m)\u001b[0m\u001b[0;34m\u001b[0m\u001b[0m\n\u001b[0m\u001b[1;32m     21\u001b[0m \u001b[0;32mfinally\u001b[0m\u001b[0;34m:\u001b[0m\u001b[0;34m\u001b[0m\u001b[0m\n\u001b[1;32m     22\u001b[0m     \u001b[0mconn\u001b[0m\u001b[0;34m.\u001b[0m\u001b[0mclose\u001b[0m\u001b[0;34m(\u001b[0m\u001b[0;34m)\u001b[0m\u001b[0;34m\u001b[0m\u001b[0m\n",
      "\u001b[0;32m<ipython-input-42-d1c3a92dd58b>\u001b[0m in \u001b[0;36mprocess_file\u001b[0;34m(conn, table_name, file_object)\u001b[0m\n\u001b[1;32m     13\u001b[0m \u001b[0;32mdef\u001b[0m \u001b[0mprocess_file\u001b[0m\u001b[0;34m(\u001b[0m\u001b[0mconn\u001b[0m\u001b[0;34m,\u001b[0m \u001b[0mtable_name\u001b[0m\u001b[0;34m,\u001b[0m \u001b[0mfile_object\u001b[0m\u001b[0;34m)\u001b[0m\u001b[0;34m:\u001b[0m\u001b[0;34m\u001b[0m\u001b[0m\n\u001b[1;32m     14\u001b[0m     \u001b[0mcur\u001b[0m \u001b[0;34m=\u001b[0m \u001b[0mconn\u001b[0m\u001b[0;34m.\u001b[0m\u001b[0mcursor\u001b[0m\u001b[0;34m(\u001b[0m\u001b[0;34m)\u001b[0m\u001b[0;34m\u001b[0m\u001b[0m\n\u001b[0;32m---> 15\u001b[0;31m     \u001b[0mcur\u001b[0m\u001b[0;34m.\u001b[0m\u001b[0mcopy_expert\u001b[0m\u001b[0;34m(\u001b[0m\u001b[0msql\u001b[0m\u001b[0;34m=\u001b[0m\u001b[0mSQL_STATEMENT\u001b[0m \u001b[0;34m%\u001b[0m \u001b[0mtable_name\u001b[0m\u001b[0;34m,\u001b[0m \u001b[0mfile\u001b[0m\u001b[0;34m=\u001b[0m\u001b[0mfile_object\u001b[0m\u001b[0;34m)\u001b[0m\u001b[0;34m\u001b[0m\u001b[0m\n\u001b[0m\u001b[1;32m     16\u001b[0m     \u001b[0mconn\u001b[0m\u001b[0;34m.\u001b[0m\u001b[0mcommit\u001b[0m\u001b[0;34m(\u001b[0m\u001b[0;34m)\u001b[0m\u001b[0;34m\u001b[0m\u001b[0m\n\u001b[1;32m     17\u001b[0m     \u001b[0mcur\u001b[0m\u001b[0;34m.\u001b[0m\u001b[0mclose\u001b[0m\u001b[0;34m(\u001b[0m\u001b[0;34m)\u001b[0m\u001b[0;34m\u001b[0m\u001b[0m\n",
      "\u001b[0;31mDataError\u001b[0m: extra data after last expected column\nCONTEXT:  COPY medicare_part_d, line 2: \"0,,,*,S,ISOSORBIDE MONONITRATE ER,*,ISOSORBIDE MONONITRATE,1003000126,CUMBERLAND,ARDALAN,ENKESHAFI,M...\"\n"
     ]
    }
   ],
   "source": [
    "my_file = open(\"data/medicare_partD.csv\")\n",
    "table_name = 'medicare_part_d'\n",
    "SQL_STATEMENT = \"\"\"\n",
    "    COPY %s FROM STDIN WITH\n",
    "        CSV\n",
    "        HEADER\n",
    "        DELIMITER AS ','\n",
    "    \"\"\"\n",
    "\n",
    "conn_string = \"host='{}' port='{}' dbname='{}' user='{}'\".format(host, port, dbname, user)\n",
    "conn = psycopg2.connect(conn_string)\n",
    "\n",
    "def process_file(conn, table_name, file_object):\n",
    "    cur = conn.cursor()\n",
    "    cur.copy_expert(sql=SQL_STATEMENT % table_name, file=file_object)\n",
    "    conn.commit()\n",
    "    cur.close()\n",
    "    \n",
    "try:\n",
    "    process_file(conn, table_name, my_file)\n",
    "finally:\n",
    "    conn.close()"
   ]
  },
  {
   "cell_type": "code",
   "execution_count": 10,
   "metadata": {},
   "outputs": [
    {
     "ename": "TypeError",
     "evalue": "not all arguments converted during string formatting",
     "output_type": "error",
     "traceback": [
      "\u001b[0;31m---------------------------------------------------------------------------\u001b[0m",
      "\u001b[0;31mTypeError\u001b[0m                                 Traceback (most recent call last)",
      "\u001b[0;32m<ipython-input-10-1f8af6cd8100>\u001b[0m in \u001b[0;36m<module>\u001b[0;34m()\u001b[0m\n\u001b[1;32m      1\u001b[0m \u001b[0mconn\u001b[0m \u001b[0;34m=\u001b[0m \u001b[0mpsycopg2\u001b[0m\u001b[0;34m.\u001b[0m\u001b[0mconnect\u001b[0m\u001b[0;34m(\u001b[0m\u001b[0mconn_string\u001b[0m\u001b[0;34m)\u001b[0m\u001b[0;34m\u001b[0m\u001b[0m\n\u001b[1;32m      2\u001b[0m \u001b[0mcur\u001b[0m \u001b[0;34m=\u001b[0m \u001b[0mconn\u001b[0m\u001b[0;34m.\u001b[0m\u001b[0mcursor\u001b[0m\u001b[0;34m(\u001b[0m\u001b[0;34m)\u001b[0m\u001b[0;34m\u001b[0m\u001b[0m\n\u001b[0;32m----> 3\u001b[0;31m \u001b[0mcur\u001b[0m\u001b[0;34m.\u001b[0m\u001b[0mcopy_expert\u001b[0m\u001b[0;34m(\u001b[0m\u001b[0msql\u001b[0m\u001b[0;34m=\u001b[0m\u001b[0mSQL_STATEMENT\u001b[0m \u001b[0;34m%\u001b[0m \u001b[0mtable_name\u001b[0m\u001b[0;34m,\u001b[0m \u001b[0mfile\u001b[0m\u001b[0;34m=\u001b[0m\u001b[0mfile_object\u001b[0m\u001b[0;34m)\u001b[0m\u001b[0;34m\u001b[0m\u001b[0m\n\u001b[0m",
      "\u001b[0;31mTypeError\u001b[0m: not all arguments converted during string formatting"
     ]
    }
   ],
   "source": [
    "conn = psycopg2.connect(conn_string)\n",
    "cur = conn.cursor()\n",
    "cur.copy_expert(sql=SQL_STATEMENT % table_name, file=file_object)"
   ]
  },
  {
   "cell_type": "code",
   "execution_count": null,
   "metadata": {},
   "outputs": [],
   "source": []
  },
  {
   "cell_type": "code",
   "execution_count": null,
   "metadata": {},
   "outputs": [],
   "source": []
  },
  {
   "cell_type": "code",
   "execution_count": null,
   "metadata": {},
   "outputs": [],
   "source": [
    "# SQL connection parameters\n",
    "host = 'localhost'\n",
    "port = '5432'\n",
    "dbname = 'healthcarefraud'\n",
    "user = 'postgres'"
   ]
  },
  {
   "cell_type": "code",
   "execution_count": null,
   "metadata": {},
   "outputs": [],
   "source": [
    "# get data from sql server as a pd.DataFrame\n",
    "\n",
    "query_str = '''\n",
    "COPY medicare_part_d FROM \n",
    "'/Users/dastanaitzhanov1/Google Drive (dastan@utexas.edu)/capstone/Healthcare/data/medicare_partD_2013.csv' WITH (FORMAT csv);'''\n",
    "sql_query(host, port, dbname, user, query_str)"
   ]
  },
  {
   "cell_type": "code",
   "execution_count": null,
   "metadata": {},
   "outputs": [],
   "source": [
    "query_str ='''SELECT DISTINCT year FROM medicare_part_d;'''\n",
    "sql_query(host, port, dbname, user, query_str)"
   ]
  },
  {
   "cell_type": "code",
   "execution_count": 35,
   "metadata": {},
   "outputs": [
    {
     "data": {
      "text/html": [
       "<div>\n",
       "<style>\n",
       "    .dataframe thead tr:only-child th {\n",
       "        text-align: right;\n",
       "    }\n",
       "\n",
       "    .dataframe thead th {\n",
       "        text-align: left;\n",
       "    }\n",
       "\n",
       "    .dataframe tbody tr th {\n",
       "        vertical-align: top;\n",
       "    }\n",
       "</style>\n",
       "<table border=\"1\" class=\"dataframe\">\n",
       "  <thead>\n",
       "    <tr style=\"text-align: right;\">\n",
       "      <th></th>\n",
       "      <th>npi</th>\n",
       "      <th>nppes_provider_last_org_name</th>\n",
       "      <th>nppes_provider_first_name</th>\n",
       "      <th>nppes_provider_city</th>\n",
       "      <th>nppes_provider_state</th>\n",
       "      <th>specialty_description</th>\n",
       "      <th>description_flag</th>\n",
       "      <th>drug_name</th>\n",
       "      <th>generic_name</th>\n",
       "      <th>bene_count</th>\n",
       "      <th>...</th>\n",
       "      <th>total_day_supply</th>\n",
       "      <th>total_drug_cost</th>\n",
       "      <th>bene_count_ge65</th>\n",
       "      <th>bene_count_ge65_suppress_flag</th>\n",
       "      <th>total_claim_count_ge65</th>\n",
       "      <th>ge65_suppress_flag</th>\n",
       "      <th>total_30_day_fill_count_ge65</th>\n",
       "      <th>total_day_supply_ge65</th>\n",
       "      <th>total_drug_cost_ge65</th>\n",
       "      <th>year</th>\n",
       "    </tr>\n",
       "  </thead>\n",
       "  <tbody>\n",
       "    <tr>\n",
       "      <th>0</th>\n",
       "      <td>1003000126</td>\n",
       "      <td>ENKESHAFI</td>\n",
       "      <td>ARDALAN</td>\n",
       "      <td>CUMBERLAND</td>\n",
       "      <td>MD</td>\n",
       "      <td>Internal Medicine</td>\n",
       "      <td>S</td>\n",
       "      <td>ISOSORBIDE MONONITRATE ER</td>\n",
       "      <td>ISOSORBIDE MONONITRATE</td>\n",
       "      <td>NaN</td>\n",
       "      <td>...</td>\n",
       "      <td>307</td>\n",
       "      <td>171.59</td>\n",
       "      <td>NaN</td>\n",
       "      <td>*</td>\n",
       "      <td>NaN</td>\n",
       "      <td>*</td>\n",
       "      <td>NaN</td>\n",
       "      <td>NaN</td>\n",
       "      <td>NaN</td>\n",
       "      <td>2013.0</td>\n",
       "    </tr>\n",
       "    <tr>\n",
       "      <th>1</th>\n",
       "      <td>1003000126</td>\n",
       "      <td>ENKESHAFI</td>\n",
       "      <td>ARDALAN</td>\n",
       "      <td>CUMBERLAND</td>\n",
       "      <td>MD</td>\n",
       "      <td>Internal Medicine</td>\n",
       "      <td>S</td>\n",
       "      <td>LEVOFLOXACIN</td>\n",
       "      <td>LEVOFLOXACIN</td>\n",
       "      <td>26.0</td>\n",
       "      <td>...</td>\n",
       "      <td>165</td>\n",
       "      <td>227.10</td>\n",
       "      <td>15.0</td>\n",
       "      <td>NaN</td>\n",
       "      <td>15.0</td>\n",
       "      <td>NaN</td>\n",
       "      <td>15.0</td>\n",
       "      <td>106.0</td>\n",
       "      <td>159.72</td>\n",
       "      <td>2013.0</td>\n",
       "    </tr>\n",
       "    <tr>\n",
       "      <th>2</th>\n",
       "      <td>1003000126</td>\n",
       "      <td>ENKESHAFI</td>\n",
       "      <td>ARDALAN</td>\n",
       "      <td>CUMBERLAND</td>\n",
       "      <td>MD</td>\n",
       "      <td>Internal Medicine</td>\n",
       "      <td>S</td>\n",
       "      <td>LISINOPRIL</td>\n",
       "      <td>LISINOPRIL</td>\n",
       "      <td>17.0</td>\n",
       "      <td>...</td>\n",
       "      <td>570</td>\n",
       "      <td>100.37</td>\n",
       "      <td>NaN</td>\n",
       "      <td>#</td>\n",
       "      <td>NaN</td>\n",
       "      <td>#</td>\n",
       "      <td>NaN</td>\n",
       "      <td>NaN</td>\n",
       "      <td>NaN</td>\n",
       "      <td>2013.0</td>\n",
       "    </tr>\n",
       "    <tr>\n",
       "      <th>3</th>\n",
       "      <td>1003000126</td>\n",
       "      <td>ENKESHAFI</td>\n",
       "      <td>ARDALAN</td>\n",
       "      <td>CUMBERLAND</td>\n",
       "      <td>MD</td>\n",
       "      <td>Internal Medicine</td>\n",
       "      <td>S</td>\n",
       "      <td>METOPROLOL TARTRATE</td>\n",
       "      <td>METOPROLOL TARTRATE</td>\n",
       "      <td>28.0</td>\n",
       "      <td>...</td>\n",
       "      <td>916</td>\n",
       "      <td>154.65</td>\n",
       "      <td>NaN</td>\n",
       "      <td>#</td>\n",
       "      <td>NaN</td>\n",
       "      <td>#</td>\n",
       "      <td>NaN</td>\n",
       "      <td>NaN</td>\n",
       "      <td>NaN</td>\n",
       "      <td>2013.0</td>\n",
       "    </tr>\n",
       "    <tr>\n",
       "      <th>4</th>\n",
       "      <td>1003000126</td>\n",
       "      <td>ENKESHAFI</td>\n",
       "      <td>ARDALAN</td>\n",
       "      <td>CUMBERLAND</td>\n",
       "      <td>MD</td>\n",
       "      <td>Internal Medicine</td>\n",
       "      <td>S</td>\n",
       "      <td>PREDNISONE</td>\n",
       "      <td>PREDNISONE</td>\n",
       "      <td>14.0</td>\n",
       "      <td>...</td>\n",
       "      <td>133</td>\n",
       "      <td>44.72</td>\n",
       "      <td>NaN</td>\n",
       "      <td>*</td>\n",
       "      <td>NaN</td>\n",
       "      <td>*</td>\n",
       "      <td>NaN</td>\n",
       "      <td>NaN</td>\n",
       "      <td>NaN</td>\n",
       "      <td>2013.0</td>\n",
       "    </tr>\n",
       "  </tbody>\n",
       "</table>\n",
       "<p>5 rows × 22 columns</p>\n",
       "</div>"
      ],
      "text/plain": [
       "          npi nppes_provider_last_org_name nppes_provider_first_name  \\\n",
       "0  1003000126                    ENKESHAFI                   ARDALAN   \n",
       "1  1003000126                    ENKESHAFI                   ARDALAN   \n",
       "2  1003000126                    ENKESHAFI                   ARDALAN   \n",
       "3  1003000126                    ENKESHAFI                   ARDALAN   \n",
       "4  1003000126                    ENKESHAFI                   ARDALAN   \n",
       "\n",
       "  nppes_provider_city nppes_provider_state specialty_description  \\\n",
       "0          CUMBERLAND                   MD     Internal Medicine   \n",
       "1          CUMBERLAND                   MD     Internal Medicine   \n",
       "2          CUMBERLAND                   MD     Internal Medicine   \n",
       "3          CUMBERLAND                   MD     Internal Medicine   \n",
       "4          CUMBERLAND                   MD     Internal Medicine   \n",
       "\n",
       "  description_flag                  drug_name            generic_name  \\\n",
       "0                S  ISOSORBIDE MONONITRATE ER  ISOSORBIDE MONONITRATE   \n",
       "1                S               LEVOFLOXACIN            LEVOFLOXACIN   \n",
       "2                S                 LISINOPRIL              LISINOPRIL   \n",
       "3                S        METOPROLOL TARTRATE     METOPROLOL TARTRATE   \n",
       "4                S                 PREDNISONE              PREDNISONE   \n",
       "\n",
       "   bene_count   ...    total_day_supply  total_drug_cost  bene_count_ge65  \\\n",
       "0         NaN   ...                 307           171.59              NaN   \n",
       "1        26.0   ...                 165           227.10             15.0   \n",
       "2        17.0   ...                 570           100.37              NaN   \n",
       "3        28.0   ...                 916           154.65              NaN   \n",
       "4        14.0   ...                 133            44.72              NaN   \n",
       "\n",
       "   bene_count_ge65_suppress_flag  total_claim_count_ge65 ge65_suppress_flag  \\\n",
       "0                              *                     NaN                  *   \n",
       "1                            NaN                    15.0                NaN   \n",
       "2                              #                     NaN                  #   \n",
       "3                              #                     NaN                  #   \n",
       "4                              *                     NaN                  *   \n",
       "\n",
       "   total_30_day_fill_count_ge65 total_day_supply_ge65  total_drug_cost_ge65  \\\n",
       "0                           NaN                   NaN                   NaN   \n",
       "1                          15.0                 106.0                159.72   \n",
       "2                           NaN                   NaN                   NaN   \n",
       "3                           NaN                   NaN                   NaN   \n",
       "4                           NaN                   NaN                   NaN   \n",
       "\n",
       "     year  \n",
       "0  2013.0  \n",
       "1  2013.0  \n",
       "2  2013.0  \n",
       "3  2013.0  \n",
       "4  2013.0  \n",
       "\n",
       "[5 rows x 22 columns]"
      ]
     },
     "execution_count": 35,
     "metadata": {},
     "output_type": "execute_result"
    }
   ],
   "source": [
    "df = pd.read_csv(\"data/medicare_partD_2013.csv\", nrows=10**3)\n",
    "df.head()"
   ]
  },
  {
   "cell_type": "code",
   "execution_count": 24,
   "metadata": {},
   "outputs": [],
   "source": [
    "df.to_csv(\"{}medicare_partD_{}.csv\".format(\"data/\", '2013_1'), header=True, index=False)\n"
   ]
  },
  {
   "cell_type": "code",
   "execution_count": null,
   "metadata": {},
   "outputs": [],
   "source": [
    "import time\n",
    "from sqlalchemy import create_engine\n",
    "sql_string = 'postgresql+psycopg2://{}:@{}/{}'.format(user, host, dbname)\n",
    "engine = create_engine(sql_string, echo=True)\n",
    "\n",
    "start_time = time.time()\n",
    "# load data_frame to the healthcarefraud PSQL DB: medicare_part_d table using pandas\n",
    "df.to_sql(\"medicare_part_d\", engine, if_exists='append')\n",
    "end_time = time.time()\n",
    "print(\"total time taken this loop: \", end_time - start_time)"
   ]
  },
  {
   "cell_type": "code",
   "execution_count": null,
   "metadata": {},
   "outputs": [],
   "source": [
    "conn_string = \"host='{}' port='{}' dbname='{}' user='{}'\".format(host, port, dbname, user)\n",
    "conn = psycopg2.connect(conn_string)\n",
    "cur = conn.cursor()\n",
    "fpath = 'data/medicare_partD_2013.csv'\n",
    "table_name = 'medicare_part_d'\n",
    "with open('{}'.format(fpath), 'r') as f:\n",
    "    # Notice that we don't need the `csv` module.\n",
    "    next(f)  # Skip the header row.\n",
    "    cur.copy_from(f, table_name, sep=',')\n",
    "    \n",
    "conn.commit()"
   ]
  },
  {
   "cell_type": "code",
   "execution_count": null,
   "metadata": {},
   "outputs": [],
   "source": [
    "# load the whole file to the database using psycopg\n",
    "\n",
    "conn = psycopg2.connect(\"host='localhost' port='5432' dbname='healthcarefraud' user='postgres'\")\n",
    "cur = conn.cursor()\n",
    "\n",
    "f = open(r'data/medicare_partD_2013.csv', 'r')\n",
    "cur.copy_from(f, 'medicare_part_d', sep=',')\n",
    "f.close()"
   ]
  },
  {
   "cell_type": "code",
   "execution_count": null,
   "metadata": {},
   "outputs": [],
   "source": [
    "df.info()"
   ]
  },
  {
   "cell_type": "code",
   "execution_count": null,
   "metadata": {},
   "outputs": [],
   "source": [
    "x = df[\"bene_count\"].values\n",
    "np.max(x[~np.isnan(x)])"
   ]
  },
  {
   "cell_type": "code",
   "execution_count": null,
   "metadata": {},
   "outputs": [],
   "source": [
    "unique_vals = list(set(df[\"ge65_suppress_flag\"].values))\n",
    "unique_vals\n",
    "no_nans = [x for x in unique_vals if str(x) != 'nan']\n",
    "np.max(list(map(lambda x: len(x), list(no_nans)[1:])))"
   ]
  },
  {
   "cell_type": "code",
   "execution_count": null,
   "metadata": {},
   "outputs": [],
   "source": []
  },
  {
   "cell_type": "code",
   "execution_count": null,
   "metadata": {},
   "outputs": [],
   "source": [
    "df.info()"
   ]
  },
  {
   "cell_type": "code",
   "execution_count": null,
   "metadata": {},
   "outputs": [],
   "source": []
  },
  {
   "cell_type": "code",
   "execution_count": null,
   "metadata": {},
   "outputs": [],
   "source": []
  },
  {
   "cell_type": "code",
   "execution_count": null,
   "metadata": {},
   "outputs": [],
   "source": []
  },
  {
   "cell_type": "code",
   "execution_count": null,
   "metadata": {},
   "outputs": [],
   "source": []
  },
  {
   "cell_type": "code",
   "execution_count": null,
   "metadata": {},
   "outputs": [],
   "source": []
  },
  {
   "cell_type": "code",
   "execution_count": null,
   "metadata": {},
   "outputs": [],
   "source": []
  },
  {
   "cell_type": "code",
   "execution_count": null,
   "metadata": {},
   "outputs": [],
   "source": []
  },
  {
   "cell_type": "code",
   "execution_count": null,
   "metadata": {},
   "outputs": [],
   "source": []
  },
  {
   "cell_type": "code",
   "execution_count": null,
   "metadata": {},
   "outputs": [],
   "source": []
  },
  {
   "cell_type": "code",
   "execution_count": null,
   "metadata": {},
   "outputs": [],
   "source": []
  },
  {
   "cell_type": "code",
   "execution_count": null,
   "metadata": {},
   "outputs": [],
   "source": [
    "columns = ['npi', 'nppes_provider_last_org_name', 'nppes_provider_first_name',\n",
    "       'nppes_provider_city', 'nppes_provider_state', 'specialty_description',\n",
    "       'drug_name', #'bene_count',\n",
    "       #'total_claim_count', #'total_30_day_fill_count', 'total_day_supply',\n",
    "       'total_drug_cost', #'bene_count_ge65',\n",
    "       #'total_claim_count_ge65',\n",
    "       #'total_30_day_fill_count_ge65', 'total_day_supply_ge65',\n",
    "       #'total_drug_cost_ge65'\n",
    "          ]\n",
    "\n",
    "dtype = {'npi': int, \n",
    "         'nppes_provider_last_org_name': str, \n",
    "         'nppes_provider_first_name': str, \n",
    "         'nppes_provider_city': str, \n",
    "         'nppes_provider_state': str, \n",
    "         'specialty_description': str,\n",
    "         'drug_name': str, \n",
    "         # 'bene_count': int,\n",
    "         #'total_claim_count': int, \n",
    "         #'total_30_day_fill_count': int, \n",
    "         #'total_day_supply': int,\n",
    "         #'total_drug_cost': int, \n",
    "         #'bene_count_ge65': int,\n",
    "         #'total_claim_count_ge65': int,\n",
    "         #'total_30_day_fill_count_ge65': int, \n",
    "         #'total_day_supply_ge65': int,\n",
    "         #'total_drug_cost_ge65': int\n",
    "        }\n",
    "years = (2013, 2014, 2015, 2016)"
   ]
  },
  {
   "cell_type": "code",
   "execution_count": null,
   "metadata": {},
   "outputs": [],
   "source": [
    "# load data\n",
    "t0 = time.time()\n",
    "\n",
    "chunksize = 10**4\n",
    "super_x = []\n",
    "for chunk in pd.read_csv(\"PartD_Prescriber_PUF_NPI_Drug_13.txt\", sep=\"\\t\",\n",
    "                         low_memory=False, chunksize = chunksize, \n",
    "                         usecols = columns, dtype = dtype):\n",
    "    temp = chunk\n",
    "    temp['year'] = pd.Series([2013] * len(temp))\n",
    "    super_x.append(temp)\n",
    "df = pd.concat(super_x, axis=0)\n",
    "\n",
    "t1 = time.time()\n",
    "total = t1-t0\n",
    "gc.collect()\n",
    "total"
   ]
  },
  {
   "cell_type": "code",
   "execution_count": null,
   "metadata": {},
   "outputs": [],
   "source": [
    "# process drug data\n",
    "t0 = time.time()\n",
    "\n",
    "# calculate total_drug_cost for each npi\n",
    "npi = df.groupby(\"npi\").agg({\"total_drug_cost\":\"sum\"})\n",
    "# calculate total_drug_cost for each drug_name and npi\n",
    "npi_drug_name = df.groupby([\"npi\",\"drug_name\"]).agg({\"total_drug_cost\":\"sum\"})\n",
    "# calculate distribution by drug_name as a total_drug_cost for each npi\n",
    "df1 = npi_drug_name.div(npi, level = 'npi').reset_index()\n",
    "del npi_drug_name #clear memory\n",
    "# transform the data into a feature matrix \n",
    "df2 = df1.pivot(index = 'npi', columns = 'drug_name', values = 'total_drug_cost')\n",
    "del df1 #clear memory\n",
    "# clean-up headers\n",
    "df3 = df2.rename_axis(None, axis = 1)\n",
    "del df2 #clear memory\n",
    "# fill NaNs w/ zeros\n",
    "df4 = df3.fillna(0)\n",
    "del df3 #clear memory\n",
    "# join total_drug_costs to the distribution by drug datafram, df4\n",
    "df_drugs = df4.join(npi)\n",
    "del df4, npi\n",
    "\n",
    "t1 = time.time()\n",
    "total = t1-t0\n",
    "gc.collect()\n",
    "total"
   ]
  },
  {
   "cell_type": "code",
   "execution_count": null,
   "metadata": {},
   "outputs": [],
   "source": [
    "# process prescriber specialty data\n",
    "t0 = time.time()\n",
    "\n",
    "# build a data frame with npi and specialty_description & drop duplicates\n",
    "df1 = df[[\"npi\",\"specialty_description\"]].drop_duplicates()\n",
    "# add ones array to the dataframe for a pivot operation\n",
    "df1[\"ones\"] = np.array([True] * len(df1))\n",
    "# transfrom the data into feature matrix\n",
    "df2 = df1.pivot(index = 'npi', columns = 'specialty_description', values = 'ones').reset_index()\n",
    "del df1 #clear memory\n",
    "# clean-up headers\n",
    "df3 = df2.rename_axis(None, axis = 1)\n",
    "del df2 #clear memory\n",
    "# fill NaNs w/ Falses\n",
    "df_specialty = df3.fillna(False).set_index(\"npi\", drop=True)\n",
    "del df3 #clear memory\n",
    "\n",
    "t1 = time.time()\n",
    "total = t1-t0\n",
    "gc.collect()\n",
    "total"
   ]
  },
  {
   "cell_type": "code",
   "execution_count": null,
   "metadata": {},
   "outputs": [],
   "source": [
    "# build master feature matrix by merging df_drugs and df_specialty\n",
    "partD_2013 = df_drugs.join(df_specialty)\n",
    "del df_drugs, df_specialty"
   ]
  },
  {
   "cell_type": "code",
   "execution_count": null,
   "metadata": {},
   "outputs": [],
   "source": [
    "# import and porcess excluded provider list\n",
    "excluded_npis = np.loadtxt(\"excluded.txt\")\n",
    "all_npis = partD_2013.index.values\n",
    "excluded = []\n",
    "for npi in all_npis:\n",
    "    if npi in excluded_npis:\n",
    "        excluded.append(1)\n",
    "    else:\n",
    "        excluded.append(0)\n",
    "excluded = pd.DataFrame(excluded, index = all_npis, columns = [\"excluded\"])\n",
    "excluded.index.name = 'npi'\n",
    "del excluded_npis, all_npis\n",
    "gc.collect()"
   ]
  },
  {
   "cell_type": "code",
   "execution_count": null,
   "metadata": {},
   "outputs": [],
   "source": [
    "# prepare for training\n",
    "from sklearn.model_selection import train_test_split\n",
    "X_train, X_test, y_train, y_test = train_test_split(partD_2013, excluded.values.ravel(), test_size=0.2)"
   ]
  },
  {
   "cell_type": "code",
   "execution_count": null,
   "metadata": {},
   "outputs": [],
   "source": [
    "gc.collect()"
   ]
  },
  {
   "cell_type": "code",
   "execution_count": null,
   "metadata": {},
   "outputs": [],
   "source": [
    "from sklearn.ensemble import RandomForestClassifier\n",
    "rf = RandomForestClassifier(n_estimators = 50, n_jobs=-1, oob_score=True)\n",
    "rf.fit(X_train,y_train)"
   ]
  },
  {
   "cell_type": "code",
   "execution_count": null,
   "metadata": {},
   "outputs": [],
   "source": [
    "y_pred = rf.predict(X_test)"
   ]
  },
  {
   "cell_type": "code",
   "execution_count": null,
   "metadata": {},
   "outputs": [],
   "source": [
    "list(partD_2013)"
   ]
  },
  {
   "cell_type": "code",
   "execution_count": null,
   "metadata": {},
   "outputs": [],
   "source": [
    "from sklearn import metrics\n",
    "cf = metrics.confusion_matrix(y_pred, y_test)"
   ]
  },
  {
   "cell_type": "code",
   "execution_count": null,
   "metadata": {},
   "outputs": [],
   "source": [
    "importances = rf.feature_importances_\n",
    "indices = np.argsort(importances)[::-1]\n",
    "print(\"Feature ranking:\")\n",
    "\n",
    "for f in range(partD_2013.shape[1]):\n",
    "    print(\"%d. feature %s (%f)\" % (f + 1, list(partD_2013)[indices[f]], importances[indices[f]]))"
   ]
  },
  {
   "cell_type": "code",
   "execution_count": null,
   "metadata": {},
   "outputs": [],
   "source": []
  }
 ],
 "metadata": {
  "kernelspec": {
   "display_name": "Python 3",
   "language": "python",
   "name": "python3"
  },
  "language_info": {
   "codemirror_mode": {
    "name": "ipython",
    "version": 3
   },
   "file_extension": ".py",
   "mimetype": "text/x-python",
   "name": "python",
   "nbconvert_exporter": "python",
   "pygments_lexer": "ipython3",
   "version": "3.6.4"
  }
 },
 "nbformat": 4,
 "nbformat_minor": 2
}
