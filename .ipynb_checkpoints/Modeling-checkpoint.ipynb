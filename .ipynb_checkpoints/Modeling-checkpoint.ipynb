{
 "cells": [
  {
   "cell_type": "code",
   "execution_count": 30,
   "metadata": {},
   "outputs": [
    {
     "name": "stderr",
     "output_type": "stream",
     "text": [
      "/home/ec2-user/anaconda3/envs/python3/lib/python3.6/site-packages/numpy/lib/arraysetops.py:472: FutureWarning: elementwise comparison failed; returning scalar instead, but in the future will perform elementwise comparison\n",
      "  mask |= (ar1 == a)\n"
     ]
    }
   ],
   "source": [
    "#Import libraries:\n",
    "%reload_ext autoreload\n",
    "import time\n",
    "import pandas as pd\n",
    "import numpy as np\n",
    "import matplotlib.pyplot as plt\n",
    "%matplotlib inline\n",
    "plt.style.use(\"ggplot\")\n",
    "\n",
    "from sklearn.ensemble import GradientBoostingClassifier  #GBM algorithm\n",
    "from sklearn.ensemble import RandomForestClassifier  #Random Forest algorithm\n",
    "from sklearn.ensemble import AdaBoostClassifier  #Random Forest algorithm\n",
    "from sklearn import metrics   #Additional scklearn functions\n",
    "from sklearn.model_selection import cross_val_score, train_test_split\n",
    "from sklearn.grid_search import GridSearchCV   #Perforing grid search\n",
    "from sklearn.metrics import roc_curve, auc, confusion_matrix, recall_score\n",
    "\n",
    "%autoreload 2\n",
    "import src.scripts as src\n",
    "\n",
    "df = src.read_from_efs('df_npi.csv').reset_index()"
   ]
  },
  {
   "cell_type": "code",
   "execution_count": 31,
   "metadata": {},
   "outputs": [
    {
     "data": {
      "text/html": [
       "<div>\n",
       "<style scoped>\n",
       "    .dataframe tbody tr th:only-of-type {\n",
       "        vertical-align: middle;\n",
       "    }\n",
       "\n",
       "    .dataframe tbody tr th {\n",
       "        vertical-align: top;\n",
       "    }\n",
       "\n",
       "    .dataframe thead th {\n",
       "        text-align: right;\n",
       "    }\n",
       "</style>\n",
       "<table border=\"1\" class=\"dataframe\">\n",
       "  <thead>\n",
       "    <tr style=\"text-align: right;\">\n",
       "      <th></th>\n",
       "      <th>npi</th>\n",
       "      <th>bene_count</th>\n",
       "      <th>total_claim_count</th>\n",
       "      <th>total_30_day_fill_count</th>\n",
       "      <th>total_day_supply</th>\n",
       "      <th>total_drug_cost</th>\n",
       "      <th>cost_per_bene</th>\n",
       "      <th>cost_per_claim</th>\n",
       "      <th>label</th>\n",
       "    </tr>\n",
       "  </thead>\n",
       "  <tbody>\n",
       "    <tr>\n",
       "      <th>0</th>\n",
       "      <td>1003000126</td>\n",
       "      <td>984.0</td>\n",
       "      <td>1357</td>\n",
       "      <td>1417.2</td>\n",
       "      <td>31568</td>\n",
       "      <td>48902.50</td>\n",
       "      <td>49.697663</td>\n",
       "      <td>36.037214</td>\n",
       "      <td>False</td>\n",
       "    </tr>\n",
       "    <tr>\n",
       "      <th>1</th>\n",
       "      <td>1003000142</td>\n",
       "      <td>1143.0</td>\n",
       "      <td>4522</td>\n",
       "      <td>4688.1</td>\n",
       "      <td>134063</td>\n",
       "      <td>301708.47</td>\n",
       "      <td>263.961916</td>\n",
       "      <td>66.720139</td>\n",
       "      <td>False</td>\n",
       "    </tr>\n",
       "    <tr>\n",
       "      <th>2</th>\n",
       "      <td>1003000167</td>\n",
       "      <td>70.0</td>\n",
       "      <td>152</td>\n",
       "      <td>154.1</td>\n",
       "      <td>1343</td>\n",
       "      <td>694.58</td>\n",
       "      <td>9.922571</td>\n",
       "      <td>4.569605</td>\n",
       "      <td>False</td>\n",
       "    </tr>\n",
       "    <tr>\n",
       "      <th>3</th>\n",
       "      <td>1003000282</td>\n",
       "      <td>42.0</td>\n",
       "      <td>55</td>\n",
       "      <td>59.0</td>\n",
       "      <td>1481</td>\n",
       "      <td>736.02</td>\n",
       "      <td>17.524286</td>\n",
       "      <td>13.382182</td>\n",
       "      <td>False</td>\n",
       "    </tr>\n",
       "    <tr>\n",
       "      <th>4</th>\n",
       "      <td>1003000407</td>\n",
       "      <td>1245.0</td>\n",
       "      <td>3042</td>\n",
       "      <td>3054.9</td>\n",
       "      <td>59672</td>\n",
       "      <td>124382.85</td>\n",
       "      <td>99.905904</td>\n",
       "      <td>40.888511</td>\n",
       "      <td>False</td>\n",
       "    </tr>\n",
       "  </tbody>\n",
       "</table>\n",
       "</div>"
      ],
      "text/plain": [
       "          npi  bene_count  total_claim_count  total_30_day_fill_count  \\\n",
       "0  1003000126       984.0               1357                   1417.2   \n",
       "1  1003000142      1143.0               4522                   4688.1   \n",
       "2  1003000167        70.0                152                    154.1   \n",
       "3  1003000282        42.0                 55                     59.0   \n",
       "4  1003000407      1245.0               3042                   3054.9   \n",
       "\n",
       "   total_day_supply  total_drug_cost  cost_per_bene  cost_per_claim  label  \n",
       "0             31568         48902.50      49.697663       36.037214  False  \n",
       "1            134063        301708.47     263.961916       66.720139  False  \n",
       "2              1343           694.58       9.922571        4.569605  False  \n",
       "3              1481           736.02      17.524286       13.382182  False  \n",
       "4             59672        124382.85      99.905904       40.888511  False  "
      ]
     },
     "execution_count": 31,
     "metadata": {},
     "output_type": "execute_result"
    }
   ],
   "source": [
    "df.head()"
   ]
  },
  {
   "cell_type": "code",
   "execution_count": 3,
   "metadata": {},
   "outputs": [],
   "source": [
    "target = 'label'\n",
    "IDcol = 'npi'"
   ]
  },
  {
   "cell_type": "code",
   "execution_count": 38,
   "metadata": {},
   "outputs": [],
   "source": [
    "class Model:\n",
    "    def __init__(self):\n",
    "        self.y_pred = None\n",
    "        self.y_prob = None\n",
    "        self.alg = None\n",
    "\n",
    "    def modelfit(self, alg, dtrain, predictors, performCV=True, printFeatureImportance=True, cv_folds=5):\n",
    "        #Fit the algorithm on the data\n",
    "        alg.fit(dtrain[predictors], dtrain[target])\n",
    "        self.alg = alg\n",
    "        \n",
    "        #Predict training set:\n",
    "        dtrain_predictions = alg.predict(dtrain[predictors])\n",
    "        self.y_pred = dtrain_predictions\n",
    "        dtrain_predprob = alg.predict_proba(dtrain[predictors])[:,1]\n",
    "        self.y_prob = dtrain_predprob\n",
    "\n",
    "        #Perform cross-validation:\n",
    "        if performCV:\n",
    "            cv_score = cross_val_score(alg, dtrain[predictors], dtrain[target], cv=cv_folds, scoring='auc')\n",
    "\n",
    "        #Print model report:\n",
    "        print(\"\\nModel Report\")\n",
    "        print(\"Accuracy : %.4g\" % metrics.accuracy_score(dtrain[target].values, dtrain_predictions))\n",
    "        print(\"AUC Score (Train): %f\" % metrics.roc_auc_score(dtrain[target], dtrain_predprob))\n",
    "\n",
    "        if performCV:\n",
    "            print(\"CV Score : Mean - %.7g | Std - %.7g | Min - %.7g | Max - %.7g\" % (np.mean(cv_score),np.std(cv_score),np.min(cv_score),np.max(cv_score)))\n",
    "\n",
    "        #Print Feature Importance:\n",
    "        if printFeatureImportance:\n",
    "            feat_imp = pd.Series(alg.feature_importances_, predictors).sort_values(ascending=False)\n",
    "            feat_imp.plot(kind='bar', title='Feature Importances')\n",
    "            plt.ylabel('Feature Importance Score')"
   ]
  },
  {
   "cell_type": "code",
   "execution_count": 35,
   "metadata": {},
   "outputs": [
    {
     "name": "stdout",
     "output_type": "stream",
     "text": [
      "\n",
      "Model Report\n",
      "Accuracy : 0.9997\n",
      "AUC Score (Train): 0.999995\n",
      "CV Score : Mean - -0.03755882 | Std - 0.000323427 | Min - -0.03796272 | Max - -0.03698523\n",
      "Duration in seconds:  141.41539573669434\n"
     ]
    },
    {
     "data": {
      "image/png": "[encoded data removed]",
      "text/plain": [
       "<Figure size 432x288 with 1 Axes>"
      ]
     },
     "metadata": {},
     "output_type": "display_data"
    }
   ],
   "source": [
    "#Train test split\n",
    "train, test = train_test_split(df, test_size=.2, stratify=df[target])\n",
    "\n",
    "#Choose all predictors except target & IDcols\n",
    "s_time = time.time()\n",
    "model = Model()\n",
    "predictors = [x for x in train.columns if x not in [target, IDcol]]\n",
    "# cf = GradientBoostingClassifier(random_state=10) #Classifier algo\n",
    "cf = RandomForestClassifier(random_state=10) #Classifier algo\n",
    "model.modelfit(cf, train, predictors)\n",
    "e_time = time.time()\n",
    "print('Duration in seconds: ', e_time - s_time)"
   ]
  },
  {
   "cell_type": "code",
   "execution_count": 37,
   "metadata": {},
   "outputs": [
    {
     "name": "stdout",
     "output_type": "stream",
     "text": [
      "0 3\n",
      "208412 225\n",
      "1.0\n"
     ]
    }
   ],
   "source": [
    "# confusion matrix\n",
    "y_test = test[target]\n",
    "y_pred = model.alg.predict(test[predictors])\n",
    "tn, fp, fn, tp = confusion_matrix(y_test, y_pred).ravel()\n",
    "print(tp, fp)\n",
    "print(tn, fn)\n",
    "print(fn/(fn+tp))"
   ]
  },
  {
   "cell_type": "code",
   "execution_count": 23,
   "metadata": {},
   "outputs": [
    {
     "data": {
      "image/png": "[encoded data removed]",
      "text/plain": [
       "<Figure size 432x288 with 1 Axes>"
      ]
     },
     "metadata": {},
     "output_type": "display_data"
    }
   ],
   "source": [
    "# ROC Curve\n",
    "y_prob = model.y_prob\n",
    "y_test = train['label']\n",
    "\n",
    "fpr, tpr, threshold = roc_curve(y_test, y_prob)\n",
    "roc_auc = auc(fpr, tpr)\n",
    "\n",
    "# method I: plt\n",
    "import matplotlib.pyplot as plt\n",
    "plt.title('Receiver Operating Characteristic')\n",
    "plt.plot(fpr, tpr, 'b', label = 'AUC = %0.2f' % roc_auc)\n",
    "plt.legend(loc = 'lower right')\n",
    "plt.plot([0, 1], [0, 1],'r--')\n",
    "plt.xlim([0, 1])\n",
    "plt.ylim([0, 1])\n",
    "plt.ylabel('True Positive Rate')\n",
    "plt.xlabel('False Positive Rate')\n",
    "plt.show()"
   ]
  },
  {
   "cell_type": "code",
   "execution_count": null,
   "metadata": {},
   "outputs": [],
   "source": []
  },
  {
   "cell_type": "code",
   "execution_count": 11,
   "metadata": {},
   "outputs": [
    {
     "data": {
      "text/plain": [
       "1125"
      ]
     },
     "execution_count": 11,
     "metadata": {},
     "output_type": "execute_result"
    }
   ],
   "source": []
  },
  {
   "cell_type": "code",
   "execution_count": null,
   "metadata": {},
   "outputs": [],
   "source": []
  },
  {
   "cell_type": "code",
   "execution_count": null,
   "metadata": {},
   "outputs": [],
   "source": []
  },
  {
   "cell_type": "code",
   "execution_count": null,
   "metadata": {},
   "outputs": [],
   "source": []
  },
  {
   "cell_type": "code",
   "execution_count": null,
   "metadata": {},
   "outputs": [],
   "source": []
  },
  {
   "cell_type": "code",
   "execution_count": null,
   "metadata": {},
   "outputs": [],
   "source": []
  },
  {
   "cell_type": "code",
   "execution_count": null,
   "metadata": {},
   "outputs": [],
   "source": []
  },
  {
   "cell_type": "code",
   "execution_count": 6,
   "metadata": {},
   "outputs": [],
   "source": []
  },
  {
   "cell_type": "code",
   "execution_count": 14,
   "metadata": {},
   "outputs": [
    {
     "name": "stdout",
     "output_type": "stream",
     "text": [
      "Number of available CPU cores: \n",
      "64\n"
     ]
    }
   ],
   "source": [
    "processors = 64\n",
    "print(\"Number of available CPU cores: \")\n",
    "!cat /proc/cpuinfo | grep processor | wc -l"
   ]
  },
  {
   "cell_type": "code",
   "execution_count": null,
   "metadata": {},
   "outputs": [],
   "source": [
    "s_time = time.time()\n",
    "\n",
    "#Choose all predictors except target & IDcols\n",
    "predictors = [x for x in train.columns if x not in [target, IDcol]]\n",
    "\n",
    "#Gridsearch for optimal number of estimators\n",
    "param_test1 = {'n_estimators': list(range(20,101,10))}\n",
    "\n",
    "gsearch1 = GridSearchCV(estimator = GradientBoostingClassifier(learning_rate=0.5, \n",
    "                                                               min_samples_split=500,\n",
    "                                                               min_samples_leaf=50,\n",
    "                                                               max_depth=8,\n",
    "                                                               max_features='sqrt',\n",
    "                                                               subsample=0.8,\n",
    "                                                               random_state=10),\n",
    "                        param_grid = param_test1, \n",
    "                        scoring='roc_auc', \n",
    "                        n_jobs=processors,\n",
    "                        iid=False, \n",
    "                        cv=5)\n",
    "\n",
    "gsearch1.fit(train[predictors],train[target])\n",
    "e_time = time.time()\n",
    "print('Duration in seconds: ', e_time - s_time)\n",
    "gsearch1.grid_scores_, gsearch2.best_params_, gsearch2.best_score_"
   ]
  },
  {
   "cell_type": "code",
   "execution_count": 65,
   "metadata": {},
   "outputs": [
    {
     "data": {
      "text/plain": [
       "([mean: 0.65404, std: 0.01445, params: {'n_estimators': 20},\n",
       "  mean: 0.65490, std: 0.01606, params: {'n_estimators': 30},\n",
       "  mean: 0.65494, std: 0.01718, params: {'n_estimators': 40},\n",
       "  mean: 0.65512, std: 0.01731, params: {'n_estimators': 50},\n",
       "  mean: 0.65660, std: 0.01702, params: {'n_estimators': 60},\n",
       "  mean: 0.65575, std: 0.01557, params: {'n_estimators': 70},\n",
       "  mean: 0.65712, std: 0.01713, params: {'n_estimators': 80}],\n",
       " {'n_estimators': 80},\n",
       " 0.657116199111557)"
      ]
     },
     "execution_count": 65,
     "metadata": {},
     "output_type": "execute_result"
    }
   ],
   "source": [
    "gsearch1.grid_scores_, gsearch1.best_params_, gsearch1.best_score_"
   ]
  },
  {
   "cell_type": "code",
   "execution_count": 44,
   "metadata": {},
   "outputs": [
    {
     "data": {
      "text/html": [
       "<div>\n",
       "<style scoped>\n",
       "    .dataframe tbody tr th:only-of-type {\n",
       "        vertical-align: middle;\n",
       "    }\n",
       "\n",
       "    .dataframe tbody tr th {\n",
       "        vertical-align: top;\n",
       "    }\n",
       "\n",
       "    .dataframe thead th {\n",
       "        text-align: right;\n",
       "    }\n",
       "</style>\n",
       "<table border=\"1\" class=\"dataframe\">\n",
       "  <thead>\n",
       "    <tr style=\"text-align: right;\">\n",
       "      <th></th>\n",
       "    </tr>\n",
       "  </thead>\n",
       "  <tbody>\n",
       "  </tbody>\n",
       "</table>\n",
       "</div>"
      ],
      "text/plain": [
       "Empty DataFrame\n",
       "Columns: []\n",
       "Index: []"
      ]
     },
     "execution_count": 44,
     "metadata": {},
     "output_type": "execute_result"
    }
   ],
   "source": [
    "\n",
    "param_test2 = {'max_depth':range(5,16,2), \n",
    "               'min_samples_split':list(range(200,1001,200))}\n",
    "\n",
    "gsearch2 = GridSearchCV(estimator = GradientBoostingClassifier(learning_rate=0.1, \n",
    "                                                               n_estimators=60, \n",
    "                                                               max_features='sqrt', \n",
    "                                                               subsample=0.8, \n",
    "                                                               random_state=10), \n",
    "                        param_grid = param_test2, \n",
    "                        scoring='roc_auc',\n",
    "                        n_jobs=processors,\n",
    "                        iid=False, \n",
    "                        cv=5)\n",
    "\n",
    "gsearch2.fit(train[predictors],train[target])\n",
    "gsearch2.grid_scores_, gsearch2.best_params_, gsearch2.best_score_"
   ]
  },
  {
   "cell_type": "code",
   "execution_count": 16,
   "metadata": {},
   "outputs": [
    {
     "data": {
      "image/png": "[encoded data removed]",
      "text/plain": [
       "<Figure size 432x288 with 1 Axes>"
      ]
     },
     "metadata": {},
     "output_type": "display_data"
    }
   ],
   "source": [
    "param_test3 = {'min_samples_split':range(1000,2100,200), \n",
    "               'min_samples_leaf':range(30,71,10)}\n",
    "\n",
    "gsearch3 = GridSearchCV(estimator = GradientBoostingClassifier(learning_rate=0.1, \n",
    "                                                               n_estimators=60,\n",
    "                                                               max_depth=9,\n",
    "                                                               max_features='sqrt', \n",
    "                                                               subsample=0.8, \n",
    "                                                               random_state=10),\n",
    "                        param_grid = param_test3, \n",
    "                        scoring='roc_auc',\n",
    "                        n_jobs=processors,\n",
    "                        iid=False, \n",
    "                        cv=5)\n",
    "\n",
    "gsearch3.fit(train[predictors],train[target])\n",
    "gsearch3.grid_scores_, gsearch3.best_params_, gsearch3.best_score_\n"
   ]
  },
  {
   "cell_type": "code",
   "execution_count": 17,
   "metadata": {},
   "outputs": [
    {
     "data": {
      "text/html": [
       "<div>\n",
       "<style scoped>\n",
       "    .dataframe tbody tr th:only-of-type {\n",
       "        vertical-align: middle;\n",
       "    }\n",
       "\n",
       "    .dataframe tbody tr th {\n",
       "        vertical-align: top;\n",
       "    }\n",
       "\n",
       "    .dataframe thead th {\n",
       "        text-align: right;\n",
       "    }\n",
       "</style>\n",
       "<table border=\"1\" class=\"dataframe\">\n",
       "  <thead>\n",
       "    <tr style=\"text-align: right;\">\n",
       "      <th>Actual</th>\n",
       "      <th>False</th>\n",
       "      <th>True</th>\n",
       "    </tr>\n",
       "    <tr>\n",
       "      <th>Predicted</th>\n",
       "      <th></th>\n",
       "      <th></th>\n",
       "    </tr>\n",
       "  </thead>\n",
       "  <tbody>\n",
       "    <tr>\n",
       "      <th>False</th>\n",
       "      <td>39333</td>\n",
       "      <td>400</td>\n",
       "    </tr>\n",
       "    <tr>\n",
       "      <th>True</th>\n",
       "      <td>53</td>\n",
       "      <td>0</td>\n",
       "    </tr>\n",
       "  </tbody>\n",
       "</table>\n",
       "</div>"
      ],
      "text/plain": [
       "Actual     False  True \n",
       "Predicted              \n",
       "False      39333    400\n",
       "True          53      0"
      ]
     },
     "execution_count": 17,
     "metadata": {},
     "output_type": "execute_result"
    }
   ],
   "source": [
    "modelfit(gsearch3.best_estimator_, train, predictors)"
   ]
  },
  {
   "cell_type": "code",
   "execution_count": null,
   "metadata": {},
   "outputs": [],
   "source": [
    "param_test4 = {'max_features':range(7,20,2)}\n",
    "\n",
    "gsearch4 = GridSearchCV(estimator = GradientBoostingClassifier(learning_rate=0.1, \n",
    "                                                               n_estimators=60,\n",
    "                                                               max_depth=9, \n",
    "                                                               min_samples_split=1200, \n",
    "                                                               min_samples_leaf=60, \n",
    "                                                               subsample=0.8, \n",
    "                                                               random_state=10),\n",
    "                        param_grid = param_test4, scoring='roc_auc',n_jobs=4,iid=False, cv=5)\n",
    "\n",
    "gsearch4.fit(train[predictors],train[target])\n",
    "gsearch4.grid_scores_, gsearch4.best_params_, gsearch4.best_score_"
   ]
  },
  {
   "cell_type": "code",
   "execution_count": null,
   "metadata": {},
   "outputs": [],
   "source": []
  }
 ],
 "metadata": {
  "kernelspec": {
   "display_name": "conda_python3",
   "language": "python",
   "name": "conda_python3"
  },
  "language_info": {
   "codemirror_mode": {
    "name": "ipython",
    "version": 3
   },
   "file_extension": ".py",
   "mimetype": "text/x-python",
   "name": "python",
   "nbconvert_exporter": "python",
   "pygments_lexer": "ipython3",
   "version": "3.6.4"
  }
 },
 "nbformat": 4,
 "nbformat_minor": 2
}
