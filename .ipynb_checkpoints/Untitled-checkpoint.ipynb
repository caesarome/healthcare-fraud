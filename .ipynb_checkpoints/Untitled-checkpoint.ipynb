{
 "cells": [
  {
   "cell_type": "markdown",
   "metadata": {},
   "source": [
    "# String matching of full names\n",
    "> 1. Load data with full names\n",
    "> 2. Perform string matching"
   ]
  },
  {
   "cell_type": "code",
   "execution_count": 1,
   "metadata": {},
   "outputs": [],
   "source": [
    "# import sys\n",
    "# sys.path.insert(0, '/healthcare-fraud/src/')\n",
    "import src.scripts as src\n",
    "import pandas as pd\n",
    "import numpy as np\n",
    "import matplotlib.pyplot as plt\n",
    "%matplotlib inline"
   ]
  },
  {
   "cell_type": "code",
   "execution_count": 3,
   "metadata": {},
   "outputs": [
    {
     "name": "stdout",
     "output_type": "stream",
     "text": [
      "LEIE_id_full shape: (14967, 7), PartD_id_full shape: (1294850, 8)\n"
     ]
    },
    {
     "name": "stderr",
     "output_type": "stream",
     "text": [
      "/home/ec2-user/anaconda3/envs/python3/lib/python3.6/site-packages/numpy/lib/arraysetops.py:472: FutureWarning: elementwise comparison failed; returning scalar instead, but in the future will perform elementwise comparison\n",
      "  mask |= (ar1 == a)\n"
     ]
    }
   ],
   "source": [
    "# load data\n",
    "LEIE_id_full = src.read_from_efs('LEIE_id_full.csv')\n",
    "PartD_id_full = src.read_from_efs('PartD_id_full.csv')\n",
    "print('LEIE_id_full shape: %s, PartD_id_full shape: %s' %(LEIE_id_full.shape, PartD_id_full.shape))"
   ]
  },
  {
   "cell_type": "code",
   "execution_count": 4,
   "metadata": {},
   "outputs": [
    {
     "name": "stdout",
     "output_type": "stream",
     "text": [
      "Number of cities common to LEIE and PartD: 3723\n"
     ]
    }
   ],
   "source": [
    "city_intersection = list(set(LEIE_id_full['city']).intersection(set(PartD_id_full['city'])))\n",
    "print('Number of cities common to LEIE and PartD: %d' %len(city_intersection))"
   ]
  },
  {
   "cell_type": "code",
   "execution_count": 5,
   "metadata": {},
   "outputs": [],
   "source": [
    "each_city = city_intersection[0]"
   ]
  },
  {
   "cell_type": "code",
   "execution_count": 6,
   "metadata": {},
   "outputs": [],
   "source": [
    "def build_pairs(city):\n",
    "    LEIE_names = LEIE_id_full['full'][LEIE_id_full['city'] == city]\n",
    "    PartD_names = PartD_id_full['full'][PartD_id_full['city'] == city]\n",
    "    \n",
    "    pairs = []\n",
    "    for each_in_LEIE in LEIE_names:\n",
    "        for each_in_PartD in PartD_names:\n",
    "            pair = each_in_LEIE, each_in_PartD\n",
    "            pairs.append(pair)\n",
    "    \n",
    "    return pairs"
   ]
  },
  {
   "cell_type": "code",
   "execution_count": 7,
   "metadata": {},
   "outputs": [
    {
     "name": "stderr",
     "output_type": "stream",
     "text": [
      "[Parallel(n_jobs=-1)]: Using backend ThreadingBackend with 64 concurrent workers.\n",
      "[Parallel(n_jobs=-1)]: Done  34 tasks      | elapsed:    4.2s\n",
      "[Parallel(n_jobs=-1)]: Done 160 tasks      | elapsed:   17.2s\n",
      "[Parallel(n_jobs=-1)]: Done 322 tasks      | elapsed:   32.2s\n",
      "[Parallel(n_jobs=-1)]: Done 520 tasks      | elapsed:   50.9s\n",
      "[Parallel(n_jobs=-1)]: Done 754 tasks      | elapsed:  1.2min\n",
      "[Parallel(n_jobs=-1)]: Done 1024 tasks      | elapsed:  1.7min\n",
      "[Parallel(n_jobs=-1)]: Done 1330 tasks      | elapsed:  2.2min\n",
      "[Parallel(n_jobs=-1)]: Done 1672 tasks      | elapsed:  2.8min\n",
      "[Parallel(n_jobs=-1)]: Done 2050 tasks      | elapsed:  3.3min\n",
      "[Parallel(n_jobs=-1)]: Done 2464 tasks      | elapsed:  4.0min\n",
      "[Parallel(n_jobs=-1)]: Done 2914 tasks      | elapsed:  4.7min\n",
      "[Parallel(n_jobs=-1)]: Done 3400 tasks      | elapsed:  5.5min\n",
      "[Parallel(n_jobs=-1)]: Done 3723 out of 3723 | elapsed:  6.1min finished\n"
     ]
    }
   ],
   "source": [
    "# Build pairs in parallel for speed\n",
    "from joblib import Parallel, delayed\n",
    "arg_instances = city_intersection\n",
    "city_pairs = Parallel(n_jobs=-1, \n",
    "                   verbose=5, \n",
    "                   backend=\"threading\")(map(delayed(build_pairs), arg_instances))"
   ]
  },
  {
   "cell_type": "code",
   "execution_count": 19,
   "metadata": {},
   "outputs": [
    {
     "name": "stdout",
     "output_type": "stream",
     "text": [
      "There are 26.0 million pairs!\n"
     ]
    }
   ],
   "source": [
    "# unpack city pairs\n",
    "pairs = []\n",
    "for i in range(len(city_pairs)):\n",
    "    pairs += city_pairs[i]\n",
    "print('There are %s million pairs!' %round(len(pairs)/1000000,1))"
   ]
  },
  {
   "cell_type": "markdown",
   "metadata": {},
   "source": [
    "## String matching usinf Fuzzywuzzy\n",
    "---"
   ]
  },
  {
   "cell_type": "code",
   "execution_count": null,
   "metadata": {},
   "outputs": [],
   "source": [
    "from fuzzywuzzy import fuzz\n",
    "from fuzzywuzzy import process\n",
    "import time\n",
    "import multiprocessing"
   ]
  },
  {
   "cell_type": "code",
   "execution_count": 90,
   "metadata": {},
   "outputs": [
    {
     "name": "stdout",
     "output_type": "stream",
     "text": [
      "Elapsed time:  5.2377519607543945\n"
     ]
    }
   ],
   "source": [
    "# multi-processing for token_sort_ratio\n",
    "s_time = time.time()\n",
    "if __name__ == '__main__':\n",
    "    with multiprocessing.Pool(processes=3) as pool:\n",
    "        fuzz_scores_token_sort = pool.starmap(fuzz.token_sort_ratio, pairs)\n",
    "        \n",
    "e_time = time.time()\n",
    "print('Elapsed time: ', e_time - s_time)\n",
    "# 100K pairs\n",
    "# fuzz.ratio: t = 3.63sec (results are terrible)\n",
    "# fuzz.partial_ratio: t = 19.47sec (results just as terrible)\n",
    "# fuzz.token_sort_ratio: t = 5.01sec (intersting! it's very accurate on specialty but not so accurate on names)\n",
    "# fuzz.token_set_ratio: t = 5.23sec (simialrly accurate on specialty but not so accurate on names)"
   ]
  },
  {
   "cell_type": "code",
   "execution_count": null,
   "metadata": {},
   "outputs": [],
   "source": [
    "# multi-processing for ratio\n",
    "s_time = time.time()\n",
    "if __name__ == '__main__':\n",
    "    with multiprocessing.Pool(processes=3) as pool:\n",
    "        fuzz_scores = pool.starmap(fuzz.ratio, pairs)\n",
    "        \n",
    "e_time = time.time()\n",
    "print('Elapsed time: ', e_time - s_time)\n",
    "\n",
    "# order pair by high-2-low scores\n",
    "fuzzy_token_sort_ratio_match_pairs = [pairs[idx] for idx in np.argsort(fuzz_scores_token_sort)[::-1]]\n",
    "fuzzy_ratio_match_pairs = [pairs[idx] for idx in np.argsort(fuzz_scores)[::-1]]\n",
    "\n",
    "# make a dataframe and save results to efs\n",
    "fuzzywuzzy_pairs_df = pd.DataFrame({'ratio(LEIE:PartD)':fuzzy_ratio_match_pairs,\n",
    "                                    'token_sort_ratio(LEIE:PartD)':fuzzy_token_sort_ratio_match_pairs[:100000]})\n",
    "src.save_to_efs(fuzzywuzzy_pairs_df, 'fuzzywuzzy_pairs_df.src')"
   ]
  },
  {
   "cell_type": "code",
   "execution_count": 121,
   "metadata": {},
   "outputs": [
    {
     "data": {
      "text/plain": [
       "100000"
      ]
     },
     "execution_count": 121,
     "metadata": {},
     "output_type": "execute_result"
    }
   ],
   "source": [
    "len(fuzzy_ratio_match_pairs)"
   ]
  },
  {
   "cell_type": "code",
   "execution_count": 119,
   "metadata": {},
   "outputs": [
    {
     "data": {
      "text/plain": [
       "100000"
      ]
     },
     "execution_count": 119,
     "metadata": {},
     "output_type": "execute_result"
    }
   ],
   "source": []
  },
  {
   "cell_type": "code",
   "execution_count": 124,
   "metadata": {},
   "outputs": [],
   "source": []
  },
  {
   "cell_type": "code",
   "execution_count": 127,
   "metadata": {},
   "outputs": [
    {
     "data": {
      "text/plain": [
       "(100000, 2)"
      ]
     },
     "execution_count": 127,
     "metadata": {},
     "output_type": "execute_result"
    }
   ],
   "source": []
  },
  {
   "cell_type": "code",
   "execution_count": null,
   "metadata": {},
   "outputs": [],
   "source": []
  }
 ],
 "metadata": {
  "kernelspec": {
   "display_name": "conda_python3",
   "language": "python",
   "name": "conda_python3"
  },
  "language_info": {
   "codemirror_mode": {
    "name": "ipython",
    "version": 3
   },
   "file_extension": ".py",
   "mimetype": "text/x-python",
   "name": "python",
   "nbconvert_exporter": "python",
   "pygments_lexer": "ipython3",
   "version": "3.6.4"
  }
 },
 "nbformat": 4,
 "nbformat_minor": 2
}
