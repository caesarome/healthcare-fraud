{
 "cells": [
  {
   "cell_type": "markdown",
   "metadata": {},
   "source": [
    "## Build ML Model\n",
    "\n",
    "---\n",
    "> Use reduced by State data"
   ]
  },
  {
   "cell_type": "code",
   "execution_count": 1,
   "metadata": {},
   "outputs": [],
   "source": [
    "# import general packages\n",
    "import numpy as np\n",
    "import pandas as pd\n",
    "import src.scripts as src\n",
    "import matplotlib.pyplot as plt\n",
    "%matplotlib inline\n",
    "\n",
    "# import ML packages\n",
    "from sklearn.preprocessing import normalize\n",
    "from sklearn.model_selection import train_test_split, GridSearchCV, StratifiedKFold\n",
    "from sklearn.ensemble import RandomForestClassifier\n",
    "from sklearn.metrics import roc_curve, precision_recall_curve, auc, make_scorer, recall_score, accuracy_score, precision_score, confusion_matrix"
   ]
  },
  {
   "cell_type": "code",
   "execution_count": 2,
   "metadata": {},
   "outputs": [
    {
     "name": "stderr",
     "output_type": "stream",
     "text": [
      "/home/ec2-user/anaconda3/envs/python3/lib/python3.6/site-packages/numpy/lib/arraysetops.py:472: FutureWarning: elementwise comparison failed; returning scalar instead, but in the future will perform elementwise comparison\n",
      "  mask |= (ar1 == a)\n"
     ]
    }
   ],
   "source": [
    "# load data\n",
    "# df_id_reduced = src.read_from_efs('df_id_reduced.csv')\n",
    "X_reduced = src.read_from_efs('X_reduced.csv')\n",
    "y_reduced = src.read_from_efs('y_reduced.csv')"
   ]
  },
  {
   "cell_type": "code",
   "execution_count": 3,
   "metadata": {},
   "outputs": [
    {
     "name": "stdout",
     "output_type": "stream",
     "text": [
      "X_reduced shape:  (23052741, 15)\n"
     ]
    },
    {
     "data": {
      "text/html": [
       "<div>\n",
       "<style scoped>\n",
       "    .dataframe tbody tr th:only-of-type {\n",
       "        vertical-align: middle;\n",
       "    }\n",
       "\n",
       "    .dataframe tbody tr th {\n",
       "        vertical-align: top;\n",
       "    }\n",
       "\n",
       "    .dataframe thead th {\n",
       "        text-align: right;\n",
       "    }\n",
       "</style>\n",
       "<table border=\"1\" class=\"dataframe\">\n",
       "  <thead>\n",
       "    <tr style=\"text-align: right;\">\n",
       "      <th></th>\n",
       "      <th>generic_name</th>\n",
       "      <th>bene_count</th>\n",
       "      <th>total_claim_count</th>\n",
       "      <th>total_30_day_fill_count</th>\n",
       "      <th>total_day_supply</th>\n",
       "      <th>total_drug_cost</th>\n",
       "      <th>bene_count_ge65</th>\n",
       "      <th>total_claim_count_ge65</th>\n",
       "      <th>total_30_day_fill_count_ge65</th>\n",
       "      <th>total_day_supply_ge65</th>\n",
       "      <th>total_drug_cost_ge65</th>\n",
       "      <th>total_drug_cost_per_beneficiary</th>\n",
       "      <th>total_drug_cost_per_claim</th>\n",
       "      <th>total_drug_cost_per_beneficiary_ge65</th>\n",
       "      <th>total_drug_cost_per_claim_ge65</th>\n",
       "    </tr>\n",
       "  </thead>\n",
       "  <tbody>\n",
       "    <tr>\n",
       "      <th>0</th>\n",
       "      <td>AMOXICILLIN</td>\n",
       "      <td>0.0</td>\n",
       "      <td>11</td>\n",
       "      <td>11.0</td>\n",
       "      <td>72</td>\n",
       "      <td>46.76</td>\n",
       "      <td>0.0</td>\n",
       "      <td>0.0</td>\n",
       "      <td>0.0</td>\n",
       "      <td>0.0</td>\n",
       "      <td>0.00</td>\n",
       "      <td>inf</td>\n",
       "      <td>4.250909</td>\n",
       "      <td>NaN</td>\n",
       "      <td>NaN</td>\n",
       "    </tr>\n",
       "    <tr>\n",
       "      <th>1</th>\n",
       "      <td>HYDROCODONE/ACETAMINOPHEN</td>\n",
       "      <td>16.0</td>\n",
       "      <td>23</td>\n",
       "      <td>23.0</td>\n",
       "      <td>57</td>\n",
       "      <td>81.51</td>\n",
       "      <td>0.0</td>\n",
       "      <td>0.0</td>\n",
       "      <td>0.0</td>\n",
       "      <td>0.0</td>\n",
       "      <td>0.00</td>\n",
       "      <td>5.094375</td>\n",
       "      <td>3.543913</td>\n",
       "      <td>NaN</td>\n",
       "      <td>NaN</td>\n",
       "    </tr>\n",
       "    <tr>\n",
       "      <th>2</th>\n",
       "      <td>SODIUM FLUORIDE</td>\n",
       "      <td>0.0</td>\n",
       "      <td>16</td>\n",
       "      <td>18.1</td>\n",
       "      <td>478</td>\n",
       "      <td>109.59</td>\n",
       "      <td>0.0</td>\n",
       "      <td>0.0</td>\n",
       "      <td>0.0</td>\n",
       "      <td>0.0</td>\n",
       "      <td>0.00</td>\n",
       "      <td>inf</td>\n",
       "      <td>6.849375</td>\n",
       "      <td>NaN</td>\n",
       "      <td>NaN</td>\n",
       "    </tr>\n",
       "    <tr>\n",
       "      <th>3</th>\n",
       "      <td>ACYCLOVIR</td>\n",
       "      <td>0.0</td>\n",
       "      <td>16</td>\n",
       "      <td>18.0</td>\n",
       "      <td>253</td>\n",
       "      <td>127.90</td>\n",
       "      <td>0.0</td>\n",
       "      <td>16.0</td>\n",
       "      <td>18.0</td>\n",
       "      <td>253.0</td>\n",
       "      <td>127.90</td>\n",
       "      <td>inf</td>\n",
       "      <td>7.993750</td>\n",
       "      <td>inf</td>\n",
       "      <td>7.993750</td>\n",
       "    </tr>\n",
       "    <tr>\n",
       "      <th>4</th>\n",
       "      <td>ALBUTEROL SULFATE</td>\n",
       "      <td>13.0</td>\n",
       "      <td>64</td>\n",
       "      <td>69.3</td>\n",
       "      <td>1467</td>\n",
       "      <td>3483.22</td>\n",
       "      <td>0.0</td>\n",
       "      <td>53.0</td>\n",
       "      <td>58.3</td>\n",
       "      <td>1291.0</td>\n",
       "      <td>3013.26</td>\n",
       "      <td>267.940000</td>\n",
       "      <td>54.425312</td>\n",
       "      <td>inf</td>\n",
       "      <td>56.853962</td>\n",
       "    </tr>\n",
       "  </tbody>\n",
       "</table>\n",
       "</div>"
      ],
      "text/plain": [
       "                generic_name  bene_count  total_claim_count  \\\n",
       "0                AMOXICILLIN         0.0                 11   \n",
       "1  HYDROCODONE/ACETAMINOPHEN        16.0                 23   \n",
       "2            SODIUM FLUORIDE         0.0                 16   \n",
       "3                  ACYCLOVIR         0.0                 16   \n",
       "4          ALBUTEROL SULFATE        13.0                 64   \n",
       "\n",
       "   total_30_day_fill_count  total_day_supply  total_drug_cost  \\\n",
       "0                     11.0                72            46.76   \n",
       "1                     23.0                57            81.51   \n",
       "2                     18.1               478           109.59   \n",
       "3                     18.0               253           127.90   \n",
       "4                     69.3              1467          3483.22   \n",
       "\n",
       "   bene_count_ge65  total_claim_count_ge65  total_30_day_fill_count_ge65  \\\n",
       "0              0.0                     0.0                           0.0   \n",
       "1              0.0                     0.0                           0.0   \n",
       "2              0.0                     0.0                           0.0   \n",
       "3              0.0                    16.0                          18.0   \n",
       "4              0.0                    53.0                          58.3   \n",
       "\n",
       "   total_day_supply_ge65  total_drug_cost_ge65  \\\n",
       "0                    0.0                  0.00   \n",
       "1                    0.0                  0.00   \n",
       "2                    0.0                  0.00   \n",
       "3                  253.0                127.90   \n",
       "4                 1291.0               3013.26   \n",
       "\n",
       "   total_drug_cost_per_beneficiary  total_drug_cost_per_claim  \\\n",
       "0                              inf                   4.250909   \n",
       "1                         5.094375                   3.543913   \n",
       "2                              inf                   6.849375   \n",
       "3                              inf                   7.993750   \n",
       "4                       267.940000                  54.425312   \n",
       "\n",
       "   total_drug_cost_per_beneficiary_ge65  total_drug_cost_per_claim_ge65  \n",
       "0                                   NaN                             NaN  \n",
       "1                                   NaN                             NaN  \n",
       "2                                   NaN                             NaN  \n",
       "3                                   inf                        7.993750  \n",
       "4                                   inf                       56.853962  "
      ]
     },
     "execution_count": 3,
     "metadata": {},
     "output_type": "execute_result"
    }
   ],
   "source": [
    "print('X_reduced shape: ', X_reduced.shape)\n",
    "X_reduced.head()"
   ]
  },
  {
   "cell_type": "code",
   "execution_count": 4,
   "metadata": {},
   "outputs": [],
   "source": [
    "# clean nans and infs and convert to values\n",
    "X = X_reduced.fillna(0).replace(np.inf, 0)"
   ]
  },
  {
   "cell_type": "code",
   "execution_count": 5,
   "metadata": {},
   "outputs": [
    {
     "name": "stdout",
     "output_type": "stream",
     "text": [
      "X_dummies shape:  (23052741, 1795)\n"
     ]
    },
    {
     "data": {
      "text/html": [
       "<div>\n",
       "<style scoped>\n",
       "    .dataframe tbody tr th:only-of-type {\n",
       "        vertical-align: middle;\n",
       "    }\n",
       "\n",
       "    .dataframe tbody tr th {\n",
       "        vertical-align: top;\n",
       "    }\n",
       "\n",
       "    .dataframe thead th {\n",
       "        text-align: right;\n",
       "    }\n",
       "</style>\n",
       "<table border=\"1\" class=\"dataframe\">\n",
       "  <thead>\n",
       "    <tr style=\"text-align: right;\">\n",
       "      <th></th>\n",
       "      <th>0.9 % SODIUM CHLORIDE</th>\n",
       "      <th>AA 3.31 %/D9.8W/FAT/ELECT #10</th>\n",
       "      <th>AA 4.25%/CALCIUM/LYTES/D25W</th>\n",
       "      <th>AA 4.25%/CALCIUM/LYTES/DEX 10%</th>\n",
       "      <th>AA 5 %/CALCIUM/LYTES/DEXT 15 %</th>\n",
       "      <th>AA 5 %/CALCIUM/LYTES/DEXT 20 %</th>\n",
       "      <th>ABACAVIR SULFATE</th>\n",
       "      <th>ABACAVIR SULFATE/LAMIVUDINE</th>\n",
       "      <th>ABACAVIR/DOLUTEGRAVIR/LAMIVUDI</th>\n",
       "      <th>ABACAVIR/LAMIVUDINE/ZIDOVUDINE</th>\n",
       "      <th>...</th>\n",
       "      <th>ZIPRASIDONE HCL</th>\n",
       "      <th>ZIPRASIDONE MESYLATE</th>\n",
       "      <th>ZIV-AFLIBERCEPT</th>\n",
       "      <th>ZOLEDRONIC ACID</th>\n",
       "      <th>ZOLEDRONIC ACID/MANNITOL&amp;WATER</th>\n",
       "      <th>ZOLEDRONIC ACID/MANNITOL-WATER</th>\n",
       "      <th>ZOLMITRIPTAN</th>\n",
       "      <th>ZOLPIDEM TARTRATE</th>\n",
       "      <th>ZONISAMIDE</th>\n",
       "      <th>ZOSTER VACCINE LIVE/PF</th>\n",
       "    </tr>\n",
       "  </thead>\n",
       "  <tbody>\n",
       "    <tr>\n",
       "      <th>0</th>\n",
       "      <td>0</td>\n",
       "      <td>0</td>\n",
       "      <td>0</td>\n",
       "      <td>0</td>\n",
       "      <td>0</td>\n",
       "      <td>0</td>\n",
       "      <td>0</td>\n",
       "      <td>0</td>\n",
       "      <td>0</td>\n",
       "      <td>0</td>\n",
       "      <td>...</td>\n",
       "      <td>0</td>\n",
       "      <td>0</td>\n",
       "      <td>0</td>\n",
       "      <td>0</td>\n",
       "      <td>0</td>\n",
       "      <td>0</td>\n",
       "      <td>0</td>\n",
       "      <td>0</td>\n",
       "      <td>0</td>\n",
       "      <td>0</td>\n",
       "    </tr>\n",
       "    <tr>\n",
       "      <th>1</th>\n",
       "      <td>0</td>\n",
       "      <td>0</td>\n",
       "      <td>0</td>\n",
       "      <td>0</td>\n",
       "      <td>0</td>\n",
       "      <td>0</td>\n",
       "      <td>0</td>\n",
       "      <td>0</td>\n",
       "      <td>0</td>\n",
       "      <td>0</td>\n",
       "      <td>...</td>\n",
       "      <td>0</td>\n",
       "      <td>0</td>\n",
       "      <td>0</td>\n",
       "      <td>0</td>\n",
       "      <td>0</td>\n",
       "      <td>0</td>\n",
       "      <td>0</td>\n",
       "      <td>0</td>\n",
       "      <td>0</td>\n",
       "      <td>0</td>\n",
       "    </tr>\n",
       "    <tr>\n",
       "      <th>2</th>\n",
       "      <td>0</td>\n",
       "      <td>0</td>\n",
       "      <td>0</td>\n",
       "      <td>0</td>\n",
       "      <td>0</td>\n",
       "      <td>0</td>\n",
       "      <td>0</td>\n",
       "      <td>0</td>\n",
       "      <td>0</td>\n",
       "      <td>0</td>\n",
       "      <td>...</td>\n",
       "      <td>0</td>\n",
       "      <td>0</td>\n",
       "      <td>0</td>\n",
       "      <td>0</td>\n",
       "      <td>0</td>\n",
       "      <td>0</td>\n",
       "      <td>0</td>\n",
       "      <td>0</td>\n",
       "      <td>0</td>\n",
       "      <td>0</td>\n",
       "    </tr>\n",
       "    <tr>\n",
       "      <th>3</th>\n",
       "      <td>0</td>\n",
       "      <td>0</td>\n",
       "      <td>0</td>\n",
       "      <td>0</td>\n",
       "      <td>0</td>\n",
       "      <td>0</td>\n",
       "      <td>0</td>\n",
       "      <td>0</td>\n",
       "      <td>0</td>\n",
       "      <td>0</td>\n",
       "      <td>...</td>\n",
       "      <td>0</td>\n",
       "      <td>0</td>\n",
       "      <td>0</td>\n",
       "      <td>0</td>\n",
       "      <td>0</td>\n",
       "      <td>0</td>\n",
       "      <td>0</td>\n",
       "      <td>0</td>\n",
       "      <td>0</td>\n",
       "      <td>0</td>\n",
       "    </tr>\n",
       "    <tr>\n",
       "      <th>4</th>\n",
       "      <td>0</td>\n",
       "      <td>0</td>\n",
       "      <td>0</td>\n",
       "      <td>0</td>\n",
       "      <td>0</td>\n",
       "      <td>0</td>\n",
       "      <td>0</td>\n",
       "      <td>0</td>\n",
       "      <td>0</td>\n",
       "      <td>0</td>\n",
       "      <td>...</td>\n",
       "      <td>0</td>\n",
       "      <td>0</td>\n",
       "      <td>0</td>\n",
       "      <td>0</td>\n",
       "      <td>0</td>\n",
       "      <td>0</td>\n",
       "      <td>0</td>\n",
       "      <td>0</td>\n",
       "      <td>0</td>\n",
       "      <td>0</td>\n",
       "    </tr>\n",
       "  </tbody>\n",
       "</table>\n",
       "<p>5 rows × 1795 columns</p>\n",
       "</div>"
      ],
      "text/plain": [
       "   0.9 % SODIUM CHLORIDE  AA 3.31 %/D9.8W/FAT/ELECT #10  \\\n",
       "0                      0                              0   \n",
       "1                      0                              0   \n",
       "2                      0                              0   \n",
       "3                      0                              0   \n",
       "4                      0                              0   \n",
       "\n",
       "   AA 4.25%/CALCIUM/LYTES/D25W  AA 4.25%/CALCIUM/LYTES/DEX 10%  \\\n",
       "0                            0                               0   \n",
       "1                            0                               0   \n",
       "2                            0                               0   \n",
       "3                            0                               0   \n",
       "4                            0                               0   \n",
       "\n",
       "   AA 5 %/CALCIUM/LYTES/DEXT 15 %  AA 5 %/CALCIUM/LYTES/DEXT 20 %  \\\n",
       "0                               0                               0   \n",
       "1                               0                               0   \n",
       "2                               0                               0   \n",
       "3                               0                               0   \n",
       "4                               0                               0   \n",
       "\n",
       "   ABACAVIR SULFATE  ABACAVIR SULFATE/LAMIVUDINE  \\\n",
       "0                 0                            0   \n",
       "1                 0                            0   \n",
       "2                 0                            0   \n",
       "3                 0                            0   \n",
       "4                 0                            0   \n",
       "\n",
       "   ABACAVIR/DOLUTEGRAVIR/LAMIVUDI  ABACAVIR/LAMIVUDINE/ZIDOVUDINE  \\\n",
       "0                               0                               0   \n",
       "1                               0                               0   \n",
       "2                               0                               0   \n",
       "3                               0                               0   \n",
       "4                               0                               0   \n",
       "\n",
       "            ...            ZIPRASIDONE HCL  ZIPRASIDONE MESYLATE  \\\n",
       "0           ...                          0                     0   \n",
       "1           ...                          0                     0   \n",
       "2           ...                          0                     0   \n",
       "3           ...                          0                     0   \n",
       "4           ...                          0                     0   \n",
       "\n",
       "   ZIV-AFLIBERCEPT  ZOLEDRONIC ACID  ZOLEDRONIC ACID/MANNITOL&WATER  \\\n",
       "0                0                0                               0   \n",
       "1                0                0                               0   \n",
       "2                0                0                               0   \n",
       "3                0                0                               0   \n",
       "4                0                0                               0   \n",
       "\n",
       "   ZOLEDRONIC ACID/MANNITOL-WATER  ZOLMITRIPTAN  ZOLPIDEM TARTRATE  \\\n",
       "0                               0             0                  0   \n",
       "1                               0             0                  0   \n",
       "2                               0             0                  0   \n",
       "3                               0             0                  0   \n",
       "4                               0             0                  0   \n",
       "\n",
       "   ZONISAMIDE  ZOSTER VACCINE LIVE/PF  \n",
       "0           0                       0  \n",
       "1           0                       0  \n",
       "2           0                       0  \n",
       "3           0                       0  \n",
       "4           0                       0  \n",
       "\n",
       "[5 rows x 1795 columns]"
      ]
     },
     "execution_count": 5,
     "metadata": {},
     "output_type": "execute_result"
    }
   ],
   "source": [
    "# get dummies from `generic_name`\n",
    "X_dummies = pd.get_dummies(X['generic_name'])\n",
    "print('X_dummies shape: ', X_dummies.shape)\n",
    "X_dummies.head()"
   ]
  },
  {
   "cell_type": "code",
   "execution_count": null,
   "metadata": {},
   "outputs": [],
   "source": [
    "# convert X to np arrays\n",
    "X1 = X.loc[:, X.columns != 'generic_name'].values\n",
    "X2 = X_dummies.values\n",
    "print('X_1 shape: ', X1.shape)\n",
    "print('X_2 shape: ', X2.shape)\n",
    "\n",
    "# build full feature matrix, X\n",
    "X_features = X.columns.tolist() + X_dummies.columns.tolist()\n",
    "print('X_features shape: ', len(X_features))\n",
    "\n",
    "# clear memory\n",
    "del X_reduced, X, X_dummies\n",
    "\n",
    "# build full feature matrix X as np.array\n",
    "X = np.hstack((X1, X2))\n",
    "\n",
    "# convert y_reduce to np.array\n",
    "y = y_reduced.values"
   ]
  },
  {
   "cell_type": "code",
   "execution_count": 14,
   "metadata": {},
   "outputs": [
    {
     "name": "stdout",
     "output_type": "stream",
     "text": [
      "X_1 shape:  (23052741, 14)\n",
      "X_2 shape:  (23052741, 1795)\n"
     ]
    }
   ],
   "source": []
  },
  {
   "cell_type": "code",
   "execution_count": 16,
   "metadata": {},
   "outputs": [
    {
     "data": {
      "text/plain": [
       "(23052741, 1)"
      ]
     },
     "execution_count": 16,
     "metadata": {},
     "output_type": "execute_result"
    }
   ],
   "source": [
    "\n"
   ]
  },
  {
   "cell_type": "code",
   "execution_count": null,
   "metadata": {},
   "outputs": [],
   "source": []
  },
  {
   "cell_type": "code",
   "execution_count": 11,
   "metadata": {},
   "outputs": [
    {
     "ename": "MemoryError",
     "evalue": "",
     "output_type": "error",
     "traceback": [
      "\u001b[0;31m---------------------------------------------------------------------------\u001b[0m",
      "\u001b[0;31mMemoryError\u001b[0m                               Traceback (most recent call last)",
      "\u001b[0;32m<ipython-input-11-2565dfdd91e6>\u001b[0m in \u001b[0;36m<module>\u001b[0;34m()\u001b[0m\n\u001b[1;32m      1\u001b[0m \u001b[0;31m# build full feature matrix X\u001b[0m\u001b[0;34m\u001b[0m\u001b[0;34m\u001b[0m\u001b[0m\n\u001b[0;32m----> 2\u001b[0;31m \u001b[0mX\u001b[0m \u001b[0;34m=\u001b[0m \u001b[0mnp\u001b[0m\u001b[0;34m.\u001b[0m\u001b[0mhstack\u001b[0m\u001b[0;34m(\u001b[0m\u001b[0;34m(\u001b[0m\u001b[0mX_1\u001b[0m\u001b[0;34m,\u001b[0m \u001b[0mX_2\u001b[0m\u001b[0;34m)\u001b[0m\u001b[0;34m)\u001b[0m\u001b[0;34m\u001b[0m\u001b[0m\n\u001b[0m",
      "\u001b[0;32m~/anaconda3/envs/python3/lib/python3.6/site-packages/numpy/core/shape_base.py\u001b[0m in \u001b[0;36mhstack\u001b[0;34m(tup)\u001b[0m\n\u001b[1;32m    286\u001b[0m         \u001b[0;32mreturn\u001b[0m \u001b[0m_nx\u001b[0m\u001b[0;34m.\u001b[0m\u001b[0mconcatenate\u001b[0m\u001b[0;34m(\u001b[0m\u001b[0marrs\u001b[0m\u001b[0;34m,\u001b[0m \u001b[0;36m0\u001b[0m\u001b[0;34m)\u001b[0m\u001b[0;34m\u001b[0m\u001b[0m\n\u001b[1;32m    287\u001b[0m     \u001b[0;32melse\u001b[0m\u001b[0;34m:\u001b[0m\u001b[0;34m\u001b[0m\u001b[0m\n\u001b[0;32m--> 288\u001b[0;31m         \u001b[0;32mreturn\u001b[0m \u001b[0m_nx\u001b[0m\u001b[0;34m.\u001b[0m\u001b[0mconcatenate\u001b[0m\u001b[0;34m(\u001b[0m\u001b[0marrs\u001b[0m\u001b[0;34m,\u001b[0m \u001b[0;36m1\u001b[0m\u001b[0;34m)\u001b[0m\u001b[0;34m\u001b[0m\u001b[0m\n\u001b[0m\u001b[1;32m    289\u001b[0m \u001b[0;34m\u001b[0m\u001b[0m\n\u001b[1;32m    290\u001b[0m \u001b[0;34m\u001b[0m\u001b[0m\n",
      "\u001b[0;31mMemoryError\u001b[0m: "
     ]
    }
   ],
   "source": []
  },
  {
   "cell_type": "code",
   "execution_count": null,
   "metadata": {},
   "outputs": [],
   "source": [
    "# A = X.groupby('generic_name').agg('sum').reset_index()\n",
    "# B = A[['generic_name','bene_count','total_claim_count','total_30_day_fill_count','total_day_supply','total_drug_cost']]\n",
    "# pd.plotting.scatter_matrix(B, figsize=(12,12))\n",
    "# plt.show()"
   ]
  },
  {
   "cell_type": "code",
   "execution_count": 12,
   "metadata": {},
   "outputs": [
    {
     "data": {
      "text/plain": [
       "2581906992"
      ]
     },
     "execution_count": 12,
     "metadata": {},
     "output_type": "execute_result"
    }
   ],
   "source": [
    "X_1.nbytes"
   ]
  },
  {
   "cell_type": "code",
   "execution_count": 13,
   "metadata": {},
   "outputs": [
    {
     "data": {
      "text/plain": [
       "41379670095"
      ]
     },
     "execution_count": 13,
     "metadata": {},
     "output_type": "execute_result"
    }
   ],
   "source": [
    "X_2.nbytes"
   ]
  },
  {
   "cell_type": "code",
   "execution_count": null,
   "metadata": {},
   "outputs": [],
   "source": [
    "\n",
    "\n",
    "\n",
    "# del X, X_reduced\n",
    "# np.concatenate((, ), axis=1)"
   ]
  },
  {
   "cell_type": "code",
   "execution_count": null,
   "metadata": {},
   "outputs": [],
   "source": []
  },
  {
   "cell_type": "code",
   "execution_count": null,
   "metadata": {},
   "outputs": [],
   "source": [
    "print('X shape: ', X.shape)\n",
    "X.head()"
   ]
  },
  {
   "cell_type": "code",
   "execution_count": null,
   "metadata": {},
   "outputs": [],
   "source": [
    "# clean nans and infs and convert to values\n",
    "X = X_reduced.fillna(0).replace(np.inf, 0).values\n",
    "print('X shape: ', X.shape)\n",
    "\n",
    "# convert y to values\n",
    "y = y_reduced.values\n",
    "print('y shape: ', y.shape)"
   ]
  },
  {
   "cell_type": "code",
   "execution_count": null,
   "metadata": {},
   "outputs": [],
   "source": [
    "# train-test split\n",
    "X_train, X_test, y_train, y_test = train_test_split(X, y, test_size=.2, stratify=y)\n",
    "\n",
    "# show the distribution\n",
    "print('y_train class distribution:')\n",
    "print(y_train.value_counts(normalize=True))\n",
    "print('y_test class distribution:')\n",
    "print(y_test.value_counts(normalize=True))"
   ]
  },
  {
   "cell_type": "code",
   "execution_count": null,
   "metadata": {},
   "outputs": [],
   "source": [
    "# train model\n",
    "clf = RandomForestClassifier(n_jobs=-1)\n",
    "clf.fit(X_train, y_train)\n",
    "\n",
    "# make a prediction\n",
    "y_pred = clf.predict(X_test)\n",
    "\n",
    "# confusion matrix\n",
    "tn, fp, fn, tp = confusion_matrix(y_test, y_pred).ravel()\n",
    "print(tp, fp)\n",
    "print(tn, fn)"
   ]
  },
  {
   "cell_type": "code",
   "execution_count": null,
   "metadata": {},
   "outputs": [],
   "source": [
    "param_grid = {'min_samples_split': [3, 5, 10], \n",
    "              'n_estimators' : [100, 300],\n",
    "              'max_depth': [3, 5, 15, 25],\n",
    "              'max_features': [3, 5, 10, 20]}\n",
    "\n",
    "scorers = {'precision_score': make_scorer(precision_score),\n",
    "           'recall_score': make_scorer(recall_score),\n",
    "           'accuracy_score': make_scorer(accuracy_score)}"
   ]
  },
  {
   "cell_type": "code",
   "execution_count": null,
   "metadata": {},
   "outputs": [],
   "source": [
    "def grid_search_wrapper(refit_score='precision_score'):\n",
    "    \"\"\"\n",
    "    fits a GridSearchCV classifier using refit_score for optimization\n",
    "    prints classifier performance metrics\n",
    "    \"\"\"\n",
    "    skf = StratifiedKFold(n_splits=10)\n",
    "    grid_search = GridSearchCV(clf, param_grid, scoring=scorers, refit=refit_score,\n",
    "                           cv=skf, return_train_score=True, n_jobs=-1)\n",
    "    grid_search.fit(X_train.values, y_train.values)\n",
    "\n",
    "    # make the predictions\n",
    "    y_pred = grid_search.predict(X_test.values)\n",
    "\n",
    "    print('Best params for {}'.format(refit_score))\n",
    "    print(grid_search.best_params_)\n",
    "\n",
    "    # confusion matrix on the test data.\n",
    "    print('\\nConfusion matrix of Random Forest optimized for {} on the test data:'.format(refit_score))\n",
    "    print(pd.DataFrame(confusion_matrix(y_test, y_pred),\n",
    "                 columns=['pred_neg', 'pred_pos'], index=['neg', 'pos']))\n",
    "    return grid_search"
   ]
  },
  {
   "cell_type": "code",
   "execution_count": null,
   "metadata": {},
   "outputs": [],
   "source": [
    "grid_search_clf = grid_search_wrapper(refit_score='precision_score')\n",
    "\n"
   ]
  }
 ],
 "metadata": {
  "kernelspec": {
   "display_name": "conda_python3",
   "language": "python",
   "name": "conda_python3"
  },
  "language_info": {
   "codemirror_mode": {
    "name": "ipython",
    "version": 3
   },
   "file_extension": ".py",
   "mimetype": "text/x-python",
   "name": "python",
   "nbconvert_exporter": "python",
   "pygments_lexer": "ipython3",
   "version": "3.6.4"
  }
 },
 "nbformat": 4,
 "nbformat_minor": 2
}
