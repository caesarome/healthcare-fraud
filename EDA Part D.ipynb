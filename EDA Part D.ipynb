{
 "cells": [
  {
   "cell_type": "code",
   "execution_count": 1,
   "metadata": {},
   "outputs": [],
   "source": [
    "# create a dataframe\n",
    "import boto3\n",
    "import io\n",
    "import pandas as pd\n",
    "import time\n",
    "from io import StringIO"
   ]
  },
  {
   "cell_type": "code",
   "execution_count": 3,
   "metadata": {},
   "outputs": [],
   "source": [
    "def process_partD(path, year):\n",
    "    '''\n",
    "    Input: source path to raw file and year\n",
    "    Process: import table as a pd.DatafFrame and add `year` column\n",
    "    Output: pd.DatafFrame\n",
    "    '''\n",
    "    chunksize = 10 ** 6\n",
    "    chunks_df = []\n",
    "    for chunk in pd.read_csv(path, sep=\"\\t\", low_memory=False, chunksize=chunksize):\n",
    "        # append a year column\n",
    "        chunk['year'] = pd.Series([year] * len(chunk))\n",
    "        chunks_df.append(chunk)\n",
    "    df = pd.concat(chunks_df, axis=0)\n",
    "    return df"
   ]
  },
  {
   "cell_type": "code",
   "execution_count": 5,
   "metadata": {},
   "outputs": [],
   "source": [
    "s3 = boto3.client('s3')\n",
    "bucket='dast1healthcare' # Or whatever you called your bucket\n",
    "\n",
    "path_tuples = [(\"PartD_Prescriber_PUF_NPI_Drug_13.txt\", 2013),\n",
    "               (\"PartD_Prescriber_PUF_NPI_Drug_14.txt\", 2014),\n",
    "               (\"PartD_Prescriber_PUF_NPI_Drug_15.txt\", 2015),\n",
    "               (\"PartD_Prescriber_PUF_NPI_Drug_16.txt\", 2016)]\n",
    "\n",
    "df_list = []\n",
    "for path in path_tuples:\n",
    "    data_key = path[0] # Where the file is within your bucket\n",
    "    data_location = 's3://{}/{}'.format(bucket, data_key)\n",
    "    df_list.append(process_partD(data_location, path[1]))\n",
    "df = pd.concat(df_list, axis=0)"
   ]
  },
  {
   "cell_type": "code",
   "execution_count": null,
   "metadata": {},
   "outputs": [],
   "source": [
    "# save the huge merged part D data frame\n",
    "csv_buffer = StringIO()\n",
    "df.to_csv(csv_buffer)\n",
    "s3_resource = boto3.resource('s3')\n",
    "s3_resource.Object(bucket, 'medicare_part_d.csv').put(Body=csv_buffer.getvalue())"
   ]
  },
  {
   "cell_type": "code",
   "execution_count": 75,
   "metadata": {},
   "outputs": [],
   "source": [
    "# find unique ids\n",
    "unique_id = np.array(list(set(zip(df[\"npi\"].values,\n",
    "                                  df[\"nppes_provider_last_org_name\"].values, \n",
    "                                  df[\"nppes_provider_first_name\"].values,\n",
    "                                  df[\"specialty_description\"].values,\n",
    "                                  df[\"nppes_provider_city\"].values,\n",
    "                                  df[\"nppes_provider_state\"].values)))).T\n",
    "id_df = pd.DataFrame(unique_id.T, columns=[\"npi\",\"last/org name\",\"first name\",\"specialty\",\"city\",\"state\"])"
   ]
  },
  {
   "cell_type": "code",
   "execution_count": 82,
   "metadata": {},
   "outputs": [
    {
     "data": {
      "text/plain": [
       "{'ResponseMetadata': {'RequestId': '5D5B888591494B16',\n",
       "  'HostId': '5njqxaJoQqCGBl4z1/dmlrn6lsHw0Hm2PCXwwLYQCymC2UEFDevALVcw3cELu+G8AhecS48u5Ow=',\n",
       "  'HTTPStatusCode': 200,\n",
       "  'HTTPHeaders': {'x-amz-id-2': '5njqxaJoQqCGBl4z1/dmlrn6lsHw0Hm2PCXwwLYQCymC2UEFDevALVcw3cELu+G8AhecS48u5Ow=',\n",
       "   'x-amz-request-id': '5D5B888591494B16',\n",
       "   'date': 'Tue, 07 Aug 2018 23:59:33 GMT',\n",
       "   'etag': '\"6bc9ebc9d5b047ee1a2051a27783fa03\"',\n",
       "   'content-length': '0',\n",
       "   'server': 'AmazonS3'},\n",
       "  'RetryAttempts': 0},\n",
       " 'ETag': '\"6bc9ebc9d5b047ee1a2051a27783fa03\"'}"
      ]
     },
     "execution_count": 82,
     "metadata": {},
     "output_type": "execute_result"
    }
   ],
   "source": [
    "# save unique ids file\n",
    "csv_buffer = StringIO()\n",
    "id_df.to_csv(csv_buffer)\n",
    "s3_resource = boto3.resource('s3')\n",
    "s3_resource.Object(bucket, 'identification_part_d.csv').put(Body=csv_buffer.getvalue())"
   ]
  },
  {
   "cell_type": "code",
   "execution_count": null,
   "metadata": {},
   "outputs": [],
   "source": []
  }
 ],
 "metadata": {
  "kernelspec": {
   "display_name": "conda_python3",
   "language": "python",
   "name": "conda_python3"
  },
  "language_info": {
   "codemirror_mode": {
    "name": "ipython",
    "version": 3
   },
   "file_extension": ".py",
   "mimetype": "text/x-python",
   "name": "python",
   "nbconvert_exporter": "python",
   "pygments_lexer": "ipython3",
   "version": "3.6.4"
  }
 },
 "nbformat": 4,
 "nbformat_minor": 2
}
