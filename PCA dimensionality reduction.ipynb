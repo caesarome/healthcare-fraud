{
 "cells": [
  {
   "cell_type": "code",
   "execution_count": 1,
   "metadata": {},
   "outputs": [],
   "source": [
    "import pandas as pd\n",
    "import numpy as np\n",
    "import src.scripts as src"
   ]
  },
  {
   "cell_type": "code",
   "execution_count": 2,
   "metadata": {},
   "outputs": [
    {
     "name": "stderr",
     "output_type": "stream",
     "text": [
      "/home/ec2-user/anaconda3/envs/python3/lib/python3.6/site-packages/numpy/lib/arraysetops.py:472: FutureWarning: elementwise comparison failed; returning scalar instead, but in the future will perform elementwise comparison\n",
      "  mask |= (ar1 == a)\n"
     ]
    },
    {
     "name": "stdout",
     "output_type": "stream",
     "text": [
      "df_trgt pd.DataFrame shape: (94285120, 26)\n",
      "df_trgt pd.DataFrame size: 19705.59 Mb\n"
     ]
    },
    {
     "data": {
      "text/html": [
       "<div>\n",
       "<style scoped>\n",
       "    .dataframe tbody tr th:only-of-type {\n",
       "        vertical-align: middle;\n",
       "    }\n",
       "\n",
       "    .dataframe tbody tr th {\n",
       "        vertical-align: top;\n",
       "    }\n",
       "\n",
       "    .dataframe thead th {\n",
       "        text-align: right;\n",
       "    }\n",
       "</style>\n",
       "<table border=\"1\" class=\"dataframe\">\n",
       "  <thead>\n",
       "    <tr style=\"text-align: right;\">\n",
       "      <th></th>\n",
       "      <th>npi</th>\n",
       "      <th>nppes_provider_last_org_name</th>\n",
       "      <th>nppes_provider_first_name</th>\n",
       "      <th>nppes_provider_city</th>\n",
       "      <th>nppes_provider_state</th>\n",
       "      <th>specialty_description</th>\n",
       "      <th>description_flag</th>\n",
       "      <th>drug_name</th>\n",
       "      <th>generic_name</th>\n",
       "      <th>bene_count</th>\n",
       "      <th>...</th>\n",
       "      <th>total_claim_count_ge65</th>\n",
       "      <th>ge65_suppress_flag</th>\n",
       "      <th>total_30_day_fill_count_ge65</th>\n",
       "      <th>total_day_supply_ge65</th>\n",
       "      <th>total_drug_cost_ge65</th>\n",
       "      <th>year</th>\n",
       "      <th>EXCLTYPE</th>\n",
       "      <th>EXCLDATE</th>\n",
       "      <th>REINDATE</th>\n",
       "      <th>label</th>\n",
       "    </tr>\n",
       "  </thead>\n",
       "  <tbody>\n",
       "    <tr>\n",
       "      <th>94285115</th>\n",
       "      <td>1992999882</td>\n",
       "      <td>RUDZINSKI-WALTER</td>\n",
       "      <td>MARISSA</td>\n",
       "      <td>WILKES BARRE</td>\n",
       "      <td>PA</td>\n",
       "      <td>Physician Assistant</td>\n",
       "      <td>S</td>\n",
       "      <td>LAMOTRIGINE</td>\n",
       "      <td>LAMOTRIGINE</td>\n",
       "      <td>NaN</td>\n",
       "      <td>...</td>\n",
       "      <td>0.0</td>\n",
       "      <td>NaN</td>\n",
       "      <td>0.0</td>\n",
       "      <td>0.0</td>\n",
       "      <td>0.0</td>\n",
       "      <td>2016</td>\n",
       "      <td>NaN</td>\n",
       "      <td>NaN</td>\n",
       "      <td>NaN</td>\n",
       "      <td>False</td>\n",
       "    </tr>\n",
       "    <tr>\n",
       "      <th>94285116</th>\n",
       "      <td>1992999882</td>\n",
       "      <td>RUDZINSKI-WALTER</td>\n",
       "      <td>MARISSA</td>\n",
       "      <td>WILKES BARRE</td>\n",
       "      <td>PA</td>\n",
       "      <td>Physician Assistant</td>\n",
       "      <td>S</td>\n",
       "      <td>QUETIAPINE FUMARATE</td>\n",
       "      <td>QUETIAPINE FUMARATE</td>\n",
       "      <td>NaN</td>\n",
       "      <td>...</td>\n",
       "      <td>0.0</td>\n",
       "      <td>NaN</td>\n",
       "      <td>0.0</td>\n",
       "      <td>0.0</td>\n",
       "      <td>0.0</td>\n",
       "      <td>2016</td>\n",
       "      <td>NaN</td>\n",
       "      <td>NaN</td>\n",
       "      <td>NaN</td>\n",
       "      <td>False</td>\n",
       "    </tr>\n",
       "    <tr>\n",
       "      <th>94285117</th>\n",
       "      <td>1992999882</td>\n",
       "      <td>RUDZINSKI-WALTER</td>\n",
       "      <td>MARISSA</td>\n",
       "      <td>WILKES BARRE</td>\n",
       "      <td>PA</td>\n",
       "      <td>Physician Assistant</td>\n",
       "      <td>S</td>\n",
       "      <td>RISPERIDONE</td>\n",
       "      <td>RISPERIDONE</td>\n",
       "      <td>NaN</td>\n",
       "      <td>...</td>\n",
       "      <td>NaN</td>\n",
       "      <td>*</td>\n",
       "      <td>NaN</td>\n",
       "      <td>NaN</td>\n",
       "      <td>NaN</td>\n",
       "      <td>2016</td>\n",
       "      <td>NaN</td>\n",
       "      <td>NaN</td>\n",
       "      <td>NaN</td>\n",
       "      <td>False</td>\n",
       "    </tr>\n",
       "    <tr>\n",
       "      <th>94285118</th>\n",
       "      <td>1992999882</td>\n",
       "      <td>RUDZINSKI-WALTER</td>\n",
       "      <td>MARISSA</td>\n",
       "      <td>WILKES BARRE</td>\n",
       "      <td>PA</td>\n",
       "      <td>Physician Assistant</td>\n",
       "      <td>S</td>\n",
       "      <td>SERTRALINE HCL</td>\n",
       "      <td>SERTRALINE HCL</td>\n",
       "      <td>13.0</td>\n",
       "      <td>...</td>\n",
       "      <td>NaN</td>\n",
       "      <td>*</td>\n",
       "      <td>NaN</td>\n",
       "      <td>NaN</td>\n",
       "      <td>NaN</td>\n",
       "      <td>2016</td>\n",
       "      <td>NaN</td>\n",
       "      <td>NaN</td>\n",
       "      <td>NaN</td>\n",
       "      <td>False</td>\n",
       "    </tr>\n",
       "    <tr>\n",
       "      <th>94285119</th>\n",
       "      <td>1992999882</td>\n",
       "      <td>RUDZINSKI-WALTER</td>\n",
       "      <td>MARISSA</td>\n",
       "      <td>WILKES BARRE</td>\n",
       "      <td>PA</td>\n",
       "      <td>Physician Assistant</td>\n",
       "      <td>S</td>\n",
       "      <td>TRAZODONE HCL</td>\n",
       "      <td>TRAZODONE HCL</td>\n",
       "      <td>16.0</td>\n",
       "      <td>...</td>\n",
       "      <td>NaN</td>\n",
       "      <td>*</td>\n",
       "      <td>NaN</td>\n",
       "      <td>NaN</td>\n",
       "      <td>NaN</td>\n",
       "      <td>2016</td>\n",
       "      <td>NaN</td>\n",
       "      <td>NaN</td>\n",
       "      <td>NaN</td>\n",
       "      <td>False</td>\n",
       "    </tr>\n",
       "  </tbody>\n",
       "</table>\n",
       "<p>5 rows × 26 columns</p>\n",
       "</div>"
      ],
      "text/plain": [
       "                 npi nppes_provider_last_org_name nppes_provider_first_name  \\\n",
       "94285115  1992999882             RUDZINSKI-WALTER                   MARISSA   \n",
       "94285116  1992999882             RUDZINSKI-WALTER                   MARISSA   \n",
       "94285117  1992999882             RUDZINSKI-WALTER                   MARISSA   \n",
       "94285118  1992999882             RUDZINSKI-WALTER                   MARISSA   \n",
       "94285119  1992999882             RUDZINSKI-WALTER                   MARISSA   \n",
       "\n",
       "         nppes_provider_city nppes_provider_state specialty_description  \\\n",
       "94285115        WILKES BARRE                   PA   Physician Assistant   \n",
       "94285116        WILKES BARRE                   PA   Physician Assistant   \n",
       "94285117        WILKES BARRE                   PA   Physician Assistant   \n",
       "94285118        WILKES BARRE                   PA   Physician Assistant   \n",
       "94285119        WILKES BARRE                   PA   Physician Assistant   \n",
       "\n",
       "         description_flag            drug_name         generic_name  \\\n",
       "94285115                S          LAMOTRIGINE          LAMOTRIGINE   \n",
       "94285116                S  QUETIAPINE FUMARATE  QUETIAPINE FUMARATE   \n",
       "94285117                S          RISPERIDONE          RISPERIDONE   \n",
       "94285118                S       SERTRALINE HCL       SERTRALINE HCL   \n",
       "94285119                S        TRAZODONE HCL        TRAZODONE HCL   \n",
       "\n",
       "          bene_count  ...    total_claim_count_ge65  ge65_suppress_flag  \\\n",
       "94285115         NaN  ...                       0.0                 NaN   \n",
       "94285116         NaN  ...                       0.0                 NaN   \n",
       "94285117         NaN  ...                       NaN                   *   \n",
       "94285118        13.0  ...                       NaN                   *   \n",
       "94285119        16.0  ...                       NaN                   *   \n",
       "\n",
       "          total_30_day_fill_count_ge65  total_day_supply_ge65  \\\n",
       "94285115                           0.0                    0.0   \n",
       "94285116                           0.0                    0.0   \n",
       "94285117                           NaN                    NaN   \n",
       "94285118                           NaN                    NaN   \n",
       "94285119                           NaN                    NaN   \n",
       "\n",
       "          total_drug_cost_ge65  year  EXCLTYPE EXCLDATE  REINDATE  label  \n",
       "94285115                   0.0  2016       NaN      NaN       NaN  False  \n",
       "94285116                   0.0  2016       NaN      NaN       NaN  False  \n",
       "94285117                   NaN  2016       NaN      NaN       NaN  False  \n",
       "94285118                   NaN  2016       NaN      NaN       NaN  False  \n",
       "94285119                   NaN  2016       NaN      NaN       NaN  False  \n",
       "\n",
       "[5 rows x 26 columns]"
      ]
     },
     "execution_count": 2,
     "metadata": {},
     "output_type": "execute_result"
    }
   ],
   "source": [
    "# import data\n",
    "df_trgt = src.read_from_efs('df_trgt.csv')\n",
    "src.print_info(df_trgt, 'df_trgt')\n",
    "df_trgt.tail()"
   ]
  },
  {
   "cell_type": "code",
   "execution_count": 4,
   "metadata": {},
   "outputs": [
    {
     "data": {
      "text/plain": [
       "951"
      ]
     },
     "execution_count": 4,
     "metadata": {},
     "output_type": "execute_result"
    }
   ],
   "source": [
    "# how many unique `generic_names`\n",
    "len(set(df_trgt['generic_name']))"
   ]
  },
  {
   "cell_type": "code",
   "execution_count": 5,
   "metadata": {},
   "outputs": [
    {
     "data": {
      "text/plain": [
       "Index(['npi', 'nppes_provider_last_org_name', 'nppes_provider_first_name',\n",
       "       'nppes_provider_city', 'nppes_provider_state', 'specialty_description',\n",
       "       'description_flag', 'drug_name', 'generic_name', 'bene_count',\n",
       "       'total_claim_count', 'total_30_day_fill_count', 'total_day_supply',\n",
       "       'total_drug_cost', 'bene_count_ge65', 'bene_count_ge65_suppress_flag',\n",
       "       'total_claim_count_ge65', 'ge65_suppress_flag',\n",
       "       'total_30_day_fill_count_ge65', 'total_day_supply_ge65',\n",
       "       'total_drug_cost_ge65', 'year', 'EXCLTYPE', 'EXCLDATE', 'REINDATE',\n",
       "       'label'],\n",
       "      dtype='object')"
      ]
     },
     "execution_count": 5,
     "metadata": {},
     "output_type": "execute_result"
    }
   ],
   "source": [
    "# how many features\n",
    "df_trgt.columns"
   ]
  },
  {
   "cell_type": "code",
   "execution_count": 6,
   "metadata": {},
   "outputs": [
    {
     "data": {
      "text/plain": [
       "1043196"
      ]
     },
     "execution_count": 6,
     "metadata": {},
     "output_type": "execute_result"
    }
   ],
   "source": [
    "# how many providers?\n",
    "len(set(df_trgt['npi']))"
   ]
  },
  {
   "cell_type": "code",
   "execution_count": 15,
   "metadata": {},
   "outputs": [
    {
     "ename": "ValueError",
     "evalue": "could not convert string to float: 'TAMSULOSIN HCL'",
     "output_type": "error",
     "traceback": [
      "\u001b[0;31m---------------------------------------------------------------------------\u001b[0m",
      "\u001b[0;31mValueError\u001b[0m                                Traceback (most recent call last)",
      "\u001b[0;32m<ipython-input-15-a1069fc54e70>\u001b[0m in \u001b[0;36m<module>\u001b[0;34m()\u001b[0m\n\u001b[1;32m      1\u001b[0m \u001b[0mestimator\u001b[0m \u001b[0;34m=\u001b[0m \u001b[0mRandomForestClassifier\u001b[0m\u001b[0;34m(\u001b[0m\u001b[0mn_jobs\u001b[0m\u001b[0;34m=\u001b[0m\u001b[0;34m-\u001b[0m\u001b[0;36m1\u001b[0m\u001b[0;34m)\u001b[0m\u001b[0;34m\u001b[0m\u001b[0m\n\u001b[0;32m----> 2\u001b[0;31m \u001b[0mestimator\u001b[0m\u001b[0;34m.\u001b[0m\u001b[0mfit\u001b[0m\u001b[0;34m(\u001b[0m\u001b[0mX_train\u001b[0m\u001b[0;34m,\u001b[0m \u001b[0my_train\u001b[0m\u001b[0;34m)\u001b[0m\u001b[0;34m\u001b[0m\u001b[0m\n\u001b[0m\u001b[1;32m      3\u001b[0m \u001b[0my_pred\u001b[0m \u001b[0;34m=\u001b[0m \u001b[0mestimator\u001b[0m\u001b[0;34m(\u001b[0m\u001b[0mX_test\u001b[0m\u001b[0;34m)\u001b[0m\u001b[0;34m\u001b[0m\u001b[0m\n\u001b[1;32m      4\u001b[0m \u001b[0mconfusion_matrix\u001b[0m\u001b[0;34m(\u001b[0m\u001b[0my_test\u001b[0m\u001b[0;34m,\u001b[0m \u001b[0my_pred\u001b[0m\u001b[0;34m)\u001b[0m\u001b[0;34m\u001b[0m\u001b[0m\n",
      "\u001b[0;32m~/anaconda3/envs/python3/lib/python3.6/site-packages/sklearn/ensemble/forest.py\u001b[0m in \u001b[0;36mfit\u001b[0;34m(self, X, y, sample_weight)\u001b[0m\n\u001b[1;32m    245\u001b[0m         \"\"\"\n\u001b[1;32m    246\u001b[0m         \u001b[0;31m# Validate or convert input data\u001b[0m\u001b[0;34m\u001b[0m\u001b[0;34m\u001b[0m\u001b[0m\n\u001b[0;32m--> 247\u001b[0;31m         \u001b[0mX\u001b[0m \u001b[0;34m=\u001b[0m \u001b[0mcheck_array\u001b[0m\u001b[0;34m(\u001b[0m\u001b[0mX\u001b[0m\u001b[0;34m,\u001b[0m \u001b[0maccept_sparse\u001b[0m\u001b[0;34m=\u001b[0m\u001b[0;34m\"csc\"\u001b[0m\u001b[0;34m,\u001b[0m \u001b[0mdtype\u001b[0m\u001b[0;34m=\u001b[0m\u001b[0mDTYPE\u001b[0m\u001b[0;34m)\u001b[0m\u001b[0;34m\u001b[0m\u001b[0m\n\u001b[0m\u001b[1;32m    248\u001b[0m         \u001b[0my\u001b[0m \u001b[0;34m=\u001b[0m \u001b[0mcheck_array\u001b[0m\u001b[0;34m(\u001b[0m\u001b[0my\u001b[0m\u001b[0;34m,\u001b[0m \u001b[0maccept_sparse\u001b[0m\u001b[0;34m=\u001b[0m\u001b[0;34m'csc'\u001b[0m\u001b[0;34m,\u001b[0m \u001b[0mensure_2d\u001b[0m\u001b[0;34m=\u001b[0m\u001b[0;32mFalse\u001b[0m\u001b[0;34m,\u001b[0m \u001b[0mdtype\u001b[0m\u001b[0;34m=\u001b[0m\u001b[0;32mNone\u001b[0m\u001b[0;34m)\u001b[0m\u001b[0;34m\u001b[0m\u001b[0m\n\u001b[1;32m    249\u001b[0m         \u001b[0;32mif\u001b[0m \u001b[0msample_weight\u001b[0m \u001b[0;32mis\u001b[0m \u001b[0;32mnot\u001b[0m \u001b[0;32mNone\u001b[0m\u001b[0;34m:\u001b[0m\u001b[0;34m\u001b[0m\u001b[0m\n",
      "\u001b[0;32m~/anaconda3/envs/python3/lib/python3.6/site-packages/sklearn/utils/validation.py\u001b[0m in \u001b[0;36mcheck_array\u001b[0;34m(array, accept_sparse, dtype, order, copy, force_all_finite, ensure_2d, allow_nd, ensure_min_samples, ensure_min_features, warn_on_dtype, estimator)\u001b[0m\n\u001b[1;32m    431\u001b[0m                                       force_all_finite)\n\u001b[1;32m    432\u001b[0m     \u001b[0;32melse\u001b[0m\u001b[0;34m:\u001b[0m\u001b[0;34m\u001b[0m\u001b[0m\n\u001b[0;32m--> 433\u001b[0;31m         \u001b[0marray\u001b[0m \u001b[0;34m=\u001b[0m \u001b[0mnp\u001b[0m\u001b[0;34m.\u001b[0m\u001b[0marray\u001b[0m\u001b[0;34m(\u001b[0m\u001b[0marray\u001b[0m\u001b[0;34m,\u001b[0m \u001b[0mdtype\u001b[0m\u001b[0;34m=\u001b[0m\u001b[0mdtype\u001b[0m\u001b[0;34m,\u001b[0m \u001b[0morder\u001b[0m\u001b[0;34m=\u001b[0m\u001b[0morder\u001b[0m\u001b[0;34m,\u001b[0m \u001b[0mcopy\u001b[0m\u001b[0;34m=\u001b[0m\u001b[0mcopy\u001b[0m\u001b[0;34m)\u001b[0m\u001b[0;34m\u001b[0m\u001b[0m\n\u001b[0m\u001b[1;32m    434\u001b[0m \u001b[0;34m\u001b[0m\u001b[0m\n\u001b[1;32m    435\u001b[0m         \u001b[0;32mif\u001b[0m \u001b[0mensure_2d\u001b[0m\u001b[0;34m:\u001b[0m\u001b[0;34m\u001b[0m\u001b[0m\n",
      "\u001b[0;31mValueError\u001b[0m: could not convert string to float: 'TAMSULOSIN HCL'"
     ]
    }
   ],
   "source": [
    "estimator = RandomForestClassifier(n_jobs=-1)\n",
    "estimator.fit(X_train, y_train)\n",
    "y_pred = estimator(X_test)\n",
    "confusion_matrix(y_test, y_pred)"
   ]
  },
  {
   "cell_type": "code",
   "execution_count": null,
   "metadata": {},
   "outputs": [],
   "source": []
  }
 ],
 "metadata": {
  "kernelspec": {
   "display_name": "conda_python3",
   "language": "python",
   "name": "conda_python3"
  },
  "language_info": {
   "codemirror_mode": {
    "name": "ipython",
    "version": 3
   },
   "file_extension": ".py",
   "mimetype": "text/x-python",
   "name": "python",
   "nbconvert_exporter": "python",
   "pygments_lexer": "ipython3",
   "version": "3.6.4"
  }
 },
 "nbformat": 4,
 "nbformat_minor": 2
}
