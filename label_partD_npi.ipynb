{
 "cells": [
  {
   "cell_type": "markdown",
   "metadata": {},
   "source": [
    "# **Match as many records as possible.**"
   ]
  },
  {
   "cell_type": "markdown",
   "metadata": {},
   "source": [
    "## _Step 0. Load packages_"
   ]
  },
  {
   "cell_type": "code",
   "execution_count": 77,
   "metadata": {},
   "outputs": [],
   "source": [
    "import src.scripts as src\n",
    "import pandas as pd\n",
    "import numpy as np"
   ]
  },
  {
   "cell_type": "markdown",
   "metadata": {},
   "source": [
    "## _Step 1. Load, clean, and prep data_\n",
    "---"
   ]
  },
  {
   "cell_type": "code",
   "execution_count": 6,
   "metadata": {},
   "outputs": [
    {
     "name": "stderr",
     "output_type": "stream",
     "text": [
      "/home/ec2-user/anaconda3/envs/python3/lib/python3.6/site-packages/numpy/lib/arraysetops.py:472: FutureWarning: elementwise comparison failed; returning scalar instead, but in the future will perform elementwise comparison\n",
      "  mask |= (ar1 == a)\n"
     ]
    }
   ],
   "source": [
    "# load data\n",
    "LEIE_df = src.read_from_efs('LEIE_2014+.csv')\n",
    "PartD_df = src.read_from_efs('raw_PartD.csv')"
   ]
  },
  {
   "cell_type": "code",
   "execution_count": 70,
   "metadata": {},
   "outputs": [],
   "source": [
    "# build unique ID\n",
    "LEIE_id1 = LEIE_df[['exclusion year',\n",
    "                    'NPI',\n",
    "                    'LASTNAME',\n",
    "                    'BUSNAME',\n",
    "                    'FIRSTNAME',\n",
    "                    'CITY',\n",
    "                    'SPECIALTY']].drop_duplicates().reset_index(drop=True)\n",
    "\n",
    "PartD_id1 = PartD_df[['npi',\n",
    "                     'nppes_provider_last_org_name',\n",
    "                     'nppes_provider_first_name',\n",
    "                     'nppes_provider_city',\n",
    "                     'specialty_description']].drop_duplicates().reset_index(drop=True)"
   ]
  },
  {
   "cell_type": "code",
   "execution_count": 71,
   "metadata": {},
   "outputs": [
    {
     "name": "stderr",
     "output_type": "stream",
     "text": [
      "/home/ec2-user/anaconda3/envs/python3/lib/python3.6/site-packages/ipykernel/__main__.py:10: SettingWithCopyWarning: \n",
      "A value is trying to be set on a copy of a slice from a DataFrame\n",
      "\n",
      "See the caveats in the documentation: http://pandas.pydata.org/pandas-docs/stable/indexing.html#indexing-view-versus-copy\n"
     ]
    }
   ],
   "source": [
    "# rename names in PartD\n",
    "PartD_names_dict = {'nppes_provider_last_org_name':'last/org name',\n",
    "                    'nppes_provider_first_name':'first name',\n",
    "                    'nppes_provider_city':'city',\n",
    "                    'specialty_description':'specialty'}\n",
    "PartD_id = PartD_id1.rename(columns = PartD_names_dict)\n",
    "\n",
    "# replace missing values in `LASTNAME` with values from `BUSNAME`\n",
    "tf_array = LEIE_id1['LASTNAME'].isna() # find where are the missing values in `LASTNAME`\n",
    "LEIE_id1['LASTNAME'][tf_array] = LEIE_id1['BUSNAME'][tf_array] # replace those with `BUSNAME`\n",
    "LEIE_id1.drop('BUSNAME', axis=1, inplace=True)\n",
    "\n",
    "# rename names in PartD\n",
    "LEIE_names_dict = {'NPI':'npi',\n",
    "                   'LASTNAME':'last/org name',\n",
    "                   'FIRSTNAME':'first name',\n",
    "                   'CITY':'city',\n",
    "                   'SPECIALTY':'specialty'}\n",
    "LEIE_id = LEIE_id1.rename(columns = LEIE_names_dict)\n"
   ]
  },
  {
   "cell_type": "code",
   "execution_count": 72,
   "metadata": {},
   "outputs": [
    {
     "data": {
      "text/html": [
       "<div>\n",
       "<style scoped>\n",
       "    .dataframe tbody tr th:only-of-type {\n",
       "        vertical-align: middle;\n",
       "    }\n",
       "\n",
       "    .dataframe tbody tr th {\n",
       "        vertical-align: top;\n",
       "    }\n",
       "\n",
       "    .dataframe thead th {\n",
       "        text-align: right;\n",
       "    }\n",
       "</style>\n",
       "<table border=\"1\" class=\"dataframe\">\n",
       "  <thead>\n",
       "    <tr style=\"text-align: right;\">\n",
       "      <th></th>\n",
       "      <th>npi</th>\n",
       "      <th>last/org name</th>\n",
       "      <th>first name</th>\n",
       "      <th>city</th>\n",
       "      <th>specialty</th>\n",
       "    </tr>\n",
       "  </thead>\n",
       "  <tbody>\n",
       "    <tr>\n",
       "      <th>0</th>\n",
       "      <td>1003000126</td>\n",
       "      <td>ENKESHAFI</td>\n",
       "      <td>ARDALAN</td>\n",
       "      <td>CUMBERLAND</td>\n",
       "      <td>Internal Medicine</td>\n",
       "    </tr>\n",
       "    <tr>\n",
       "      <th>1</th>\n",
       "      <td>1003000142</td>\n",
       "      <td>KHALIL</td>\n",
       "      <td>RASHID</td>\n",
       "      <td>TOLEDO</td>\n",
       "      <td>Anesthesiology</td>\n",
       "    </tr>\n",
       "    <tr>\n",
       "      <th>2</th>\n",
       "      <td>1003000167</td>\n",
       "      <td>ESCOBAR</td>\n",
       "      <td>JULIO</td>\n",
       "      <td>DAYTON</td>\n",
       "      <td>Dentist</td>\n",
       "    </tr>\n",
       "    <tr>\n",
       "      <th>3</th>\n",
       "      <td>1003000282</td>\n",
       "      <td>BLAKEMORE</td>\n",
       "      <td>ROSIE</td>\n",
       "      <td>NASHVILLE</td>\n",
       "      <td>Nurse Practitioner</td>\n",
       "    </tr>\n",
       "    <tr>\n",
       "      <th>4</th>\n",
       "      <td>1003000407</td>\n",
       "      <td>GIRARDI</td>\n",
       "      <td>DAVID</td>\n",
       "      <td>PATTON</td>\n",
       "      <td>Family Practice</td>\n",
       "    </tr>\n",
       "  </tbody>\n",
       "</table>\n",
       "</div>"
      ],
      "text/plain": [
       "          npi last/org name first name        city           specialty\n",
       "0  1003000126     ENKESHAFI    ARDALAN  CUMBERLAND   Internal Medicine\n",
       "1  1003000142        KHALIL     RASHID      TOLEDO      Anesthesiology\n",
       "2  1003000167       ESCOBAR      JULIO      DAYTON             Dentist\n",
       "3  1003000282     BLAKEMORE      ROSIE   NASHVILLE  Nurse Practitioner\n",
       "4  1003000407       GIRARDI      DAVID      PATTON     Family Practice"
      ]
     },
     "execution_count": 72,
     "metadata": {},
     "output_type": "execute_result"
    }
   ],
   "source": [
    "PartD_id.head()"
   ]
  },
  {
   "cell_type": "code",
   "execution_count": 73,
   "metadata": {},
   "outputs": [
    {
     "data": {
      "text/html": [
       "<div>\n",
       "<style scoped>\n",
       "    .dataframe tbody tr th:only-of-type {\n",
       "        vertical-align: middle;\n",
       "    }\n",
       "\n",
       "    .dataframe tbody tr th {\n",
       "        vertical-align: top;\n",
       "    }\n",
       "\n",
       "    .dataframe thead th {\n",
       "        text-align: right;\n",
       "    }\n",
       "</style>\n",
       "<table border=\"1\" class=\"dataframe\">\n",
       "  <thead>\n",
       "    <tr style=\"text-align: right;\">\n",
       "      <th></th>\n",
       "      <th>exclusion year</th>\n",
       "      <th>npi</th>\n",
       "      <th>last/org name</th>\n",
       "      <th>first name</th>\n",
       "      <th>city</th>\n",
       "      <th>specialty</th>\n",
       "    </tr>\n",
       "  </thead>\n",
       "  <tbody>\n",
       "    <tr>\n",
       "      <th>0</th>\n",
       "      <td>2018</td>\n",
       "      <td>1922348218</td>\n",
       "      <td>184TH STREET PHARMACY CORP</td>\n",
       "      <td>NaN</td>\n",
       "      <td>BRONX</td>\n",
       "      <td>PHARMACY</td>\n",
       "    </tr>\n",
       "    <tr>\n",
       "      <th>1</th>\n",
       "      <td>2018</td>\n",
       "      <td>0</td>\n",
       "      <td>A &amp; H VITAMINS SUPPLY CORP</td>\n",
       "      <td>NaN</td>\n",
       "      <td>TEANECK</td>\n",
       "      <td>PHARMACY</td>\n",
       "    </tr>\n",
       "    <tr>\n",
       "      <th>2</th>\n",
       "      <td>2017</td>\n",
       "      <td>1942476080</td>\n",
       "      <td>A &amp; Y MEDICAL SUPPLY, INC</td>\n",
       "      <td>NaN</td>\n",
       "      <td>FOREST HILLS</td>\n",
       "      <td>DME - GENERAL</td>\n",
       "    </tr>\n",
       "    <tr>\n",
       "      <th>3</th>\n",
       "      <td>2017</td>\n",
       "      <td>1891731758</td>\n",
       "      <td>A FAIR DEAL PHARMACY, INC</td>\n",
       "      <td>NaN</td>\n",
       "      <td>BROOKLYN</td>\n",
       "      <td>PHARMACY</td>\n",
       "    </tr>\n",
       "    <tr>\n",
       "      <th>4</th>\n",
       "      <td>2017</td>\n",
       "      <td>0</td>\n",
       "      <td>A SERVICE CAB CO, INC</td>\n",
       "      <td>NaN</td>\n",
       "      <td>METAIRIE</td>\n",
       "      <td>TRANSPORTATION CO</td>\n",
       "    </tr>\n",
       "  </tbody>\n",
       "</table>\n",
       "</div>"
      ],
      "text/plain": [
       "   exclusion year         npi               last/org name first name  \\\n",
       "0            2018  1922348218  184TH STREET PHARMACY CORP        NaN   \n",
       "1            2018           0  A & H VITAMINS SUPPLY CORP        NaN   \n",
       "2            2017  1942476080   A & Y MEDICAL SUPPLY, INC        NaN   \n",
       "3            2017  1891731758   A FAIR DEAL PHARMACY, INC        NaN   \n",
       "4            2017           0       A SERVICE CAB CO, INC        NaN   \n",
       "\n",
       "           city          specialty  \n",
       "0         BRONX           PHARMACY  \n",
       "1       TEANECK           PHARMACY  \n",
       "2  FOREST HILLS      DME - GENERAL  \n",
       "3      BROOKLYN           PHARMACY  \n",
       "4      METAIRIE  TRANSPORTATION CO  "
      ]
     },
     "execution_count": 73,
     "metadata": {},
     "output_type": "execute_result"
    }
   ],
   "source": [
    "LEIE_id.head()"
   ]
  },
  {
   "cell_type": "markdown",
   "metadata": {},
   "source": [
    "## _Step 3. Match up ids_\n",
    "> 1. Add `exclusion_method` column to PartD_id\n",
    "> 2. Add `exclusion_year` column to PartD_id\n",
    "> 3. Update all exclusions by `npi`\n",
    "> 4. Save data frames for `fuzzy-match`\n",
    "---"
   ]
  },
  {
   "cell_type": "code",
   "execution_count": 80,
   "metadata": {},
   "outputs": [],
   "source": [
    "PartD_id['exclusion_method'] = [np.nan] * PartD_id.shape[0]\n",
    "PartD_id['exclusion_year'] = [np.nan] * PartD_id.shape[0]"
   ]
  },
  {
   "cell_type": "code",
   "execution_count": 81,
   "metadata": {},
   "outputs": [
    {
     "data": {
      "text/html": [
       "<div>\n",
       "<style scoped>\n",
       "    .dataframe tbody tr th:only-of-type {\n",
       "        vertical-align: middle;\n",
       "    }\n",
       "\n",
       "    .dataframe tbody tr th {\n",
       "        vertical-align: top;\n",
       "    }\n",
       "\n",
       "    .dataframe thead th {\n",
       "        text-align: right;\n",
       "    }\n",
       "</style>\n",
       "<table border=\"1\" class=\"dataframe\">\n",
       "  <thead>\n",
       "    <tr style=\"text-align: right;\">\n",
       "      <th></th>\n",
       "      <th>npi</th>\n",
       "      <th>last/org name</th>\n",
       "      <th>first name</th>\n",
       "      <th>city</th>\n",
       "      <th>specialty</th>\n",
       "      <th>exclusion_method</th>\n",
       "      <th>exclusion_year</th>\n",
       "    </tr>\n",
       "  </thead>\n",
       "  <tbody>\n",
       "    <tr>\n",
       "      <th>0</th>\n",
       "      <td>1003000126</td>\n",
       "      <td>ENKESHAFI</td>\n",
       "      <td>ARDALAN</td>\n",
       "      <td>CUMBERLAND</td>\n",
       "      <td>Internal Medicine</td>\n",
       "      <td>NaN</td>\n",
       "      <td>NaN</td>\n",
       "    </tr>\n",
       "    <tr>\n",
       "      <th>1</th>\n",
       "      <td>1003000142</td>\n",
       "      <td>KHALIL</td>\n",
       "      <td>RASHID</td>\n",
       "      <td>TOLEDO</td>\n",
       "      <td>Anesthesiology</td>\n",
       "      <td>NaN</td>\n",
       "      <td>NaN</td>\n",
       "    </tr>\n",
       "    <tr>\n",
       "      <th>2</th>\n",
       "      <td>1003000167</td>\n",
       "      <td>ESCOBAR</td>\n",
       "      <td>JULIO</td>\n",
       "      <td>DAYTON</td>\n",
       "      <td>Dentist</td>\n",
       "      <td>NaN</td>\n",
       "      <td>NaN</td>\n",
       "    </tr>\n",
       "    <tr>\n",
       "      <th>3</th>\n",
       "      <td>1003000282</td>\n",
       "      <td>BLAKEMORE</td>\n",
       "      <td>ROSIE</td>\n",
       "      <td>NASHVILLE</td>\n",
       "      <td>Nurse Practitioner</td>\n",
       "      <td>NaN</td>\n",
       "      <td>NaN</td>\n",
       "    </tr>\n",
       "    <tr>\n",
       "      <th>4</th>\n",
       "      <td>1003000407</td>\n",
       "      <td>GIRARDI</td>\n",
       "      <td>DAVID</td>\n",
       "      <td>PATTON</td>\n",
       "      <td>Family Practice</td>\n",
       "      <td>NaN</td>\n",
       "      <td>NaN</td>\n",
       "    </tr>\n",
       "  </tbody>\n",
       "</table>\n",
       "</div>"
      ],
      "text/plain": [
       "          npi last/org name first name        city           specialty  \\\n",
       "0  1003000126     ENKESHAFI    ARDALAN  CUMBERLAND   Internal Medicine   \n",
       "1  1003000142        KHALIL     RASHID      TOLEDO      Anesthesiology   \n",
       "2  1003000167       ESCOBAR      JULIO      DAYTON             Dentist   \n",
       "3  1003000282     BLAKEMORE      ROSIE   NASHVILLE  Nurse Practitioner   \n",
       "4  1003000407       GIRARDI      DAVID      PATTON     Family Practice   \n",
       "\n",
       "   exclusion_method  exclusion_year  \n",
       "0               NaN             NaN  \n",
       "1               NaN             NaN  \n",
       "2               NaN             NaN  \n",
       "3               NaN             NaN  \n",
       "4               NaN             NaN  "
      ]
     },
     "execution_count": 81,
     "metadata": {},
     "output_type": "execute_result"
    }
   ],
   "source": [
    "PartD_id.head()"
   ]
  },
  {
   "cell_type": "code",
   "execution_count": 168,
   "metadata": {},
   "outputs": [],
   "source": [
    "npi_intersection = set(PartD_id['npi']).intersection(set(LEIE_id['npi']))\n",
    "tf_array_PartD = [npi in npi_intersection for npi in PartD_id['npi'].values]\n",
    "tf_array_LEIE = [npi in npi_intersection for npi in LEIE_id['npi'].values]\n",
    "excluded_by_npi = LEIE_id[['exclusion year','npi']][tf_array_LEIE].values"
   ]
  },
  {
   "cell_type": "code",
   "execution_count": 163,
   "metadata": {},
   "outputs": [
    {
     "data": {
      "text/plain": [
       "1079"
      ]
     },
     "execution_count": 163,
     "metadata": {},
     "output_type": "execute_result"
    }
   ],
   "source": [
    "len(set(PartD_id[tf_array_PartD]['npi']))                                       "
   ]
  },
  {
   "cell_type": "code",
   "execution_count": 164,
   "metadata": {},
   "outputs": [
    {
     "data": {
      "text/plain": [
       "1079"
      ]
     },
     "execution_count": 164,
     "metadata": {},
     "output_type": "execute_result"
    }
   ],
   "source": [
    "len(set(LEIE_id[tf_array_LEIE]['npi']))"
   ]
  },
  {
   "cell_type": "code",
   "execution_count": 176,
   "metadata": {},
   "outputs": [
    {
     "name": "stderr",
     "output_type": "stream",
     "text": [
      "/home/ec2-user/anaconda3/envs/python3/lib/python3.6/site-packages/ipykernel/__main__.py:3: SettingWithCopyWarning: \n",
      "A value is trying to be set on a copy of a slice from a DataFrame\n",
      "\n",
      "See the caveats in the documentation: http://pandas.pydata.org/pandas-docs/stable/indexing.html#indexing-view-versus-copy\n",
      "  app.launch_new_instance()\n",
      "/home/ec2-user/anaconda3/envs/python3/lib/python3.6/site-packages/ipykernel/__main__.py:4: SettingWithCopyWarning: \n",
      "A value is trying to be set on a copy of a slice from a DataFrame\n",
      "\n",
      "See the caveats in the documentation: http://pandas.pydata.org/pandas-docs/stable/indexing.html#indexing-view-versus-copy\n"
     ]
    }
   ],
   "source": [
    "for year, npi in excluded_by_npi:\n",
    "    tf_aray = PartD_id['npi'].values == npi\n",
    "    PartD_id['exclusion_method'][tf_aray] = ['npi'] * np.count_nonzero(tf_aray == True)\n",
    "    PartD_id['exclusion_year'][tf_aray] = [year] * np.count_nonzero(tf_aray == True)"
   ]
  },
  {
   "cell_type": "code",
   "execution_count": 184,
   "metadata": {},
   "outputs": [
    {
     "data": {
      "text/html": [
       "<div>\n",
       "<style scoped>\n",
       "    .dataframe tbody tr th:only-of-type {\n",
       "        vertical-align: middle;\n",
       "    }\n",
       "\n",
       "    .dataframe tbody tr th {\n",
       "        vertical-align: top;\n",
       "    }\n",
       "\n",
       "    .dataframe thead th {\n",
       "        text-align: right;\n",
       "    }\n",
       "</style>\n",
       "<table border=\"1\" class=\"dataframe\">\n",
       "  <thead>\n",
       "    <tr style=\"text-align: right;\">\n",
       "      <th></th>\n",
       "      <th>npi</th>\n",
       "      <th>last/org name</th>\n",
       "      <th>first name</th>\n",
       "      <th>city</th>\n",
       "      <th>specialty</th>\n",
       "      <th>exclusion_method</th>\n",
       "      <th>exclusion_year</th>\n",
       "    </tr>\n",
       "  </thead>\n",
       "  <tbody>\n",
       "    <tr>\n",
       "      <th>0</th>\n",
       "      <td>1003042441</td>\n",
       "      <td>MANZO</td>\n",
       "      <td>MARK</td>\n",
       "      <td>GRAFTON</td>\n",
       "      <td>Physician Assistant</td>\n",
       "      <td>npi</td>\n",
       "      <td>2016.0</td>\n",
       "    </tr>\n",
       "    <tr>\n",
       "      <th>1</th>\n",
       "      <td>1003801044</td>\n",
       "      <td>AFZAL</td>\n",
       "      <td>FIAZ</td>\n",
       "      <td>KENNER</td>\n",
       "      <td>Internal Medicine</td>\n",
       "      <td>npi</td>\n",
       "      <td>2014.0</td>\n",
       "    </tr>\n",
       "    <tr>\n",
       "      <th>2</th>\n",
       "      <td>1003809195</td>\n",
       "      <td>MACKEY</td>\n",
       "      <td>JOSEPH</td>\n",
       "      <td>BLUE SPRINGS</td>\n",
       "      <td>Family Practice</td>\n",
       "      <td>npi</td>\n",
       "      <td>2014.0</td>\n",
       "    </tr>\n",
       "    <tr>\n",
       "      <th>3</th>\n",
       "      <td>1003811167</td>\n",
       "      <td>SORELL</td>\n",
       "      <td>PAUL</td>\n",
       "      <td>HUNTINGTON</td>\n",
       "      <td>Pain Management</td>\n",
       "      <td>npi</td>\n",
       "      <td>2017.0</td>\n",
       "    </tr>\n",
       "    <tr>\n",
       "      <th>4</th>\n",
       "      <td>1003817743</td>\n",
       "      <td>ECKMAN</td>\n",
       "      <td>CHARLES</td>\n",
       "      <td>OKLAHOMA CITY</td>\n",
       "      <td>Interventional Pain Management</td>\n",
       "      <td>npi</td>\n",
       "      <td>2017.0</td>\n",
       "    </tr>\n",
       "  </tbody>\n",
       "</table>\n",
       "</div>"
      ],
      "text/plain": [
       "          npi last/org name first name           city  \\\n",
       "0  1003042441         MANZO       MARK        GRAFTON   \n",
       "1  1003801044         AFZAL       FIAZ         KENNER   \n",
       "2  1003809195        MACKEY     JOSEPH   BLUE SPRINGS   \n",
       "3  1003811167        SORELL       PAUL     HUNTINGTON   \n",
       "4  1003817743        ECKMAN    CHARLES  OKLAHOMA CITY   \n",
       "\n",
       "                        specialty exclusion_method  exclusion_year  \n",
       "0             Physician Assistant              npi          2016.0  \n",
       "1               Internal Medicine              npi          2014.0  \n",
       "2                 Family Practice              npi          2014.0  \n",
       "3                 Pain Management              npi          2017.0  \n",
       "4  Interventional Pain Management              npi          2017.0  "
      ]
     },
     "execution_count": 184,
     "metadata": {},
     "output_type": "execute_result"
    }
   ],
   "source": [
    "PartD_id_labeled_npi = PartD_id[PartD_id['exclusion_method'] == 'npi'].reset_index(drop=True)\n",
    "PartD_id_labeled_npi.head()"
   ]
  },
  {
   "cell_type": "code",
   "execution_count": 190,
   "metadata": {},
   "outputs": [
    {
     "name": "stdout",
     "output_type": "stream",
     "text": [
      "(1296102, 7) (1217, 7) (1294885, 7)\n"
     ]
    }
   ],
   "source": [
    "# save data frames for `fuzzy-match`\n",
    "PartD_id_unlabeled = PartD_id[PartD_id['exclusion_method'] != 'npi'].reset_index(drop=True)\n",
    "print(PartD_id.shape, PartD_id_labeled_npi.shape, PartD_id_unlabeled.shape)"
   ]
  },
  {
   "cell_type": "markdown",
   "metadata": {},
   "source": [
    "**_Now, the data formats are all matched up and we can save the tables to efs._**"
   ]
  },
  {
   "cell_type": "code",
   "execution_count": 182,
   "metadata": {},
   "outputs": [],
   "source": [
    "# save to clean data to efs\n",
    "src.save_to_efs(PartD_id, 'PartD_id.csv')\n",
    "src.save_to_efs(PartD_id_labeled_npi, 'PartD_id_labeled_npi.csv')\n",
    "src.save_to_efs(LEIE_id, 'LEIE_id.csv')"
   ]
  },
  {
   "cell_type": "code",
   "execution_count": null,
   "metadata": {},
   "outputs": [],
   "source": []
  }
 ],
 "metadata": {
  "kernelspec": {
   "display_name": "conda_python3",
   "language": "python",
   "name": "conda_python3"
  },
  "language_info": {
   "codemirror_mode": {
    "name": "ipython",
    "version": 3
   },
   "file_extension": ".py",
   "mimetype": "text/x-python",
   "name": "python",
   "nbconvert_exporter": "python",
   "pygments_lexer": "ipython3",
   "version": "3.6.4"
  }
 },
 "nbformat": 4,
 "nbformat_minor": 2
}
