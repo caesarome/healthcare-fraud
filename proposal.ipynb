{
 "cells": [
  {
   "cell_type": "markdown",
   "metadata": {},
   "source": [
    "# Project 1: Doctor or Drug Dealer?"
   ]
  },
  {
   "cell_type": "markdown",
   "metadata": {},
   "source": [
    "<b>Description:</b></br>\n",
    "According to the OIG (the Office of Inspector General of the US Department of Health and Human Services), <b>every year 3000-4000</b> healthcare practitioners have their medical licenses revoked. This project attempts to find out what differentiates the offending healthcare practitioners from the non-offending ones as it relates to prescribing controlled prescription medications. Also, the project will attempt to leverage various machine learning algorthms to predict the likelyhood of a healthcare practioner in losing their medical licence.\n",
    "</br>"
   ]
  },
  {
   "cell_type": "markdown",
   "metadata": {},
   "source": [
    "<b>Presentation format:</b>\n",
    "1. Data visualization will be done in Tableau (I will also look into d3.js) </br>\n",
    "2. Presentation of the research will be done using PowerPoint ( I will also explore other alternatives such as Canva, Prezi, & SlideDog)\n",
    "2. If the research findings have a high predictive value, a web app will be developed jointly with a student from a web-dev cohort.</br>"
   ]
  },
  {
   "cell_type": "markdown",
   "metadata": {},
   "source": [
    "<b>Data sources:</b></br>\n",
    "1. <b>List of offenders:</b> The OIG maintains a List of Excluded Individuals/Entities (LEIE) from Federally funded health care programs pursuant to section 1128 of the Social Security Act (Act) and from Medicare and State health care programs under section 1156 of the Act). In addition to an online search tool, they have a flat file database avaialable for dowload. The records go back to 1977 and the most recent file is about 12.6MB. </br>\n",
    "\n",
    "2. <b>Prescription data:</b> The Center for Medicare and Medicaid Services has a set of various health related data sets, including the Medicare Part D Prescriber Data & Opioid Drug list. The Prescriber data sets for 2013-2016 years are available as flat files and range anywhere from 500-600MB for each year. Information contained in these record can be easily joined with the data from OIG as they both share multiple common fields such as first, last, or business name of the health practioner, their address and a National Provider Identifier or NPI - a unique 10-digit identification number issued to health care providers in the United States by the Centers for Medicare and Medicaid Services (CMS).\n",
    "\n",
    "3. <b>Crime data:</b> Socrata claims that they are a market leader in making existing government data discoverable, usable, and actionable for government workers and the people they serve. All data is available in a json format and I have already registered and obtained an app token. A quick look through their data revealed that most of their data-sets are from police departments nationwide. This is exactly what I was looking for to incorporate into my model so I can norrow down the geographical regions where offending health practitioners operate.\n",
    "\n",
    "4. <b>Demographic data:</b> The United States Census Bureau has a large set of demographic data. I plan on incorporating income and education into my model and explore how they impact the predictive peroformance."
   ]
  },
  {
   "cell_type": "markdown",
   "metadata": {},
   "source": [
    "<b>Next steps:</b></br>\n",
    "1. Start pulling the data and cleaning it up.\n",
    "2. Start the EDA.\n",
    "3. Build the data-set to feed into the model.\n",
    "4. Build the model.\n",
    "5. In parallel, keep looking for ways to practice scraping web sites.  So far everywhere I've looked I've been able to find the data in a more or less structured format, either in flat files or a json."
   ]
  },
  {
   "cell_type": "markdown",
   "metadata": {},
   "source": [
    "# Project 2: Hedge spider"
   ]
  },
  {
   "cell_type": "markdown",
   "metadata": {},
   "source": [
    "<b>Description:</b> A common measure of liquidity is a bid-ask spread. The higher the liquidity, the lower the spread and vice-versa. Typically, small-caps will have lower liquidity than large-caps. Currently, there are 3667 publicily traded US companies and on any given day, only 15-20% of them will have published option chains. Therefore, if you hold a long position in a small biotech company you may not be able to implement a covered-call hedging strategy. This project will explore the viability of developing an alternative hedging strategy using machine learning.\n",
    "</br>"
   ]
  },
  {
   "cell_type": "markdown",
   "metadata": {},
   "source": [
    "<b>What problem are you trying to solve?</b> Use machine learning to screen and optimize hedging strategies for stocks that trade with low liqidity. Specifically, by finding suitable alternative strategies in the options market."
   ]
  },
  {
   "cell_type": "markdown",
   "metadata": {},
   "source": [
    "<b>Presentation format:</b>\n",
    "1. Data visualization will be done in Tableau (I will also look into d3.js) </br>\n",
    "2. Presentation of the research will be done using PowerPoint ( I will also explore other alternatives such as Canva, Prezi, & SlideDog)\n",
    "2. If the research findings have a high predictive value, a web app will be developed jointly with a student from a web-dev cohort.</br>"
   ]
  },
  {
   "cell_type": "markdown",
   "metadata": {},
   "source": [
    "<b>Data sources:</b>\n",
    "\n",
    "1. <b>CBOE (Chicago Board of Options Exchange):</b> Cboe is one of the world's largest exchange holding companies, offering cutting-edge trading and investment solutions to investors around the world. Cboe offers trading across a diverse range of products in multiple asset classes and geographies, including options, futures, U.S. and European equities, exchange-traded products (ETPs), global foreign exchange (FX), and multi-asset volatility products. Our trading venues include the largest options exchange in the U.S. and the largest stock exchange by value traded in Europe. In addition, the company is the second-largest stock exchange operator in the U.S. and a leading market globally for ETP trading.\n",
    "\n",
    "2. <b>Quandl:</b> The premier source for financial, economic, and alternative datasets, serving investment professionals. Quandl’s platform is used by over 250,000 people, including analysts from the world’s top hedge funds, asset managers and investment banks."
   ]
  },
  {
   "cell_type": "markdown",
   "metadata": {},
   "source": [
    "<b>Next steps:</b></br>\n",
    "1. Most of the data sets are not free and typically are very high quality. I'll have to figure out how to obtain this data cheaply or for free. Also, it's not likely that options data will be available on sites for me to scrape.\n",
    "2. Start the EDA.\n",
    "3. Build the data-set to feed into the model.\n",
    "4. Build the model."
   ]
  },
  {
   "cell_type": "markdown",
   "metadata": {},
   "source": [
    "# Project 3: Card game"
   ]
  },
  {
   "cell_type": "markdown",
   "metadata": {},
   "source": [
    "A acquintance reached out to me over LinkedIn and said that he may have a good data science project for me. He is an Air Force Intellegence officer and I was looking forward to hearing more about what he had. A couple of days later, we connected and he told me that he's developing a card game and wanted me to help him figure out how fair the game is. Although, I could leverage a combination of python programing, statistics, and read-up on game theory to help him out, this project doesn't have the data component. Therefore, this project isn't a viable data-science project as I had initially hoped. :-("
   ]
  }
 ],
 "metadata": {
  "kernelspec": {
   "display_name": "Python 3",
   "language": "python",
   "name": "python3"
  },
  "language_info": {
   "codemirror_mode": {
    "name": "ipython",
    "version": 3
   },
   "file_extension": ".py",
   "mimetype": "text/x-python",
   "name": "python",
   "nbconvert_exporter": "python",
   "pygments_lexer": "ipython3",
   "version": "3.6.4"
  }
 },
 "nbformat": 4,
 "nbformat_minor": 2
}
