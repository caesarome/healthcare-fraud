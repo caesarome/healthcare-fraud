{
 "cells": [
  {
   "cell_type": "code",
   "execution_count": 1,
   "metadata": {},
   "outputs": [],
   "source": [
    "import pandas as pd\n",
    "import src.scripts as src"
   ]
  },
  {
   "cell_type": "code",
   "execution_count": 2,
   "metadata": {},
   "outputs": [],
   "source": [
    "import pyspark as ps\n",
    "\n",
    "spark = ps.sql.SparkSession.builder \\\n",
    "       .master(\"local[16]\") \\\n",
    "       .appName(\"df lecture\") \\\n",
    "       .getOrCreate()\n",
    "\n",
    "sc = spark.sparkContext"
   ]
  },
  {
   "cell_type": "code",
   "execution_count": 3,
   "metadata": {},
   "outputs": [
    {
     "name": "stdout",
     "output_type": "stream",
     "text": [
      "target_df shape: 90624128 x 4\n",
      "features_df shape: 90624128 x 15\n",
      "generic_drugs_df shape: 90624128 x 2\n"
     ]
    }
   ],
   "source": [
    "# load data from efs\n",
    "efs = '../../SageMaker/efs/DrFraud/data/'\n",
    "features = 'df.csv'\n",
    "features_df = spark.read.csv(efs+features, header=True)\n",
    "\n",
    "target = 'target_df.csv'\n",
    "target_df = spark.read.csv(efs+target, header=True)\n",
    "\n",
    "generic_drugs = 'generic_names_df.csv'\n",
    "generic_drugs_df = spark.read.csv(efs+generic_drugs)\n",
    "\n",
    "print('target_df shape: {} x {}'.format(target_df.count(), len(target_df.columns)))\n",
    "print('features_df shape: {} x {}'.format(features_df.count(), len(features_df.columns)))\n",
    "print('generic_drugs_df shape: {} x {}'.format(generic_drugs_df.count(), len(generic_drugs_df.columns)))"
   ]
  },
  {
   "cell_type": "code",
   "execution_count": 8,
   "metadata": {},
   "outputs": [],
   "source": [
    "# merge generic_drugs_df to df\n",
    "features_df.createTempView('features_df')\n",
    "generic_drugs_df.createTempView('generic_drugs_df')"
   ]
  },
  {
   "cell_type": "code",
   "execution_count": 11,
   "metadata": {},
   "outputs": [
    {
     "ename": "ParseException",
     "evalue": "\"\\nextraneous input ';' expecting <EOF>(line 1, pos 137)\\n\\n== SQL ==\\nSELECT * FROM features_df                      INNER JOIN generic_drugs_df                      ON features_df._c0 = generic_drugs_df._c0;\\n-----------------------------------------------------------------------------------------------------------------------------------------^^^\\n\"",
     "output_type": "error",
     "traceback": [
      "\u001b[0;31m---------------------------------------------------------------------------\u001b[0m",
      "\u001b[0;31mPy4JJavaError\u001b[0m                             Traceback (most recent call last)",
      "\u001b[0;32m~/anaconda3/envs/python3/lib/python3.6/site-packages/pyspark/sql/utils.py\u001b[0m in \u001b[0;36mdeco\u001b[0;34m(*a, **kw)\u001b[0m\n\u001b[1;32m     62\u001b[0m         \u001b[0;32mtry\u001b[0m\u001b[0;34m:\u001b[0m\u001b[0;34m\u001b[0m\u001b[0m\n\u001b[0;32m---> 63\u001b[0;31m             \u001b[0;32mreturn\u001b[0m \u001b[0mf\u001b[0m\u001b[0;34m(\u001b[0m\u001b[0;34m*\u001b[0m\u001b[0ma\u001b[0m\u001b[0;34m,\u001b[0m \u001b[0;34m**\u001b[0m\u001b[0mkw\u001b[0m\u001b[0;34m)\u001b[0m\u001b[0;34m\u001b[0m\u001b[0m\n\u001b[0m\u001b[1;32m     64\u001b[0m         \u001b[0;32mexcept\u001b[0m \u001b[0mpy4j\u001b[0m\u001b[0;34m.\u001b[0m\u001b[0mprotocol\u001b[0m\u001b[0;34m.\u001b[0m\u001b[0mPy4JJavaError\u001b[0m \u001b[0;32mas\u001b[0m \u001b[0me\u001b[0m\u001b[0;34m:\u001b[0m\u001b[0;34m\u001b[0m\u001b[0m\n",
      "\u001b[0;32m~/anaconda3/envs/python3/lib/python3.6/site-packages/py4j/protocol.py\u001b[0m in \u001b[0;36mget_return_value\u001b[0;34m(answer, gateway_client, target_id, name)\u001b[0m\n\u001b[1;32m    327\u001b[0m                     \u001b[0;34m\"An error occurred while calling {0}{1}{2}.\\n\"\u001b[0m\u001b[0;34m.\u001b[0m\u001b[0;34m\u001b[0m\u001b[0m\n\u001b[0;32m--> 328\u001b[0;31m                     format(target_id, \".\", name), value)\n\u001b[0m\u001b[1;32m    329\u001b[0m             \u001b[0;32melse\u001b[0m\u001b[0;34m:\u001b[0m\u001b[0;34m\u001b[0m\u001b[0m\n",
      "\u001b[0;31mPy4JJavaError\u001b[0m: An error occurred while calling o23.sql.\n: org.apache.spark.sql.catalyst.parser.ParseException: \nextraneous input ';' expecting <EOF>(line 1, pos 137)\n\n== SQL ==\nSELECT * FROM features_df                      INNER JOIN generic_drugs_df                      ON features_df._c0 = generic_drugs_df._c0;\n-----------------------------------------------------------------------------------------------------------------------------------------^^^\n\n\tat org.apache.spark.sql.catalyst.parser.ParseException.withCommand(ParseDriver.scala:239)\n\tat org.apache.spark.sql.catalyst.parser.AbstractSqlParser.parse(ParseDriver.scala:115)\n\tat org.apache.spark.sql.execution.SparkSqlParser.parse(SparkSqlParser.scala:48)\n\tat org.apache.spark.sql.catalyst.parser.AbstractSqlParser.parsePlan(ParseDriver.scala:69)\n\tat org.apache.spark.sql.SparkSession.sql(SparkSession.scala:641)\n\tat sun.reflect.NativeMethodAccessorImpl.invoke0(Native Method)\n\tat sun.reflect.NativeMethodAccessorImpl.invoke(NativeMethodAccessorImpl.java:62)\n\tat sun.reflect.DelegatingMethodAccessorImpl.invoke(DelegatingMethodAccessorImpl.java:43)\n\tat java.lang.reflect.Method.invoke(Method.java:498)\n\tat py4j.reflection.MethodInvoker.invoke(MethodInvoker.java:244)\n\tat py4j.reflection.ReflectionEngine.invoke(ReflectionEngine.java:357)\n\tat py4j.Gateway.invoke(Gateway.java:282)\n\tat py4j.commands.AbstractCommand.invokeMethod(AbstractCommand.java:132)\n\tat py4j.commands.CallCommand.execute(CallCommand.java:79)\n\tat py4j.GatewayConnection.run(GatewayConnection.java:238)\n\tat java.lang.Thread.run(Thread.java:745)\n",
      "\nDuring handling of the above exception, another exception occurred:\n",
      "\u001b[0;31mParseException\u001b[0m                            Traceback (most recent call last)",
      "\u001b[0;32m<ipython-input-11-20b110952322>\u001b[0m in \u001b[0;36m<module>\u001b[0;34m()\u001b[0m\n\u001b[0;32m----> 1\u001b[0;31m \u001b[0mdf_full\u001b[0m \u001b[0;34m=\u001b[0m \u001b[0mspark\u001b[0m\u001b[0;34m.\u001b[0m\u001b[0msql\u001b[0m\u001b[0;34m(\u001b[0m\u001b[0;34m'SELECT * FROM features_df                      INNER JOIN generic_drugs_df                      ON features_df._c0 = generic_drugs_df._c0;'\u001b[0m\u001b[0;34m)\u001b[0m\u001b[0;34m\u001b[0m\u001b[0m\n\u001b[0m",
      "\u001b[0;32m~/anaconda3/envs/python3/lib/python3.6/site-packages/pyspark/sql/session.py\u001b[0m in \u001b[0;36msql\u001b[0;34m(self, sqlQuery)\u001b[0m\n\u001b[1;32m    708\u001b[0m         \u001b[0;34m[\u001b[0m\u001b[0mRow\u001b[0m\u001b[0;34m(\u001b[0m\u001b[0mf1\u001b[0m\u001b[0;34m=\u001b[0m\u001b[0;36m1\u001b[0m\u001b[0;34m,\u001b[0m \u001b[0mf2\u001b[0m\u001b[0;34m=\u001b[0m\u001b[0;34mu'row1'\u001b[0m\u001b[0;34m)\u001b[0m\u001b[0;34m,\u001b[0m \u001b[0mRow\u001b[0m\u001b[0;34m(\u001b[0m\u001b[0mf1\u001b[0m\u001b[0;34m=\u001b[0m\u001b[0;36m2\u001b[0m\u001b[0;34m,\u001b[0m \u001b[0mf2\u001b[0m\u001b[0;34m=\u001b[0m\u001b[0;34mu'row2'\u001b[0m\u001b[0;34m)\u001b[0m\u001b[0;34m,\u001b[0m \u001b[0mRow\u001b[0m\u001b[0;34m(\u001b[0m\u001b[0mf1\u001b[0m\u001b[0;34m=\u001b[0m\u001b[0;36m3\u001b[0m\u001b[0;34m,\u001b[0m \u001b[0mf2\u001b[0m\u001b[0;34m=\u001b[0m\u001b[0;34mu'row3'\u001b[0m\u001b[0;34m)\u001b[0m\u001b[0;34m]\u001b[0m\u001b[0;34m\u001b[0m\u001b[0m\n\u001b[1;32m    709\u001b[0m         \"\"\"\n\u001b[0;32m--> 710\u001b[0;31m         \u001b[0;32mreturn\u001b[0m \u001b[0mDataFrame\u001b[0m\u001b[0;34m(\u001b[0m\u001b[0mself\u001b[0m\u001b[0;34m.\u001b[0m\u001b[0m_jsparkSession\u001b[0m\u001b[0;34m.\u001b[0m\u001b[0msql\u001b[0m\u001b[0;34m(\u001b[0m\u001b[0msqlQuery\u001b[0m\u001b[0;34m)\u001b[0m\u001b[0;34m,\u001b[0m \u001b[0mself\u001b[0m\u001b[0;34m.\u001b[0m\u001b[0m_wrapped\u001b[0m\u001b[0;34m)\u001b[0m\u001b[0;34m\u001b[0m\u001b[0m\n\u001b[0m\u001b[1;32m    711\u001b[0m \u001b[0;34m\u001b[0m\u001b[0m\n\u001b[1;32m    712\u001b[0m     \u001b[0;34m@\u001b[0m\u001b[0msince\u001b[0m\u001b[0;34m(\u001b[0m\u001b[0;36m2.0\u001b[0m\u001b[0;34m)\u001b[0m\u001b[0;34m\u001b[0m\u001b[0m\n",
      "\u001b[0;32m~/anaconda3/envs/python3/lib/python3.6/site-packages/py4j/java_gateway.py\u001b[0m in \u001b[0;36m__call__\u001b[0;34m(self, *args)\u001b[0m\n\u001b[1;32m   1255\u001b[0m         \u001b[0manswer\u001b[0m \u001b[0;34m=\u001b[0m \u001b[0mself\u001b[0m\u001b[0;34m.\u001b[0m\u001b[0mgateway_client\u001b[0m\u001b[0;34m.\u001b[0m\u001b[0msend_command\u001b[0m\u001b[0;34m(\u001b[0m\u001b[0mcommand\u001b[0m\u001b[0;34m)\u001b[0m\u001b[0;34m\u001b[0m\u001b[0m\n\u001b[1;32m   1256\u001b[0m         return_value = get_return_value(\n\u001b[0;32m-> 1257\u001b[0;31m             answer, self.gateway_client, self.target_id, self.name)\n\u001b[0m\u001b[1;32m   1258\u001b[0m \u001b[0;34m\u001b[0m\u001b[0m\n\u001b[1;32m   1259\u001b[0m         \u001b[0;32mfor\u001b[0m \u001b[0mtemp_arg\u001b[0m \u001b[0;32min\u001b[0m \u001b[0mtemp_args\u001b[0m\u001b[0;34m:\u001b[0m\u001b[0;34m\u001b[0m\u001b[0m\n",
      "\u001b[0;32m~/anaconda3/envs/python3/lib/python3.6/site-packages/pyspark/sql/utils.py\u001b[0m in \u001b[0;36mdeco\u001b[0;34m(*a, **kw)\u001b[0m\n\u001b[1;32m     71\u001b[0m                 \u001b[0;32mraise\u001b[0m \u001b[0mAnalysisException\u001b[0m\u001b[0;34m(\u001b[0m\u001b[0ms\u001b[0m\u001b[0;34m.\u001b[0m\u001b[0msplit\u001b[0m\u001b[0;34m(\u001b[0m\u001b[0;34m': '\u001b[0m\u001b[0;34m,\u001b[0m \u001b[0;36m1\u001b[0m\u001b[0;34m)\u001b[0m\u001b[0;34m[\u001b[0m\u001b[0;36m1\u001b[0m\u001b[0;34m]\u001b[0m\u001b[0;34m,\u001b[0m \u001b[0mstackTrace\u001b[0m\u001b[0;34m)\u001b[0m\u001b[0;34m\u001b[0m\u001b[0m\n\u001b[1;32m     72\u001b[0m             \u001b[0;32mif\u001b[0m \u001b[0ms\u001b[0m\u001b[0;34m.\u001b[0m\u001b[0mstartswith\u001b[0m\u001b[0;34m(\u001b[0m\u001b[0;34m'org.apache.spark.sql.catalyst.parser.ParseException: '\u001b[0m\u001b[0;34m)\u001b[0m\u001b[0;34m:\u001b[0m\u001b[0;34m\u001b[0m\u001b[0m\n\u001b[0;32m---> 73\u001b[0;31m                 \u001b[0;32mraise\u001b[0m \u001b[0mParseException\u001b[0m\u001b[0;34m(\u001b[0m\u001b[0ms\u001b[0m\u001b[0;34m.\u001b[0m\u001b[0msplit\u001b[0m\u001b[0;34m(\u001b[0m\u001b[0;34m': '\u001b[0m\u001b[0;34m,\u001b[0m \u001b[0;36m1\u001b[0m\u001b[0;34m)\u001b[0m\u001b[0;34m[\u001b[0m\u001b[0;36m1\u001b[0m\u001b[0;34m]\u001b[0m\u001b[0;34m,\u001b[0m \u001b[0mstackTrace\u001b[0m\u001b[0;34m)\u001b[0m\u001b[0;34m\u001b[0m\u001b[0m\n\u001b[0m\u001b[1;32m     74\u001b[0m             \u001b[0;32mif\u001b[0m \u001b[0ms\u001b[0m\u001b[0;34m.\u001b[0m\u001b[0mstartswith\u001b[0m\u001b[0;34m(\u001b[0m\u001b[0;34m'org.apache.spark.sql.streaming.StreamingQueryException: '\u001b[0m\u001b[0;34m)\u001b[0m\u001b[0;34m:\u001b[0m\u001b[0;34m\u001b[0m\u001b[0m\n\u001b[1;32m     75\u001b[0m                 \u001b[0;32mraise\u001b[0m \u001b[0mStreamingQueryException\u001b[0m\u001b[0;34m(\u001b[0m\u001b[0ms\u001b[0m\u001b[0;34m.\u001b[0m\u001b[0msplit\u001b[0m\u001b[0;34m(\u001b[0m\u001b[0;34m': '\u001b[0m\u001b[0;34m,\u001b[0m \u001b[0;36m1\u001b[0m\u001b[0;34m)\u001b[0m\u001b[0;34m[\u001b[0m\u001b[0;36m1\u001b[0m\u001b[0;34m]\u001b[0m\u001b[0;34m,\u001b[0m \u001b[0mstackTrace\u001b[0m\u001b[0;34m)\u001b[0m\u001b[0;34m\u001b[0m\u001b[0m\n",
      "\u001b[0;31mParseException\u001b[0m: \"\\nextraneous input ';' expecting <EOF>(line 1, pos 137)\\n\\n== SQL ==\\nSELECT * FROM features_df                      INNER JOIN generic_drugs_df                      ON features_df._c0 = generic_drugs_df._c0;\\n-----------------------------------------------------------------------------------------------------------------------------------------^^^\\n\""
     ]
    }
   ],
   "source": [
    "df_full = spark.sql('SELECT * FROM features_df \\\n",
    "                     INNER JOIN generic_drugs_df \\\n",
    "                     ON features_df._c0 = generic_drugs_df._c0;')"
   ]
  },
  {
   "cell_type": "code",
   "execution_count": 10,
   "metadata": {},
   "outputs": [
    {
     "data": {
      "text/plain": [
       "['_c0',\n",
       " 'bene_count',\n",
       " 'total_claim_count',\n",
       " 'total_30_day_fill_count',\n",
       " 'total_day_supply',\n",
       " 'total_drug_cost',\n",
       " 'bene_count_ge65',\n",
       " 'total_claim_count_ge65',\n",
       " 'total_30_day_fill_count_ge65',\n",
       " 'total_day_supply_ge65',\n",
       " 'total_drug_cost_ge65',\n",
       " 'total_drug_cost_per_beneficiary',\n",
       " 'total_drug_cost_per_claim',\n",
       " 'total_drug_cost_per_beneficiary_ge65',\n",
       " 'total_drug_cost_per_claim_ge65']"
      ]
     },
     "execution_count": 10,
     "metadata": {},
     "output_type": "execute_result"
    }
   ],
   "source": [
    "features_df.columns"
   ]
  },
  {
   "cell_type": "code",
   "execution_count": 38,
   "metadata": {},
   "outputs": [
    {
     "data": {
      "text/html": [
       "<div>\n",
       "<style scoped>\n",
       "    .dataframe tbody tr th:only-of-type {\n",
       "        vertical-align: middle;\n",
       "    }\n",
       "\n",
       "    .dataframe tbody tr th {\n",
       "        vertical-align: top;\n",
       "    }\n",
       "\n",
       "    .dataframe thead th {\n",
       "        text-align: right;\n",
       "    }\n",
       "</style>\n",
       "<table border=\"1\" class=\"dataframe\">\n",
       "  <thead>\n",
       "    <tr style=\"text-align: right;\">\n",
       "      <th></th>\n",
       "      <th>0.9 % SODIUM CHLORIDE</th>\n",
       "      <th>AA 3%/ELECTROLYTE-TPN SOLN/GLY</th>\n",
       "      <th>AA 3.31 %/D9.8W/FAT/ELECT #10</th>\n",
       "      <th>AA 4.25%/CALCIUM/LYTES/D25W</th>\n",
       "      <th>AA 4.25%/CALCIUM/LYTES/D5W</th>\n",
       "      <th>AA 4.25%/CALCIUM/LYTES/DEX 10%</th>\n",
       "      <th>AA 5 %/CALCIUM/LYTES/DEXT 15 %</th>\n",
       "      <th>AA 5 %/CALCIUM/LYTES/DEXT 20 %</th>\n",
       "      <th>AA 5 %/CALCIUM/LYTES/DEXT 25 %</th>\n",
       "      <th>ABACAVIR SULFATE</th>\n",
       "      <th>...</th>\n",
       "      <th>ZIPRASIDONE HCL</th>\n",
       "      <th>ZIPRASIDONE MESYLATE</th>\n",
       "      <th>ZIV-AFLIBERCEPT</th>\n",
       "      <th>ZOLEDRONIC ACID</th>\n",
       "      <th>ZOLEDRONIC ACID/MANNITOL&amp;WATER</th>\n",
       "      <th>ZOLEDRONIC ACID/MANNITOL-WATER</th>\n",
       "      <th>ZOLMITRIPTAN</th>\n",
       "      <th>ZOLPIDEM TARTRATE</th>\n",
       "      <th>ZONISAMIDE</th>\n",
       "      <th>ZOSTER VACCINE LIVE/PF</th>\n",
       "    </tr>\n",
       "  </thead>\n",
       "  <tbody>\n",
       "  </tbody>\n",
       "</table>\n",
       "<p>0 rows × 2000 columns</p>\n",
       "</div>"
      ],
      "text/plain": [
       "Empty DataFrame\n",
       "Columns: [0.9 % SODIUM CHLORIDE, AA 3%/ELECTROLYTE-TPN SOLN/GLY, AA 3.31 %/D9.8W/FAT/ELECT #10, AA 4.25%/CALCIUM/LYTES/D25W, AA 4.25%/CALCIUM/LYTES/D5W, AA 4.25%/CALCIUM/LYTES/DEX 10%, AA 5 %/CALCIUM/LYTES/DEXT 15 %, AA 5 %/CALCIUM/LYTES/DEXT 20 %, AA 5 %/CALCIUM/LYTES/DEXT 25 %, ABACAVIR SULFATE, ABACAVIR SULFATE/LAMIVUDINE, ABACAVIR/DOLUTEGRAVIR/LAMIVUDI, ABACAVIR/LAMIVUDINE/ZIDOVUDINE, ABATACEPT, ABATACEPT/MALTOSE, ABIRATERONE ACETATE, ABOBOTULINUMTOXINA, ACAMPROSATE CALCIUM, ACARBOSE, ACEBUTOLOL HCL, ACETAMINOPHEN WITH CODEINE, ACETAMINOPHEN/CAFF/DIHYDROCOD, ACETAMINOPHEN/PHENYLTOLX, ACETAMINOPHEN/PHENYLTOLX CIT, ACETAZOLAMIDE, ACETAZOLAMIDE SODIUM, ACETIC ACID, ACETIC ACID/ALUMINUM ACETATE, ACETIC ACID/HYDROCORTISONE, ACETIC ACID/OXYQUINOLINE, ACETOHYDROXAMIC ACID, ACETYL/METHYL-B12/LMEFOLATE CA, ACETYLCYSTEINE, ACITRETIN, ACLIDINIUM BROMIDE, ACYCLOVIR, ACYCLOVIR SODIUM, ACYCLOVIR/HYDROCORTISONE, ADALIMUMAB, ADAPALENE, ADAPALENE/BENZOYL PEROXIDE, ADEFOVIR DIPIVOXIL, ADO-TRASTUZUMAB EMTANSINE, AFATINIB DIMALEATE, AFLIBERCEPT, AGALSIDASE BETA, ALBENDAZOLE, ALBIGLUTIDE, ALBUMIN HUMAN, ALBUTEROL SULFATE, ALCAFTADINE, ALCLOMETASONE DIPROPIONATE, ALCOHOL ANTISEPTIC PADS, ALDESLEUKIN, ALECTINIB HCL, ALENDRONATE SODIUM, ALENDRONATE SODIUM/VITAMIN D3, ALFUZOSIN HCL, ALGLUCOSIDASE ALFA, ALIROCUMAB, ALISKIREN HEMIFUMARATE, ALISKIREN/AMLODIPIN/HCTHIAZIDE, ALISKIREN/AMLODIPINE BESYLATE, ALISKIREN/HYDROCHLOROTHIAZIDE, ALISKIREN/VALSARTAN, ALITRETINOIN, ALLOPURINOL, ALMOTRIPTAN MALATE, ALOGLIPTIN BENZ/METFORMIN HCL, ALOGLIPTIN BENZ/PIOGLITAZONE, ALOGLIPTIN BENZ/PIOGLITZONE, ALOGLIPTIN BENZOATE, ALOSETRON HCL, ALPHA-1-PROTEINASE INHIBITOR, ALPRAZOLAM, ALPROSTADIL, ALTRETAMINE, ALUMINUM CHLORIDE, AMANTADINE HCL, AMBRISENTAN, AMCINONIDE, AMIFOSTINE CRYSTALLINE, AMIKACIN SULFATE, AMILORIDE HCL, AMILORIDE/HYDROCHLOROTHIAZIDE, AMINO ACIDS 10 %, AMINO ACIDS 4.25 %/DEXTROSE 5%, AMINO ACIDS 4.25%/DEXTROSE 10%, AMINO ACIDS 4.25%/DEXTROSE 20%, AMINO ACIDS 5 %/DEXTROSE 15 %, AMINO ACIDS 5 %/DEXTROSE 20 %, AMINO ACIDS 5 %/DEXTROSE 25 %, AMINO ACIDS 8 %, AMINOCAPROIC ACID, AMINOLEVULINIC ACID HCL, AMIODARONE HCL, AMITRIP HCL/CHLORDIAZEPOXIDE, AMITRIPTYLINE HCL, AMITRIPTYLINE/CHLORDIAZEPOXIDE, AMLODIPINE BES/OLMESARTAN MED, ...]\n",
       "Index: []\n",
       "\n",
       "[0 rows x 2000 columns]"
      ]
     },
     "execution_count": 38,
     "metadata": {},
     "output_type": "execute_result"
    }
   ],
   "source": []
  },
  {
   "cell_type": "code",
   "execution_count": null,
   "metadata": {},
   "outputs": [],
   "source": []
  }
 ],
 "metadata": {
  "kernelspec": {
   "display_name": "conda_python3",
   "language": "python",
   "name": "conda_python3"
  },
  "language_info": {
   "codemirror_mode": {
    "name": "ipython",
    "version": 3
   },
   "file_extension": ".py",
   "mimetype": "text/x-python",
   "name": "python",
   "nbconvert_exporter": "python",
   "pygments_lexer": "ipython3",
   "version": "3.6.4"
  }
 },
 "nbformat": 4,
 "nbformat_minor": 2
}
