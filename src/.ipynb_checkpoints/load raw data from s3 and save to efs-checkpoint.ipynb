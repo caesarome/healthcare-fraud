{
 "cells": [
  {
   "cell_type": "code",
   "execution_count": null,
   "metadata": {},
   "outputs": [],
   "source": [
    "import pandas as pd\n",
    "import src.scripts as src"
   ]
  },
  {
   "cell_type": "markdown",
   "metadata": {},
   "source": [
    "## Load Raw Data from AWS S3\n",
    "---\n",
    "**_This takes a very long time!_**"
   ]
  },
  {
   "cell_type": "code",
   "execution_count": 4,
   "metadata": {},
   "outputs": [],
   "source": [
    "# Load raw LEIE data\n",
    "LEIE = src.read_s3('06-2018 LEIE.csv')\n",
    "\n",
    "# Load and process all raw Medicare Part D data\n",
    "path_tuples = [(\"PartD_Prescriber_PUF_NPI_Drug_13.txt\", 2013),\n",
    "               (\"PartD_Prescriber_PUF_NPI_Drug_14.txt\", 2014),\n",
    "               (\"PartD_Prescriber_PUF_NPI_Drug_15.txt\", 2015),\n",
    "               (\"PartD_Prescriber_PUF_NPI_Drug_16.txt\", 2016)]\n",
    "\n",
    "df_list = []\n",
    "for path in path_tuples:\n",
    "    f_name = path[0] # Where the file is within your bucket\n",
    "    df = src.read_s3(f_name, sep='\\t')\n",
    "    year = path[1]\n",
    "    df_yr = src.add_year(df, year)\n",
    "    df_list.append(df_yr)\n",
    "PartD = pd.concat(df_list, axis=0)"
   ]
  },
  {
   "cell_type": "markdown",
   "metadata": {},
   "source": [
    "## Save data to EFS\n",
    "---"
   ]
  },
  {
   "cell_type": "code",
   "execution_count": 23,
   "metadata": {},
   "outputs": [],
   "source": [
    "LEIE.to_csv('~/SageMaker/efs/DrFraud/data/raw_LEIE.csv',sep=',')\n",
    "PartD.to_csv('~/SageMaker/efs/DrFraud/data/raw_PartD.csv',sep=',')"
   ]
  },
  {
   "cell_type": "code",
   "execution_count": null,
   "metadata": {},
   "outputs": [],
   "source": [
    "df[\"year\"] = pd.to_datetime(df[\"EXCLDATE\"], format=\"%Y%m%d\").dt.year\n",
    "df[\"month\"] = pd.to_datetime(df[\"EXCLDATE\"], format=\"%Y%m%d\").dt.month"
   ]
  }
 ],
 "metadata": {
  "kernelspec": {
   "display_name": "conda_python3",
   "language": "python",
   "name": "conda_python3"
  },
  "language_info": {
   "codemirror_mode": {
    "name": "ipython",
    "version": 3
   },
   "file_extension": ".py",
   "mimetype": "text/x-python",
   "name": "python",
   "nbconvert_exporter": "python",
   "pygments_lexer": "ipython3",
   "version": "3.6.4"
  }
 },
 "nbformat": 4,
 "nbformat_minor": 2
}
