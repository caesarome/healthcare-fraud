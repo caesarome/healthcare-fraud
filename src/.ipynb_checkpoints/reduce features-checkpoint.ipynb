{
 "cells": [
  {
   "cell_type": "markdown",
   "metadata": {},
   "source": [
    "# Reduce dimensions\n",
    "---\n",
    "> 1. Load and prep data\n",
    "> 2. Focus on prescriptions that make up a significant annual dollar volume per prescriber\n",
    "> 3. Focus on states with highest exclusion rates\n"
   ]
  },
  {
   "cell_type": "code",
   "execution_count": 3,
   "metadata": {},
   "outputs": [
    {
     "name": "stdout",
     "output_type": "stream",
     "text": [
      "Requirement already satisfied: tqdm in /home/ec2-user/anaconda3/envs/python3/lib/python3.6/site-packages (4.24.0)\n",
      "\u001b[31mdistributed 1.21.8 requires msgpack, which is not installed.\u001b[0m\n",
      "\u001b[33mYou are using pip version 10.0.1, however version 18.0 is available.\n",
      "You should consider upgrading via the 'pip install --upgrade pip' command.\u001b[0m\n"
     ]
    }
   ],
   "source": [
    "# import packages\n",
    "import numpy as np\n",
    "import pandas as pd\n",
    "import matplotlib.pyplot as plt\n",
    "%matplotlib inline\n",
    "\n",
    "from multiprocessing import Pool\n",
    "!pip install tqdm\n",
    "from tqdm import tqdm_notebook\n",
    "import itertools\n",
    "\n",
    "# import own scripts\n",
    "import sys\n",
    "sys.path.insert(0, '/healthcare-fraud/src/')\n",
    "import scripts as src"
   ]
  },
  {
   "cell_type": "code",
   "execution_count": null,
   "metadata": {},
   "outputs": [],
   "source": [
    "LEIE = src.read_from_efs('LEIE_id_full.csv')\n",
    "print('LEIE shape: ', LEIE.shape)\n",
    "excl_npi = LEIE['npi'].drop_duplicates().tolist()"
   ]
  },
  {
   "cell_type": "code",
   "execution_count": null,
   "metadata": {},
   "outputs": [],
   "source": [
    "df = src.read_from_efs('df.csv')\n",
    "print('df shape: ', df.shape)\n",
    "df.head()"
   ]
  },
  {
   "cell_type": "code",
   "execution_count": 5,
   "metadata": {},
   "outputs": [
    {
     "name": "stderr",
     "output_type": "stream",
     "text": [
      "/home/ec2-user/anaconda3/envs/python3/lib/python3.6/site-packages/numpy/lib/arraysetops.py:472: FutureWarning: elementwise comparison failed; returning scalar instead, but in the future will perform elementwise comparison\n",
      "  mask |= (ar1 == a)\n"
     ]
    },
    {
     "name": "stdout",
     "output_type": "stream",
     "text": [
      "df_clean shape:  (74268650, 23)\n"
     ]
    },
    {
     "data": {
      "text/html": [
       "<div>\n",
       "<style scoped>\n",
       "    .dataframe tbody tr th:only-of-type {\n",
       "        vertical-align: middle;\n",
       "    }\n",
       "\n",
       "    .dataframe tbody tr th {\n",
       "        vertical-align: top;\n",
       "    }\n",
       "\n",
       "    .dataframe thead th {\n",
       "        text-align: right;\n",
       "    }\n",
       "</style>\n",
       "<table border=\"1\" class=\"dataframe\">\n",
       "  <thead>\n",
       "    <tr style=\"text-align: right;\">\n",
       "      <th></th>\n",
       "      <th>year</th>\n",
       "      <th>npi</th>\n",
       "      <th>nppes_provider_last_org_name</th>\n",
       "      <th>nppes_provider_first_name</th>\n",
       "      <th>specialty_description</th>\n",
       "      <th>nppes_provider_city</th>\n",
       "      <th>nppes_provider_state</th>\n",
       "      <th>excluded</th>\n",
       "      <th>generic_name</th>\n",
       "      <th>bene_count</th>\n",
       "      <th>...</th>\n",
       "      <th>total_drug_cost</th>\n",
       "      <th>bene_count_ge65</th>\n",
       "      <th>total_claim_count_ge65</th>\n",
       "      <th>total_30_day_fill_count_ge65</th>\n",
       "      <th>total_day_supply_ge65</th>\n",
       "      <th>total_drug_cost_ge65</th>\n",
       "      <th>total_drug_cost_per_beneficiary</th>\n",
       "      <th>total_drug_cost_per_claim</th>\n",
       "      <th>total_drug_cost_per_beneficiary_ge65</th>\n",
       "      <th>total_drug_cost_per_claim_ge65</th>\n",
       "    </tr>\n",
       "  </thead>\n",
       "  <tbody>\n",
       "    <tr>\n",
       "      <th>0</th>\n",
       "      <td>2013</td>\n",
       "      <td>1003000126</td>\n",
       "      <td>ENKESHAFI</td>\n",
       "      <td>ARDALAN</td>\n",
       "      <td>Internal Medicine</td>\n",
       "      <td>CUMBERLAND</td>\n",
       "      <td>MD</td>\n",
       "      <td>False</td>\n",
       "      <td>ISOSORBIDE MONONITRATE</td>\n",
       "      <td>0.0</td>\n",
       "      <td>...</td>\n",
       "      <td>171.59</td>\n",
       "      <td>0.0</td>\n",
       "      <td>0.0</td>\n",
       "      <td>0.0</td>\n",
       "      <td>0.0</td>\n",
       "      <td>0.00</td>\n",
       "      <td>inf</td>\n",
       "      <td>15.599091</td>\n",
       "      <td>NaN</td>\n",
       "      <td>NaN</td>\n",
       "    </tr>\n",
       "    <tr>\n",
       "      <th>1</th>\n",
       "      <td>2013</td>\n",
       "      <td>1003000126</td>\n",
       "      <td>ENKESHAFI</td>\n",
       "      <td>ARDALAN</td>\n",
       "      <td>Internal Medicine</td>\n",
       "      <td>CUMBERLAND</td>\n",
       "      <td>MD</td>\n",
       "      <td>False</td>\n",
       "      <td>LEVOFLOXACIN</td>\n",
       "      <td>26.0</td>\n",
       "      <td>...</td>\n",
       "      <td>227.10</td>\n",
       "      <td>15.0</td>\n",
       "      <td>15.0</td>\n",
       "      <td>15.0</td>\n",
       "      <td>106.0</td>\n",
       "      <td>159.72</td>\n",
       "      <td>8.734615</td>\n",
       "      <td>8.734615</td>\n",
       "      <td>10.648</td>\n",
       "      <td>10.648</td>\n",
       "    </tr>\n",
       "    <tr>\n",
       "      <th>2</th>\n",
       "      <td>2013</td>\n",
       "      <td>1003000126</td>\n",
       "      <td>ENKESHAFI</td>\n",
       "      <td>ARDALAN</td>\n",
       "      <td>Internal Medicine</td>\n",
       "      <td>CUMBERLAND</td>\n",
       "      <td>MD</td>\n",
       "      <td>False</td>\n",
       "      <td>LISINOPRIL</td>\n",
       "      <td>17.0</td>\n",
       "      <td>...</td>\n",
       "      <td>100.37</td>\n",
       "      <td>0.0</td>\n",
       "      <td>0.0</td>\n",
       "      <td>0.0</td>\n",
       "      <td>0.0</td>\n",
       "      <td>0.00</td>\n",
       "      <td>5.904118</td>\n",
       "      <td>5.282632</td>\n",
       "      <td>NaN</td>\n",
       "      <td>NaN</td>\n",
       "    </tr>\n",
       "    <tr>\n",
       "      <th>3</th>\n",
       "      <td>2013</td>\n",
       "      <td>1003000126</td>\n",
       "      <td>ENKESHAFI</td>\n",
       "      <td>ARDALAN</td>\n",
       "      <td>Internal Medicine</td>\n",
       "      <td>CUMBERLAND</td>\n",
       "      <td>MD</td>\n",
       "      <td>False</td>\n",
       "      <td>METOPROLOL TARTRATE</td>\n",
       "      <td>28.0</td>\n",
       "      <td>...</td>\n",
       "      <td>154.65</td>\n",
       "      <td>0.0</td>\n",
       "      <td>0.0</td>\n",
       "      <td>0.0</td>\n",
       "      <td>0.0</td>\n",
       "      <td>0.00</td>\n",
       "      <td>5.523214</td>\n",
       "      <td>5.155000</td>\n",
       "      <td>NaN</td>\n",
       "      <td>NaN</td>\n",
       "    </tr>\n",
       "    <tr>\n",
       "      <th>4</th>\n",
       "      <td>2013</td>\n",
       "      <td>1003000126</td>\n",
       "      <td>ENKESHAFI</td>\n",
       "      <td>ARDALAN</td>\n",
       "      <td>Internal Medicine</td>\n",
       "      <td>CUMBERLAND</td>\n",
       "      <td>MD</td>\n",
       "      <td>False</td>\n",
       "      <td>PREDNISONE</td>\n",
       "      <td>14.0</td>\n",
       "      <td>...</td>\n",
       "      <td>44.72</td>\n",
       "      <td>0.0</td>\n",
       "      <td>0.0</td>\n",
       "      <td>0.0</td>\n",
       "      <td>0.0</td>\n",
       "      <td>0.00</td>\n",
       "      <td>3.194286</td>\n",
       "      <td>3.194286</td>\n",
       "      <td>NaN</td>\n",
       "      <td>NaN</td>\n",
       "    </tr>\n",
       "  </tbody>\n",
       "</table>\n",
       "<p>5 rows × 23 columns</p>\n",
       "</div>"
      ],
      "text/plain": [
       "   year         npi nppes_provider_last_org_name nppes_provider_first_name  \\\n",
       "0  2013  1003000126                    ENKESHAFI                   ARDALAN   \n",
       "1  2013  1003000126                    ENKESHAFI                   ARDALAN   \n",
       "2  2013  1003000126                    ENKESHAFI                   ARDALAN   \n",
       "3  2013  1003000126                    ENKESHAFI                   ARDALAN   \n",
       "4  2013  1003000126                    ENKESHAFI                   ARDALAN   \n",
       "\n",
       "  specialty_description nppes_provider_city nppes_provider_state  excluded  \\\n",
       "0     Internal Medicine          CUMBERLAND                   MD     False   \n",
       "1     Internal Medicine          CUMBERLAND                   MD     False   \n",
       "2     Internal Medicine          CUMBERLAND                   MD     False   \n",
       "3     Internal Medicine          CUMBERLAND                   MD     False   \n",
       "4     Internal Medicine          CUMBERLAND                   MD     False   \n",
       "\n",
       "             generic_name  bene_count               ...                \\\n",
       "0  ISOSORBIDE MONONITRATE         0.0               ...                 \n",
       "1            LEVOFLOXACIN        26.0               ...                 \n",
       "2              LISINOPRIL        17.0               ...                 \n",
       "3     METOPROLOL TARTRATE        28.0               ...                 \n",
       "4              PREDNISONE        14.0               ...                 \n",
       "\n",
       "   total_drug_cost  bene_count_ge65  total_claim_count_ge65  \\\n",
       "0           171.59              0.0                     0.0   \n",
       "1           227.10             15.0                    15.0   \n",
       "2           100.37              0.0                     0.0   \n",
       "3           154.65              0.0                     0.0   \n",
       "4            44.72              0.0                     0.0   \n",
       "\n",
       "   total_30_day_fill_count_ge65  total_day_supply_ge65  total_drug_cost_ge65  \\\n",
       "0                           0.0                    0.0                  0.00   \n",
       "1                          15.0                  106.0                159.72   \n",
       "2                           0.0                    0.0                  0.00   \n",
       "3                           0.0                    0.0                  0.00   \n",
       "4                           0.0                    0.0                  0.00   \n",
       "\n",
       "   total_drug_cost_per_beneficiary  total_drug_cost_per_claim  \\\n",
       "0                              inf                  15.599091   \n",
       "1                         8.734615                   8.734615   \n",
       "2                         5.904118                   5.282632   \n",
       "3                         5.523214                   5.155000   \n",
       "4                         3.194286                   3.194286   \n",
       "\n",
       "   total_drug_cost_per_beneficiary_ge65  total_drug_cost_per_claim_ge65  \n",
       "0                                   NaN                             NaN  \n",
       "1                                10.648                          10.648  \n",
       "2                                   NaN                             NaN  \n",
       "3                                   NaN                             NaN  \n",
       "4                                   NaN                             NaN  \n",
       "\n",
       "[5 rows x 23 columns]"
      ]
     },
     "execution_count": 5,
     "metadata": {},
     "output_type": "execute_result"
    }
   ],
   "source": [
    "# import data\n",
    "df_clean = src.read_from_efs('df_clean.csv')\n",
    "\n",
    "print('df_clean shape: ', df_clean.shape)\n",
    "df_clean.head()"
   ]
  },
  {
   "cell_type": "code",
   "execution_count": 7,
   "metadata": {},
   "outputs": [
    {
     "name": "stdout",
     "output_type": "stream",
     "text": [
      "711 582396\n"
     ]
    }
   ],
   "source": [
    "npi_excl = df_clean['npi'][df_clean['excluded']].drop_duplicates()\n",
    "npi_ok = df_clean['npi'][~df_clean['excluded']].drop_duplicates()\n",
    "print(len(npi_excl), len(npi_ok))"
   ]
  },
  {
   "cell_type": "code",
   "execution_count": null,
   "metadata": {},
   "outputs": [],
   "source": []
  },
  {
   "cell_type": "markdown",
   "metadata": {},
   "source": [
    "## Exclude extremely rare prescriptions\n",
    "---\n",
    "> It's reasonable to use `total_30_day_fill_count` and `total_30_day_fill_count_ge65`"
   ]
  },
  {
   "cell_type": "code",
   "execution_count": 30,
   "metadata": {},
   "outputs": [
    {
     "name": "stdout",
     "output_type": "stream",
     "text": [
      "generic_name_cnt shape:  (2000, 4)\n"
     ]
    },
    {
     "data": {
      "text/html": [
       "<div>\n",
       "<style scoped>\n",
       "    .dataframe tbody tr th:only-of-type {\n",
       "        vertical-align: middle;\n",
       "    }\n",
       "\n",
       "    .dataframe tbody tr th {\n",
       "        vertical-align: top;\n",
       "    }\n",
       "\n",
       "    .dataframe thead th {\n",
       "        text-align: right;\n",
       "    }\n",
       "</style>\n",
       "<table border=\"1\" class=\"dataframe\">\n",
       "  <thead>\n",
       "    <tr style=\"text-align: right;\">\n",
       "      <th></th>\n",
       "      <th>generic_name</th>\n",
       "      <th>total_30_day_fill_count</th>\n",
       "      <th>total_30_day_fill_count_ge65</th>\n",
       "      <th>sum</th>\n",
       "    </tr>\n",
       "  </thead>\n",
       "  <tbody>\n",
       "    <tr>\n",
       "      <th>0</th>\n",
       "      <td>LEVOTHYROXINE SODIUM</td>\n",
       "      <td>3.001949e+08</td>\n",
       "      <td>2.126020e+08</td>\n",
       "      <td>5.127969e+08</td>\n",
       "    </tr>\n",
       "    <tr>\n",
       "      <th>1</th>\n",
       "      <td>LISINOPRIL</td>\n",
       "      <td>2.690315e+08</td>\n",
       "      <td>1.825493e+08</td>\n",
       "      <td>4.515808e+08</td>\n",
       "    </tr>\n",
       "    <tr>\n",
       "      <th>2</th>\n",
       "      <td>ATORVASTATIN CALCIUM</td>\n",
       "      <td>2.542927e+08</td>\n",
       "      <td>1.706823e+08</td>\n",
       "      <td>4.249749e+08</td>\n",
       "    </tr>\n",
       "    <tr>\n",
       "      <th>3</th>\n",
       "      <td>AMLODIPINE BESYLATE</td>\n",
       "      <td>2.505615e+08</td>\n",
       "      <td>1.642932e+08</td>\n",
       "      <td>4.148547e+08</td>\n",
       "    </tr>\n",
       "    <tr>\n",
       "      <th>4</th>\n",
       "      <td>SIMVASTATIN</td>\n",
       "      <td>2.439057e+08</td>\n",
       "      <td>1.619067e+08</td>\n",
       "      <td>4.058124e+08</td>\n",
       "    </tr>\n",
       "  </tbody>\n",
       "</table>\n",
       "</div>"
      ],
      "text/plain": [
       "           generic_name  total_30_day_fill_count  \\\n",
       "0  LEVOTHYROXINE SODIUM             3.001949e+08   \n",
       "1            LISINOPRIL             2.690315e+08   \n",
       "2  ATORVASTATIN CALCIUM             2.542927e+08   \n",
       "3   AMLODIPINE BESYLATE             2.505615e+08   \n",
       "4           SIMVASTATIN             2.439057e+08   \n",
       "\n",
       "   total_30_day_fill_count_ge65           sum  \n",
       "0                  2.126020e+08  5.127969e+08  \n",
       "1                  1.825493e+08  4.515808e+08  \n",
       "2                  1.706823e+08  4.249749e+08  \n",
       "3                  1.642932e+08  4.148547e+08  \n",
       "4                  1.619067e+08  4.058124e+08  "
      ]
     },
     "execution_count": 30,
     "metadata": {},
     "output_type": "execute_result"
    }
   ],
   "source": [
    "# clean nans and infs and convert to values\n",
    "X = X.fillna(0).replace(np.inf, 0)\n",
    "\n",
    "generic_name_cnt = X.groupby('generic_name').agg('sum').reset_index()[['generic_name',\n",
    "                                                                       'total_30_day_fill_count',\n",
    "                                                                       'total_30_day_fill_count_ge65']]\n",
    "\n",
    "generic_name_cnt['sum'] = generic_name_cnt['total_30_day_fill_count'] + generic_name_cnt['total_30_day_fill_count_ge65']\n",
    "\n",
    "generic_name_cnt.sort_values(by='sum', ascending=False, inplace=True)\n",
    "generic_name_cnt.reset_index(drop=True, inplace=True)\n",
    "print('generic_name_cnt shape: ', generic_name_cnt.shape)\n",
    "generic_name_cnt.head()"
   ]
  },
  {
   "cell_type": "code",
   "execution_count": 37,
   "metadata": {},
   "outputs": [
    {
     "data": {
      "image/png": "[encoded data removed]",
      "text/plain": [
       "<Figure size 576x360 with 1 Axes>"
      ]
     },
     "metadata": {},
     "output_type": "display_data"
    }
   ],
   "source": [
    "data = generic_name_cnt['sum']\n",
    "threshold = 250\n",
    "src.log_plot(data, threshold,'Prescription count `generic_name` in descending order', \\\n",
    "         'Prescription Count', 'generic_name', logx=True, logy=True, figsize=(8,5))\n",
    "plt.show()"
   ]
  },
  {
   "cell_type": "code",
   "execution_count": 38,
   "metadata": {},
   "outputs": [],
   "source": [
    "target_drugs = generic_name_cnt['generic_name'][:threshold]\n",
    "\n",
    "# get indeces for target_drugs\n",
    "def find_drug_index(drug):\n",
    "    return X[X['generic_name']==drug].index.tolist()"
   ]
  },
  {
   "cell_type": "code",
   "execution_count": 39,
   "metadata": {},
   "outputs": [
    {
     "name": "stdout",
     "output_type": "stream",
     "text": [
      "Number of available CPU cores: \n",
      "64\n"
     ]
    }
   ],
   "source": [
    "print(\"Number of available CPU cores: \")\n",
    "!cat /proc/cpuinfo | grep processor | wc -l"
   ]
  },
  {
   "cell_type": "code",
   "execution_count": 40,
   "metadata": {},
   "outputs": [
    {
     "data": {
      "application/vnd.jupyter.widget-view+json": {
       "model_id": "8d61b407533f48558c911a7e51d553d8",
       "version_major": 2,
       "version_minor": 0
      },
      "text/plain": [
       "HBox(children=(IntProgress(value=0, max=250), HTML(value='')))"
      ]
     },
     "metadata": {},
     "output_type": "display_data"
    }
   ],
   "source": [
    "# find target indeces for target drugs using multiprocessing\n",
    "processors = 64\n",
    "if __name__ == '__main__':\n",
    "    tasks = target_drugs\n",
    "    function = find_drug_index\n",
    "    with Pool(processes=processors)as p:\n",
    "        results = list(tqdm_notebook(p.imap(function, tasks), total=len(tasks)))\n",
    "        \n",
    "trgt_idx = list(itertools.chain(*results))"
   ]
  },
  {
   "cell_type": "code",
   "execution_count": 70,
   "metadata": {},
   "outputs": [
    {
     "name": "stdout",
     "output_type": "stream",
     "text": [
      "df_id_250drugs shape:  (79709952, 8)\n"
     ]
    },
    {
     "data": {
      "text/html": [
       "<div>\n",
       "<style scoped>\n",
       "    .dataframe tbody tr th:only-of-type {\n",
       "        vertical-align: middle;\n",
       "    }\n",
       "\n",
       "    .dataframe tbody tr th {\n",
       "        vertical-align: top;\n",
       "    }\n",
       "\n",
       "    .dataframe thead th {\n",
       "        text-align: right;\n",
       "    }\n",
       "</style>\n",
       "<table border=\"1\" class=\"dataframe\">\n",
       "  <thead>\n",
       "    <tr style=\"text-align: right;\">\n",
       "      <th></th>\n",
       "      <th>year</th>\n",
       "      <th>npi</th>\n",
       "      <th>nppes_provider_last_org_name</th>\n",
       "      <th>nppes_provider_first_name</th>\n",
       "      <th>specialty_description</th>\n",
       "      <th>nppes_provider_city</th>\n",
       "      <th>nppes_provider_state</th>\n",
       "      <th>exclusion</th>\n",
       "    </tr>\n",
       "  </thead>\n",
       "  <tbody>\n",
       "    <tr>\n",
       "      <th>97</th>\n",
       "      <td>2013</td>\n",
       "      <td>1003000522</td>\n",
       "      <td>WEIGAND</td>\n",
       "      <td>FREDERICK</td>\n",
       "      <td>Family Practice</td>\n",
       "      <td>DELTONA</td>\n",
       "      <td>FL</td>\n",
       "      <td>False</td>\n",
       "    </tr>\n",
       "    <tr>\n",
       "      <th>202</th>\n",
       "      <td>2013</td>\n",
       "      <td>1003000530</td>\n",
       "      <td>SEMONCHE</td>\n",
       "      <td>AMANDA</td>\n",
       "      <td>Internal Medicine</td>\n",
       "      <td>QUAKERTOWN</td>\n",
       "      <td>PA</td>\n",
       "      <td>False</td>\n",
       "    </tr>\n",
       "    <tr>\n",
       "      <th>335</th>\n",
       "      <td>2013</td>\n",
       "      <td>1003000902</td>\n",
       "      <td>LOHANO</td>\n",
       "      <td>JAIVANTI</td>\n",
       "      <td>Family Practice</td>\n",
       "      <td>LOUISVILLE</td>\n",
       "      <td>KY</td>\n",
       "      <td>False</td>\n",
       "    </tr>\n",
       "    <tr>\n",
       "      <th>465</th>\n",
       "      <td>2013</td>\n",
       "      <td>1003001884</td>\n",
       "      <td>SAHA</td>\n",
       "      <td>LUCILLE</td>\n",
       "      <td>Family Practice</td>\n",
       "      <td>FLINT</td>\n",
       "      <td>MI</td>\n",
       "      <td>False</td>\n",
       "    </tr>\n",
       "    <tr>\n",
       "      <th>496</th>\n",
       "      <td>2013</td>\n",
       "      <td>1003002049</td>\n",
       "      <td>SRINIVASAN</td>\n",
       "      <td>LAKSHMI</td>\n",
       "      <td>Endocrinology</td>\n",
       "      <td>FREMONT</td>\n",
       "      <td>CA</td>\n",
       "      <td>False</td>\n",
       "    </tr>\n",
       "  </tbody>\n",
       "</table>\n",
       "</div>"
      ],
      "text/plain": [
       "     year         npi nppes_provider_last_org_name nppes_provider_first_name  \\\n",
       "97   2013  1003000522                      WEIGAND                 FREDERICK   \n",
       "202  2013  1003000530                     SEMONCHE                    AMANDA   \n",
       "335  2013  1003000902                       LOHANO                  JAIVANTI   \n",
       "465  2013  1003001884                         SAHA                   LUCILLE   \n",
       "496  2013  1003002049                   SRINIVASAN                   LAKSHMI   \n",
       "\n",
       "    specialty_description nppes_provider_city nppes_provider_state  exclusion  \n",
       "97        Family Practice             DELTONA                   FL      False  \n",
       "202     Internal Medicine          QUAKERTOWN                   PA      False  \n",
       "335       Family Practice          LOUISVILLE                   KY      False  \n",
       "465       Family Practice               FLINT                   MI      False  \n",
       "496         Endocrinology             FREMONT                   CA      False  "
      ]
     },
     "execution_count": 70,
     "metadata": {},
     "output_type": "execute_result"
    }
   ],
   "source": [
    "# rebuild data with target `generic_names`\n",
    "df_id_250drugs = df_id.iloc[trgt_idx].reset_index(drop=True)\n",
    "print(\"df_id_250drugs shape: \", df_id_250drugs.shape)\n",
    "df_id_250drugs.head()"
   ]
  },
  {
   "cell_type": "code",
   "execution_count": 69,
   "metadata": {},
   "outputs": [
    {
     "name": "stdout",
     "output_type": "stream",
     "text": [
      "df_id_250drugs shape:  (79709952, 8)\n",
      "X_250drugs shape:  (79709952, 15)\n",
      "y_250drugs shape:  (79709952, 1)\n"
     ]
    }
   ],
   "source": [
    "X_250drugs = X.iloc[trgt_idx].reset_index(drop=True)\n",
    "print(\"X_250drugs shape: \", X_250drugs.shape)\n",
    "\n",
    "y_250drugs = y.iloc[trgt_idx].reset_index(drop=True)\n",
    "print(\"y_250drugs shape: \", y_250drugs.shape)"
   ]
  },
  {
   "cell_type": "code",
   "execution_count": null,
   "metadata": {},
   "outputs": [],
   "source": [
    "df_id_250drugs = df_id_250drugs.reset_index(drop=True)"
   ]
  },
  {
   "cell_type": "code",
   "execution_count": 72,
   "metadata": {},
   "outputs": [],
   "source": [
    "X_250drugs = X_250drugs.reset_index(drop=True)\n",
    "y_250drugs = y_250drugs.reset_index(drop=True)"
   ]
  },
  {
   "cell_type": "markdown",
   "metadata": {},
   "source": [
    "### **Label Data (y)**\n",
    "---"
   ]
  },
  {
   "cell_type": "code",
   "execution_count": 42,
   "metadata": {},
   "outputs": [],
   "source": [
    "# print('y shape: ', y.shape)\n",
    "# y.head()\n",
    "del df_id, X, y"
   ]
  },
  {
   "cell_type": "markdown",
   "metadata": {},
   "source": [
    "## Focus on states with highest exclusion rates\n",
    "---"
   ]
  },
  {
   "cell_type": "code",
   "execution_count": 73,
   "metadata": {},
   "outputs": [
    {
     "data": {
      "text/html": [
       "<div>\n",
       "<style scoped>\n",
       "    .dataframe tbody tr th:only-of-type {\n",
       "        vertical-align: middle;\n",
       "    }\n",
       "\n",
       "    .dataframe tbody tr th {\n",
       "        vertical-align: top;\n",
       "    }\n",
       "\n",
       "    .dataframe thead th {\n",
       "        text-align: right;\n",
       "    }\n",
       "</style>\n",
       "<table border=\"1\" class=\"dataframe\">\n",
       "  <thead>\n",
       "    <tr style=\"text-align: right;\">\n",
       "      <th></th>\n",
       "      <th>npi</th>\n",
       "      <th>exclusion</th>\n",
       "      <th>exclusion_ratio</th>\n",
       "    </tr>\n",
       "    <tr>\n",
       "      <th>nppes_provider_state</th>\n",
       "      <th></th>\n",
       "      <th></th>\n",
       "      <th></th>\n",
       "    </tr>\n",
       "  </thead>\n",
       "  <tbody>\n",
       "    <tr>\n",
       "      <th>NV</th>\n",
       "      <td>517463</td>\n",
       "      <td>2310</td>\n",
       "      <td>0.004464</td>\n",
       "    </tr>\n",
       "    <tr>\n",
       "      <th>MI</th>\n",
       "      <td>2783252</td>\n",
       "      <td>9348</td>\n",
       "      <td>0.003359</td>\n",
       "    </tr>\n",
       "    <tr>\n",
       "      <th>NJ</th>\n",
       "      <td>2095194</td>\n",
       "      <td>6858</td>\n",
       "      <td>0.003273</td>\n",
       "    </tr>\n",
       "    <tr>\n",
       "      <th>IL</th>\n",
       "      <td>2878840</td>\n",
       "      <td>8207</td>\n",
       "      <td>0.002851</td>\n",
       "    </tr>\n",
       "    <tr>\n",
       "      <th>NM</th>\n",
       "      <td>458203</td>\n",
       "      <td>1227</td>\n",
       "      <td>0.002678</td>\n",
       "    </tr>\n",
       "  </tbody>\n",
       "</table>\n",
       "</div>"
      ],
      "text/plain": [
       "                          npi  exclusion  exclusion_ratio\n",
       "nppes_provider_state                                     \n",
       "NV                     517463       2310         0.004464\n",
       "MI                    2783252       9348         0.003359\n",
       "NJ                    2095194       6858         0.003273\n",
       "IL                    2878840       8207         0.002851\n",
       "NM                     458203       1227         0.002678"
      ]
     },
     "execution_count": 73,
     "metadata": {},
     "output_type": "execute_result"
    }
   ],
   "source": [
    "# add label\n",
    "df_id_250drugs['exclusion'] = y_250drugs\n",
    "\n",
    "# count `exclusion by state`\n",
    "exclusions_by_state = df_id_250drugs[['nppes_provider_state','exclusion']].groupby('nppes_provider_state').agg('sum')\\\n",
    "                                                             .sort_values('exclusion', ascending=False).astype(int)\n",
    "\n",
    "# count Medicare Part D `providers by state`\n",
    "providers_by_state = df_id_250drugs[['nppes_provider_state','npi']].groupby('nppes_provider_state').agg('count')\\\n",
    "                                                             .sort_values('npi', ascending=False).astype(int)\n",
    "\n",
    "# join `exclusion by state` and `providers by state`\n",
    "counts_by_state = providers_by_state.join(exclusions_by_state)\n",
    "\n",
    "# calculate `exclusion ratio`\n",
    "counts_by_state['exclusion_ratio'] = counts_by_state['exclusion']/counts_by_state['npi']\n",
    "counts_by_state.sort_values('exclusion_ratio', ascending=False, inplace=True)\n",
    "counts_by_state.head()"
   ]
  },
  {
   "cell_type": "code",
   "execution_count": 74,
   "metadata": {},
   "outputs": [],
   "source": [
    "# Build `state_ratio_df` with cummulatives\n",
    "state_ratio_df = pd.DataFrame()\n",
    "state_ratio_df['cumm_provider_cnt'] = counts_by_state['npi'].cumsum()\n",
    "state_ratio_df['cumm_exclusion_cnt'] = counts_by_state['exclusion'].cumsum()\n",
    "state_ratio_df['exclusion_ratio'] = state_ratio_df['cumm_exclusion_cnt']/state_ratio_df['cumm_provider_cnt']"
   ]
  },
  {
   "cell_type": "code",
   "execution_count": 75,
   "metadata": {},
   "outputs": [
    {
     "data": {
      "image/png": "[encoded data removed]",
      "text/plain": [
       "<Figure size 576x360 with 3 Axes>"
      ]
     },
     "metadata": {},
     "output_type": "display_data"
    }
   ],
   "source": [
    "# Plot sorted cumulative chart by Exclusion Ratio\n",
    "threshold_value=20\n",
    "src.plot_multi(state_ratio_df, threshold_value, 'States', figsize=(8,5), title='Exclusion ratio sorted by State')\n",
    "plt.show()"
   ]
  },
  {
   "cell_type": "code",
   "execution_count": 76,
   "metadata": {},
   "outputs": [
    {
     "name": "stdout",
     "output_type": "stream",
     "text": [
      "Top states by exclusion ratio:  ['NV', 'MI', 'NJ', 'IL', 'NM', 'AL', 'WV', 'KY', 'TN', 'NY', 'UT', 'MO', 'IN', 'VA', 'AK', 'MS', 'RI', 'ID', 'CA', 'FL']\n"
     ]
    }
   ],
   "source": [
    "target_states = state_ratio_df.index[:threshold_value].tolist()\n",
    "print('Top states by exclusion ratio: ', top_states)"
   ]
  },
  {
   "cell_type": "code",
   "execution_count": 77,
   "metadata": {},
   "outputs": [],
   "source": [
    "# get indeces for target_drugs\n",
    "def find_state_index(state):\n",
    "    return df_id_250drugs[df_id_250drugs['nppes_provider_state']==state].index.tolist()"
   ]
  },
  {
   "cell_type": "code",
   "execution_count": 81,
   "metadata": {},
   "outputs": [
    {
     "data": {
      "application/vnd.jupyter.widget-view+json": {
       "model_id": "22ccfd8c384240caae3c9f3e0a3e0e64",
       "version_major": 2,
       "version_minor": 0
      },
      "text/plain": [
       "HBox(children=(IntProgress(value=0, max=20), HTML(value='')))"
      ]
     },
     "metadata": {},
     "output_type": "display_data"
    }
   ],
   "source": [
    "# find target indeces for target states using multiprocessing\n",
    "processors = 64\n",
    "if __name__ == '__main__':\n",
    "    tasks = target_states\n",
    "    function = find_state_index\n",
    "    with Pool(processes=processors)as p:\n",
    "        results = list(tqdm_notebook(p.imap(function, tasks), total=len(tasks)))\n",
    "        \n",
    "trgt_idx = list(itertools.chain(*results))"
   ]
  },
  {
   "cell_type": "code",
   "execution_count": 82,
   "metadata": {},
   "outputs": [],
   "source": [
    "# reduce data sets by top states\n",
    "df_id_reduced = df_id_250drugs.iloc[trgt_idx].reset_index(drop=True)\n",
    "X_reduced = X_250drugs.iloc[trgt_idx].reset_index(drop=True)\n",
    "y_reduced = y_250drugs.iloc[trgt_idx].reset_index(drop=True)"
   ]
  },
  {
   "cell_type": "code",
   "execution_count": 83,
   "metadata": {},
   "outputs": [],
   "source": [
    "# Remove 'exclusion' from df_id\n",
    "df_id_reduced.drop('exclusion', axis=1, inplace=True)"
   ]
  },
  {
   "cell_type": "markdown",
   "metadata": {},
   "source": [
    "## Results:\n",
    "---"
   ]
  },
  {
   "cell_type": "markdown",
   "metadata": {},
   "source": [
    "### Reduced Identification Data (df_id)\n",
    "> for consistancy remove `exclusion` column as a separate `label` data"
   ]
  },
  {
   "cell_type": "code",
   "execution_count": 84,
   "metadata": {},
   "outputs": [
    {
     "name": "stdout",
     "output_type": "stream",
     "text": [
      "df_id_reduced shape:  (40134597, 7)\n"
     ]
    },
    {
     "data": {
      "text/html": [
       "<div>\n",
       "<style scoped>\n",
       "    .dataframe tbody tr th:only-of-type {\n",
       "        vertical-align: middle;\n",
       "    }\n",
       "\n",
       "    .dataframe tbody tr th {\n",
       "        vertical-align: top;\n",
       "    }\n",
       "\n",
       "    .dataframe thead th {\n",
       "        text-align: right;\n",
       "    }\n",
       "</style>\n",
       "<table border=\"1\" class=\"dataframe\">\n",
       "  <thead>\n",
       "    <tr style=\"text-align: right;\">\n",
       "      <th></th>\n",
       "      <th>year</th>\n",
       "      <th>npi</th>\n",
       "      <th>nppes_provider_last_org_name</th>\n",
       "      <th>nppes_provider_first_name</th>\n",
       "      <th>specialty_description</th>\n",
       "      <th>nppes_provider_city</th>\n",
       "      <th>nppes_provider_state</th>\n",
       "    </tr>\n",
       "  </thead>\n",
       "  <tbody>\n",
       "    <tr>\n",
       "      <th>0</th>\n",
       "      <td>2013</td>\n",
       "      <td>1003016809</td>\n",
       "      <td>BAUMGARDNER</td>\n",
       "      <td>ZACHARY</td>\n",
       "      <td>Family Practice</td>\n",
       "      <td>RENO</td>\n",
       "      <td>NV</td>\n",
       "    </tr>\n",
       "    <tr>\n",
       "      <th>1</th>\n",
       "      <td>2013</td>\n",
       "      <td>1003070640</td>\n",
       "      <td>PARK</td>\n",
       "      <td>SUSAN</td>\n",
       "      <td>Family Practice</td>\n",
       "      <td>RENO</td>\n",
       "      <td>NV</td>\n",
       "    </tr>\n",
       "    <tr>\n",
       "      <th>2</th>\n",
       "      <td>2013</td>\n",
       "      <td>1003090614</td>\n",
       "      <td>GFELLER</td>\n",
       "      <td>ELRAH</td>\n",
       "      <td>Physician Assistant</td>\n",
       "      <td>LAS VEGAS</td>\n",
       "      <td>NV</td>\n",
       "    </tr>\n",
       "    <tr>\n",
       "      <th>3</th>\n",
       "      <td>2013</td>\n",
       "      <td>1003813700</td>\n",
       "      <td>ROSEN</td>\n",
       "      <td>RICHARD</td>\n",
       "      <td>Internal Medicine</td>\n",
       "      <td>RENO</td>\n",
       "      <td>NV</td>\n",
       "    </tr>\n",
       "    <tr>\n",
       "      <th>4</th>\n",
       "      <td>2013</td>\n",
       "      <td>1003819749</td>\n",
       "      <td>DADOURIAN</td>\n",
       "      <td>BERGE</td>\n",
       "      <td>Cardiology</td>\n",
       "      <td>LAS VEGAS</td>\n",
       "      <td>NV</td>\n",
       "    </tr>\n",
       "  </tbody>\n",
       "</table>\n",
       "</div>"
      ],
      "text/plain": [
       "   year         npi nppes_provider_last_org_name nppes_provider_first_name  \\\n",
       "0  2013  1003016809                  BAUMGARDNER                   ZACHARY   \n",
       "1  2013  1003070640                         PARK                     SUSAN   \n",
       "2  2013  1003090614                      GFELLER                     ELRAH   \n",
       "3  2013  1003813700                        ROSEN                   RICHARD   \n",
       "4  2013  1003819749                    DADOURIAN                     BERGE   \n",
       "\n",
       "  specialty_description nppes_provider_city nppes_provider_state  \n",
       "0       Family Practice                RENO                   NV  \n",
       "1       Family Practice                RENO                   NV  \n",
       "2   Physician Assistant           LAS VEGAS                   NV  \n",
       "3     Internal Medicine                RENO                   NV  \n",
       "4            Cardiology           LAS VEGAS                   NV  "
      ]
     },
     "execution_count": 84,
     "metadata": {},
     "output_type": "execute_result"
    }
   ],
   "source": [
    "print('df_id_reduced shape: ', df_id_reduced.shape)\n",
    "df_id_reduced.head()"
   ]
  },
  {
   "cell_type": "markdown",
   "metadata": {},
   "source": [
    "#### Reduced Feature Matrix (X)\n",
    "---"
   ]
  },
  {
   "cell_type": "code",
   "execution_count": 85,
   "metadata": {},
   "outputs": [
    {
     "name": "stdout",
     "output_type": "stream",
     "text": [
      "X_reduced shape:  (40134597, 15)\n"
     ]
    },
    {
     "data": {
      "text/html": [
       "<div>\n",
       "<style scoped>\n",
       "    .dataframe tbody tr th:only-of-type {\n",
       "        vertical-align: middle;\n",
       "    }\n",
       "\n",
       "    .dataframe tbody tr th {\n",
       "        vertical-align: top;\n",
       "    }\n",
       "\n",
       "    .dataframe thead th {\n",
       "        text-align: right;\n",
       "    }\n",
       "</style>\n",
       "<table border=\"1\" class=\"dataframe\">\n",
       "  <thead>\n",
       "    <tr style=\"text-align: right;\">\n",
       "      <th></th>\n",
       "      <th>generic_name</th>\n",
       "      <th>bene_count</th>\n",
       "      <th>total_claim_count</th>\n",
       "      <th>total_30_day_fill_count</th>\n",
       "      <th>total_day_supply</th>\n",
       "      <th>total_drug_cost</th>\n",
       "      <th>bene_count_ge65</th>\n",
       "      <th>total_claim_count_ge65</th>\n",
       "      <th>total_30_day_fill_count_ge65</th>\n",
       "      <th>total_day_supply_ge65</th>\n",
       "      <th>total_drug_cost_ge65</th>\n",
       "      <th>total_drug_cost_per_beneficiary</th>\n",
       "      <th>total_drug_cost_per_claim</th>\n",
       "      <th>total_drug_cost_per_beneficiary_ge65</th>\n",
       "      <th>total_drug_cost_per_claim_ge65</th>\n",
       "    </tr>\n",
       "  </thead>\n",
       "  <tbody>\n",
       "    <tr>\n",
       "      <th>0</th>\n",
       "      <td>LEVOTHYROXINE SODIUM</td>\n",
       "      <td>40.0</td>\n",
       "      <td>151</td>\n",
       "      <td>343.0</td>\n",
       "      <td>10290</td>\n",
       "      <td>2373.57</td>\n",
       "      <td>0.0</td>\n",
       "      <td>103.0</td>\n",
       "      <td>268.0</td>\n",
       "      <td>8040.0</td>\n",
       "      <td>1377.36</td>\n",
       "      <td>59.339250</td>\n",
       "      <td>15.719007</td>\n",
       "      <td>0.0</td>\n",
       "      <td>13.372427</td>\n",
       "    </tr>\n",
       "    <tr>\n",
       "      <th>1</th>\n",
       "      <td>LEVOTHYROXINE SODIUM</td>\n",
       "      <td>48.0</td>\n",
       "      <td>227</td>\n",
       "      <td>389.0</td>\n",
       "      <td>11670</td>\n",
       "      <td>2912.85</td>\n",
       "      <td>0.0</td>\n",
       "      <td>204.0</td>\n",
       "      <td>346.0</td>\n",
       "      <td>10380.0</td>\n",
       "      <td>2623.59</td>\n",
       "      <td>60.684375</td>\n",
       "      <td>12.831938</td>\n",
       "      <td>0.0</td>\n",
       "      <td>12.860735</td>\n",
       "    </tr>\n",
       "    <tr>\n",
       "      <th>2</th>\n",
       "      <td>LEVOTHYROXINE SODIUM</td>\n",
       "      <td>0.0</td>\n",
       "      <td>37</td>\n",
       "      <td>49.0</td>\n",
       "      <td>1454</td>\n",
       "      <td>335.26</td>\n",
       "      <td>0.0</td>\n",
       "      <td>0.0</td>\n",
       "      <td>0.0</td>\n",
       "      <td>0.0</td>\n",
       "      <td>0.00</td>\n",
       "      <td>0.000000</td>\n",
       "      <td>9.061081</td>\n",
       "      <td>0.0</td>\n",
       "      <td>0.000000</td>\n",
       "    </tr>\n",
       "    <tr>\n",
       "      <th>3</th>\n",
       "      <td>LEVOTHYROXINE SODIUM</td>\n",
       "      <td>191.0</td>\n",
       "      <td>895</td>\n",
       "      <td>1654.9</td>\n",
       "      <td>49609</td>\n",
       "      <td>29294.74</td>\n",
       "      <td>0.0</td>\n",
       "      <td>803.0</td>\n",
       "      <td>1502.2</td>\n",
       "      <td>45044.0</td>\n",
       "      <td>27223.40</td>\n",
       "      <td>153.375602</td>\n",
       "      <td>32.731553</td>\n",
       "      <td>0.0</td>\n",
       "      <td>33.902117</td>\n",
       "    </tr>\n",
       "    <tr>\n",
       "      <th>4</th>\n",
       "      <td>LEVOTHYROXINE SODIUM</td>\n",
       "      <td>35.0</td>\n",
       "      <td>125</td>\n",
       "      <td>295.0</td>\n",
       "      <td>8834</td>\n",
       "      <td>1946.07</td>\n",
       "      <td>0.0</td>\n",
       "      <td>112.0</td>\n",
       "      <td>280.0</td>\n",
       "      <td>8384.0</td>\n",
       "      <td>1821.59</td>\n",
       "      <td>55.602000</td>\n",
       "      <td>15.568560</td>\n",
       "      <td>0.0</td>\n",
       "      <td>16.264196</td>\n",
       "    </tr>\n",
       "  </tbody>\n",
       "</table>\n",
       "</div>"
      ],
      "text/plain": [
       "           generic_name  bene_count  total_claim_count  \\\n",
       "0  LEVOTHYROXINE SODIUM        40.0                151   \n",
       "1  LEVOTHYROXINE SODIUM        48.0                227   \n",
       "2  LEVOTHYROXINE SODIUM         0.0                 37   \n",
       "3  LEVOTHYROXINE SODIUM       191.0                895   \n",
       "4  LEVOTHYROXINE SODIUM        35.0                125   \n",
       "\n",
       "   total_30_day_fill_count  total_day_supply  total_drug_cost  \\\n",
       "0                    343.0             10290          2373.57   \n",
       "1                    389.0             11670          2912.85   \n",
       "2                     49.0              1454           335.26   \n",
       "3                   1654.9             49609         29294.74   \n",
       "4                    295.0              8834          1946.07   \n",
       "\n",
       "   bene_count_ge65  total_claim_count_ge65  total_30_day_fill_count_ge65  \\\n",
       "0              0.0                   103.0                         268.0   \n",
       "1              0.0                   204.0                         346.0   \n",
       "2              0.0                     0.0                           0.0   \n",
       "3              0.0                   803.0                        1502.2   \n",
       "4              0.0                   112.0                         280.0   \n",
       "\n",
       "   total_day_supply_ge65  total_drug_cost_ge65  \\\n",
       "0                 8040.0               1377.36   \n",
       "1                10380.0               2623.59   \n",
       "2                    0.0                  0.00   \n",
       "3                45044.0              27223.40   \n",
       "4                 8384.0               1821.59   \n",
       "\n",
       "   total_drug_cost_per_beneficiary  total_drug_cost_per_claim  \\\n",
       "0                        59.339250                  15.719007   \n",
       "1                        60.684375                  12.831938   \n",
       "2                         0.000000                   9.061081   \n",
       "3                       153.375602                  32.731553   \n",
       "4                        55.602000                  15.568560   \n",
       "\n",
       "   total_drug_cost_per_beneficiary_ge65  total_drug_cost_per_claim_ge65  \n",
       "0                                   0.0                       13.372427  \n",
       "1                                   0.0                       12.860735  \n",
       "2                                   0.0                        0.000000  \n",
       "3                                   0.0                       33.902117  \n",
       "4                                   0.0                       16.264196  "
      ]
     },
     "execution_count": 85,
     "metadata": {},
     "output_type": "execute_result"
    }
   ],
   "source": [
    "print('X_reduced shape: ', X_reduced.shape)\n",
    "X_reduced.head()"
   ]
  },
  {
   "cell_type": "markdown",
   "metadata": {},
   "source": [
    "#### Reduced Label Data `y_reduced`\n",
    "---"
   ]
  },
  {
   "cell_type": "code",
   "execution_count": 86,
   "metadata": {},
   "outputs": [
    {
     "name": "stdout",
     "output_type": "stream",
     "text": [
      "y_reduced shape:  (40134597, 1)\n"
     ]
    },
    {
     "data": {
      "text/html": [
       "<div>\n",
       "<style scoped>\n",
       "    .dataframe tbody tr th:only-of-type {\n",
       "        vertical-align: middle;\n",
       "    }\n",
       "\n",
       "    .dataframe tbody tr th {\n",
       "        vertical-align: top;\n",
       "    }\n",
       "\n",
       "    .dataframe thead th {\n",
       "        text-align: right;\n",
       "    }\n",
       "</style>\n",
       "<table border=\"1\" class=\"dataframe\">\n",
       "  <thead>\n",
       "    <tr style=\"text-align: right;\">\n",
       "      <th></th>\n",
       "      <th>1</th>\n",
       "    </tr>\n",
       "  </thead>\n",
       "  <tbody>\n",
       "    <tr>\n",
       "      <th>0</th>\n",
       "      <td>False</td>\n",
       "    </tr>\n",
       "    <tr>\n",
       "      <th>1</th>\n",
       "      <td>False</td>\n",
       "    </tr>\n",
       "    <tr>\n",
       "      <th>2</th>\n",
       "      <td>False</td>\n",
       "    </tr>\n",
       "    <tr>\n",
       "      <th>3</th>\n",
       "      <td>False</td>\n",
       "    </tr>\n",
       "    <tr>\n",
       "      <th>4</th>\n",
       "      <td>False</td>\n",
       "    </tr>\n",
       "  </tbody>\n",
       "</table>\n",
       "</div>"
      ],
      "text/plain": [
       "       1\n",
       "0  False\n",
       "1  False\n",
       "2  False\n",
       "3  False\n",
       "4  False"
      ]
     },
     "execution_count": 86,
     "metadata": {},
     "output_type": "execute_result"
    }
   ],
   "source": [
    "print('y_reduced shape: ', y_reduced.shape)\n",
    "y_reduced.head()"
   ]
  },
  {
   "cell_type": "markdown",
   "metadata": {},
   "source": [
    "### Save to efs"
   ]
  },
  {
   "cell_type": "code",
   "execution_count": null,
   "metadata": {},
   "outputs": [],
   "source": [
    "src.save_to_efs(y_reduced,'y_reduced.csv')\n",
    "src.save_to_efs(X_reduced,'X_reduced.csv')\n",
    "src.save_to_efs(df_id_reduced, 'df_id_reduced.csv')"
   ]
  },
  {
   "cell_type": "markdown",
   "metadata": {},
   "source": []
  }
 ],
 "metadata": {
  "kernelspec": {
   "display_name": "conda_python3",
   "language": "python",
   "name": "conda_python3"
  },
  "language_info": {
   "codemirror_mode": {
    "name": "ipython",
    "version": 3
   },
   "file_extension": ".py",
   "mimetype": "text/x-python",
   "name": "python",
   "nbconvert_exporter": "python",
   "pygments_lexer": "ipython3",
   "version": "3.6.4"
  }
 },
 "nbformat": 4,
 "nbformat_minor": 2
}
