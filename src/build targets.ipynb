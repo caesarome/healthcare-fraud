{
 "cells": [
  {
   "cell_type": "code",
   "execution_count": 1,
   "metadata": {},
   "outputs": [
    {
     "name": "stdout",
     "output_type": "stream",
     "text": [
      "Collecting tqdm\n",
      "\u001b[?25l  Downloading https://files.pythonhosted.org/packages/7d/e6/19dfaff08fcbee7f3453e5b537e65a8364f1945f921a36d08be1e2ff3475/tqdm-4.24.0-py2.py3-none-any.whl (43kB)\n",
      "\u001b[K    100% |████████████████████████████████| 51kB 12.7MB/s ta 0:00:01\n",
      "\u001b[31mdistributed 1.21.8 requires msgpack, which is not installed.\u001b[0m\n",
      "\u001b[?25hInstalling collected packages: tqdm\n",
      "Successfully installed tqdm-4.24.0\n",
      "\u001b[33mYou are using pip version 10.0.1, however version 18.0 is available.\n",
      "You should consider upgrading via the 'pip install --upgrade pip' command.\u001b[0m\n"
     ]
    }
   ],
   "source": [
    "import pandas as pd\n",
    "import src.scripts as src\n",
    "from multiprocessing import Pool\n",
    "!pip install tqdm\n",
    "from tqdm import tqdm_notebook"
   ]
  },
  {
   "cell_type": "code",
   "execution_count": 2,
   "metadata": {},
   "outputs": [
    {
     "name": "stderr",
     "output_type": "stream",
     "text": [
      "/home/ec2-user/anaconda3/envs/python3/lib/python3.6/site-packages/numpy/lib/arraysetops.py:472: FutureWarning: elementwise comparison failed; returning scalar instead, but in the future will perform elementwise comparison\n",
      "  mask |= (ar1 == a)\n"
     ]
    }
   ],
   "source": [
    "df_id = src.read_from_efs('df_id.csv')"
   ]
  },
  {
   "cell_type": "code",
   "execution_count": 9,
   "metadata": {},
   "outputs": [
    {
     "data": {
      "text/plain": [
       "(90624128, 7)"
      ]
     },
     "execution_count": 9,
     "metadata": {},
     "output_type": "execute_result"
    }
   ],
   "source": [
    "df_id.shape"
   ]
  },
  {
   "cell_type": "code",
   "execution_count": 4,
   "metadata": {},
   "outputs": [],
   "source": [
    "PartD_id_labeled_npi = src.read_from_efs('PartD_id_labeled_npi.csv')"
   ]
  },
  {
   "cell_type": "code",
   "execution_count": 5,
   "metadata": {},
   "outputs": [
    {
     "data": {
      "text/html": [
       "<div>\n",
       "<style scoped>\n",
       "    .dataframe tbody tr th:only-of-type {\n",
       "        vertical-align: middle;\n",
       "    }\n",
       "\n",
       "    .dataframe tbody tr th {\n",
       "        vertical-align: top;\n",
       "    }\n",
       "\n",
       "    .dataframe thead th {\n",
       "        text-align: right;\n",
       "    }\n",
       "</style>\n",
       "<table border=\"1\" class=\"dataframe\">\n",
       "  <thead>\n",
       "    <tr style=\"text-align: right;\">\n",
       "      <th></th>\n",
       "      <th>npi</th>\n",
       "      <th>last/org name</th>\n",
       "      <th>first name</th>\n",
       "      <th>city</th>\n",
       "      <th>specialty</th>\n",
       "      <th>exclusion_method</th>\n",
       "      <th>exclusion_year</th>\n",
       "    </tr>\n",
       "  </thead>\n",
       "  <tbody>\n",
       "    <tr>\n",
       "      <th>0</th>\n",
       "      <td>1003042441</td>\n",
       "      <td>MANZO</td>\n",
       "      <td>MARK</td>\n",
       "      <td>GRAFTON</td>\n",
       "      <td>Physician Assistant</td>\n",
       "      <td>npi</td>\n",
       "      <td>2016.0</td>\n",
       "    </tr>\n",
       "    <tr>\n",
       "      <th>1</th>\n",
       "      <td>1003801044</td>\n",
       "      <td>AFZAL</td>\n",
       "      <td>FIAZ</td>\n",
       "      <td>KENNER</td>\n",
       "      <td>Internal Medicine</td>\n",
       "      <td>npi</td>\n",
       "      <td>2014.0</td>\n",
       "    </tr>\n",
       "    <tr>\n",
       "      <th>2</th>\n",
       "      <td>1003809195</td>\n",
       "      <td>MACKEY</td>\n",
       "      <td>JOSEPH</td>\n",
       "      <td>BLUE SPRINGS</td>\n",
       "      <td>Family Practice</td>\n",
       "      <td>npi</td>\n",
       "      <td>2014.0</td>\n",
       "    </tr>\n",
       "    <tr>\n",
       "      <th>3</th>\n",
       "      <td>1003811167</td>\n",
       "      <td>SORELL</td>\n",
       "      <td>PAUL</td>\n",
       "      <td>HUNTINGTON</td>\n",
       "      <td>Pain Management</td>\n",
       "      <td>npi</td>\n",
       "      <td>2017.0</td>\n",
       "    </tr>\n",
       "    <tr>\n",
       "      <th>4</th>\n",
       "      <td>1003817743</td>\n",
       "      <td>ECKMAN</td>\n",
       "      <td>CHARLES</td>\n",
       "      <td>OKLAHOMA CITY</td>\n",
       "      <td>Interventional Pain Management</td>\n",
       "      <td>npi</td>\n",
       "      <td>2017.0</td>\n",
       "    </tr>\n",
       "  </tbody>\n",
       "</table>\n",
       "</div>"
      ],
      "text/plain": [
       "          npi last/org name first name           city  \\\n",
       "0  1003042441         MANZO       MARK        GRAFTON   \n",
       "1  1003801044         AFZAL       FIAZ         KENNER   \n",
       "2  1003809195        MACKEY     JOSEPH   BLUE SPRINGS   \n",
       "3  1003811167        SORELL       PAUL     HUNTINGTON   \n",
       "4  1003817743        ECKMAN    CHARLES  OKLAHOMA CITY   \n",
       "\n",
       "                        specialty exclusion_method  exclusion_year  \n",
       "0             Physician Assistant              npi          2016.0  \n",
       "1               Internal Medicine              npi          2014.0  \n",
       "2                 Family Practice              npi          2014.0  \n",
       "3                 Pain Management              npi          2017.0  \n",
       "4  Interventional Pain Management              npi          2017.0  "
      ]
     },
     "execution_count": 5,
     "metadata": {},
     "output_type": "execute_result"
    }
   ],
   "source": [
    "PartD_id_labeled_npi.head()"
   ]
  },
  {
   "cell_type": "code",
   "execution_count": 6,
   "metadata": {},
   "outputs": [],
   "source": [
    "def build_targets(excluded_npi_year_pair):\n",
    "    excluded_npi = excluded_npi_year_pair[0]\n",
    "    excluded_year = excluded_npi_year_pair[1]\n",
    "    exclusion_df = df_id[(df_id['npi'] == excluded_npi) & (df_id['year'] <= excluded_year)]\n",
    "    return exclusion_df"
   ]
  },
  {
   "cell_type": "code",
   "execution_count": 7,
   "metadata": {},
   "outputs": [],
   "source": [
    "excluded_npi_year_pairs = PartD_id_labeled_npi[['npi','exclusion_year']].astype(int).values"
   ]
  },
  {
   "cell_type": "code",
   "execution_count": 8,
   "metadata": {},
   "outputs": [
    {
     "name": "stdout",
     "output_type": "stream",
     "text": [
      "Number of available CPU cores: \n",
      "16\r\n"
     ]
    }
   ],
   "source": [
    "print(\"Number of available CPU cores: \")\n",
    "!cat /proc/cpuinfo | grep processor | wc -l"
   ]
  },
  {
   "cell_type": "code",
   "execution_count": 10,
   "metadata": {},
   "outputs": [
    {
     "data": {
      "application/vnd.jupyter.widget-view+json": {
       "model_id": "a782da72545d437786a8299dab4a4c20",
       "version_major": 2,
       "version_minor": 0
      },
      "text/plain": [
       "HBox(children=(IntProgress(value=0, max=1217), HTML(value='')))"
      ]
     },
     "metadata": {},
     "output_type": "display_data"
    },
    {
     "name": "stdout",
     "output_type": "stream",
     "text": [
      "\n"
     ]
    }
   ],
   "source": [
    "processors = 16\n",
    "if __name__ == '__main__':\n",
    "    tasks = excluded_npi_year_pairs\n",
    "    function = build_targets\n",
    "    with Pool(processes=processors)as p:\n",
    "        targets = list(tqdm_notebook(p.imap(function, tasks), total=len(tasks)))"
   ]
  },
  {
   "cell_type": "code",
   "execution_count": 11,
   "metadata": {},
   "outputs": [],
   "source": [
    "# unpack\n",
    "excluded_df = pd.concat(targets, axis=0)\n",
    "src.save_to_efs(excluded_df, 'excluded_df.csv')"
   ]
  },
  {
   "cell_type": "code",
   "execution_count": null,
   "metadata": {},
   "outputs": [],
   "source": [
    "# extract `year_npi` pairs\n",
    "excluded_year_npi_pairs = excluded_df[['year','npi']].drop_duplicates().values.tolist()\n",
    "target_df = df_id[['year','npi']]"
   ]
  },
  {
   "cell_type": "code",
   "execution_count": null,
   "metadata": {},
   "outputs": [],
   "source": [
    "def get_excluded_indices(excluded_year_npi_pair):\n",
    "    return df_year_npi_pairs[(target_df['year']==excluded_year_npi_pair[0]) & \\\n",
    "                             (target_df['npi']==excluded_year_npi_pair[1])].index.tolist()"
   ]
  },
  {
   "cell_type": "code",
   "execution_count": null,
   "metadata": {},
   "outputs": [],
   "source": [
    "print(\"Number of available CPU cores: \")\n",
    "!cat /proc/cpuinfo | grep processor | wc -l"
   ]
  }
 ],
 "metadata": {
  "kernelspec": {
   "display_name": "conda_python3",
   "language": "python",
   "name": "conda_python3"
  },
  "language_info": {
   "codemirror_mode": {
    "name": "ipython",
    "version": 3
   },
   "file_extension": ".py",
   "mimetype": "text/x-python",
   "name": "python",
   "nbconvert_exporter": "python",
   "pygments_lexer": "ipython3",
   "version": "3.6.4"
  }
 },
 "nbformat": 4,
 "nbformat_minor": 2
}
