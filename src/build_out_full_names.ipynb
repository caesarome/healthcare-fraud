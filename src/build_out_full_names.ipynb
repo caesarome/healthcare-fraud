{
 "cells": [
  {
   "cell_type": "markdown",
   "metadata": {},
   "source": [
    "# Build out `full` names for string matching\n",
    "---"
   ]
  },
  {
   "cell_type": "markdown",
   "metadata": {},
   "source": [
    "## _Step 0. Load packages_"
   ]
  },
  {
   "cell_type": "code",
   "execution_count": 1,
   "metadata": {},
   "outputs": [],
   "source": [
    "import sys\n",
    "sys.path.insert(0, '/healthcare-fraud/src/')\n",
    "import scripts as src\n",
    "import pandas as pd\n",
    "import numpy as np"
   ]
  },
  {
   "cell_type": "markdown",
   "metadata": {},
   "source": [
    "## _Step 1. Load, clean, and prep data_\n",
    "---"
   ]
  },
  {
   "cell_type": "code",
   "execution_count": 2,
   "metadata": {},
   "outputs": [
    {
     "name": "stdout",
     "output_type": "stream",
     "text": [
      "Shape of LEIE_id_unlabeled: (14968, 6), PartD_id_unlabeled: (1294885, 7).\n"
     ]
    },
    {
     "name": "stderr",
     "output_type": "stream",
     "text": [
      "/home/ec2-user/anaconda3/envs/python3/lib/python3.6/site-packages/numpy/lib/arraysetops.py:472: FutureWarning: elementwise comparison failed; returning scalar instead, but in the future will perform elementwise comparison\n",
      "  mask |= (ar1 == a)\n"
     ]
    }
   ],
   "source": [
    "# load data\n",
    "LEIE_id_unlabeled = src.read_from_efs('LEIE_id_unlabeled.csv')\n",
    "PartD_id_unlabeled = src.read_from_efs('PartD_id_unlabeled.csv')\n",
    "print('Shape of LEIE_id_unlabeled: %s, PartD_id_unlabeled: %s.' %(LEIE_id_unlabeled.shape, PartD_id_unlabeled.shape))"
   ]
  },
  {
   "cell_type": "markdown",
   "metadata": {},
   "source": [
    "## Build out `full` names\n",
    "> 1. start with identifying companies first\n",
    "> 2. than move on to people\n",
    "> 3. merge the full names for people and companies <br>\n",
    "> _some people will do business as company, ex: {'John Smith Dentist Houston':'John Smith & Associate LLC. Dentistry Houston'}_\n",
    "---"
   ]
  },
  {
   "cell_type": "code",
   "execution_count": 6,
   "metadata": {},
   "outputs": [
    {
     "name": "stdout",
     "output_type": "stream",
     "text": [
      "(241, 6) (763, 7)\n"
     ]
    }
   ],
   "source": [
    "# filter out companies\n",
    "LEIE_id_comp = LEIE_id_unlabeled[LEIE_id_unlabeled['first name'].isna()].reset_index(drop = True)\n",
    "PartD_id_comp = PartD_id_unlabeled[PartD_id_unlabeled['first name'].isna()].reset_index(drop = True)\n",
    "print(LEIE_id_comp.shape, PartD_id_comp.shape)"
   ]
  },
  {
   "cell_type": "code",
   "execution_count": 7,
   "metadata": {},
   "outputs": [
    {
     "name": "stdout",
     "output_type": "stream",
     "text": [
      "241 763\n"
     ]
    }
   ],
   "source": [
    "LEIE_id_comp['full'] = LEIE_id_comp[['last/org name','city']].apply(lambda x: ' '.join(x), axis=1)\n",
    "PartD_id_comp['full'] = PartD_id_comp[['last/org name','city']].apply(lambda x: ' '.join(x), axis=1)\n",
    "print(len(LEIE_id_comp), len(PartD_id_comp))"
   ]
  },
  {
   "cell_type": "code",
   "execution_count": 8,
   "metadata": {},
   "outputs": [
    {
     "data": {
      "text/html": [
       "<div>\n",
       "<style scoped>\n",
       "    .dataframe tbody tr th:only-of-type {\n",
       "        vertical-align: middle;\n",
       "    }\n",
       "\n",
       "    .dataframe tbody tr th {\n",
       "        vertical-align: top;\n",
       "    }\n",
       "\n",
       "    .dataframe thead th {\n",
       "        text-align: right;\n",
       "    }\n",
       "</style>\n",
       "<table border=\"1\" class=\"dataframe\">\n",
       "  <thead>\n",
       "    <tr style=\"text-align: right;\">\n",
       "      <th></th>\n",
       "      <th>npi</th>\n",
       "      <th>last/org name</th>\n",
       "      <th>first name</th>\n",
       "      <th>city</th>\n",
       "      <th>specialty</th>\n",
       "      <th>exclusion_method</th>\n",
       "      <th>exclusion_year</th>\n",
       "      <th>full</th>\n",
       "    </tr>\n",
       "  </thead>\n",
       "  <tbody>\n",
       "    <tr>\n",
       "      <th>0</th>\n",
       "      <td>1003040478</td>\n",
       "      <td>MONA TABIB MD INC</td>\n",
       "      <td>NaN</td>\n",
       "      <td>ENCINO</td>\n",
       "      <td>Family Practice</td>\n",
       "      <td>NaN</td>\n",
       "      <td>NaN</td>\n",
       "      <td>MONA TABIB MD INC ENCINO</td>\n",
       "    </tr>\n",
       "    <tr>\n",
       "      <th>1</th>\n",
       "      <td>1003074600</td>\n",
       "      <td>GERIATRIC RESEARCH &amp; CONSULTING GROUP LLC</td>\n",
       "      <td>NaN</td>\n",
       "      <td>BEAR CREEK TOWNSHIP</td>\n",
       "      <td>Family Medicine</td>\n",
       "      <td>NaN</td>\n",
       "      <td>NaN</td>\n",
       "      <td>GERIATRIC RESEARCH &amp; CONSULTING GROUP LLC BEAR...</td>\n",
       "    </tr>\n",
       "    <tr>\n",
       "      <th>2</th>\n",
       "      <td>1003838053</td>\n",
       "      <td>AUBURN FAMILY DENTAL</td>\n",
       "      <td>NaN</td>\n",
       "      <td>AUBURN</td>\n",
       "      <td>Dentist</td>\n",
       "      <td>NaN</td>\n",
       "      <td>NaN</td>\n",
       "      <td>AUBURN FAMILY DENTAL AUBURN</td>\n",
       "    </tr>\n",
       "    <tr>\n",
       "      <th>3</th>\n",
       "      <td>1003879941</td>\n",
       "      <td>BARRY L GETZOFF ASSOCIATES</td>\n",
       "      <td>NaN</td>\n",
       "      <td>LANGHORNE</td>\n",
       "      <td>Internal Medicine</td>\n",
       "      <td>NaN</td>\n",
       "      <td>NaN</td>\n",
       "      <td>BARRY L GETZOFF ASSOCIATES LANGHORNE</td>\n",
       "    </tr>\n",
       "    <tr>\n",
       "      <th>4</th>\n",
       "      <td>1003887118</td>\n",
       "      <td>EVMS ACADEMIC PHYSICIANS AND SURGEONS HEALTH S...</td>\n",
       "      <td>NaN</td>\n",
       "      <td>NORFOLK</td>\n",
       "      <td>Internal Medicine</td>\n",
       "      <td>NaN</td>\n",
       "      <td>NaN</td>\n",
       "      <td>EVMS ACADEMIC PHYSICIANS AND SURGEONS HEALTH S...</td>\n",
       "    </tr>\n",
       "  </tbody>\n",
       "</table>\n",
       "</div>"
      ],
      "text/plain": [
       "          npi                                      last/org name first name  \\\n",
       "0  1003040478                                  MONA TABIB MD INC        NaN   \n",
       "1  1003074600          GERIATRIC RESEARCH & CONSULTING GROUP LLC        NaN   \n",
       "2  1003838053                               AUBURN FAMILY DENTAL        NaN   \n",
       "3  1003879941                         BARRY L GETZOFF ASSOCIATES        NaN   \n",
       "4  1003887118  EVMS ACADEMIC PHYSICIANS AND SURGEONS HEALTH S...        NaN   \n",
       "\n",
       "                  city          specialty  exclusion_method  exclusion_year  \\\n",
       "0               ENCINO    Family Practice               NaN             NaN   \n",
       "1  BEAR CREEK TOWNSHIP    Family Medicine               NaN             NaN   \n",
       "2               AUBURN            Dentist               NaN             NaN   \n",
       "3            LANGHORNE  Internal Medicine               NaN             NaN   \n",
       "4              NORFOLK  Internal Medicine               NaN             NaN   \n",
       "\n",
       "                                                full  \n",
       "0                           MONA TABIB MD INC ENCINO  \n",
       "1  GERIATRIC RESEARCH & CONSULTING GROUP LLC BEAR...  \n",
       "2                        AUBURN FAMILY DENTAL AUBURN  \n",
       "3               BARRY L GETZOFF ASSOCIATES LANGHORNE  \n",
       "4  EVMS ACADEMIC PHYSICIANS AND SURGEONS HEALTH S...  "
      ]
     },
     "execution_count": 8,
     "metadata": {},
     "output_type": "execute_result"
    }
   ],
   "source": [
    "PartD_id_comp.head()"
   ]
  },
  {
   "cell_type": "markdown",
   "metadata": {},
   "source": [
    "### Now, lets focus on people\n",
    "> 1. build out `full` names\n",
    "> 2. perform NLTK string matching. Fuzzywuzzy isn't installing."
   ]
  },
  {
   "cell_type": "code",
   "execution_count": 14,
   "metadata": {},
   "outputs": [
    {
     "name": "stdout",
     "output_type": "stream",
     "text": [
      "(14726, 6) (1294086, 7)\n"
     ]
    }
   ],
   "source": [
    "# filter out people\n",
    "LEIE_id_peop = LEIE_id_unlabeled[~LEIE_id_unlabeled['first name']\n",
    "                                 .isna()].dropna(axis=0, how='any', subset=['last/org name',\n",
    "                                                                            'first name', \n",
    "                                                                            'city']).reset_index(drop = True)\n",
    "PartD_id_peop = PartD_id_unlabeled[~PartD_id_unlabeled['first name']\n",
    "                                   .isna()].dropna(axis=0, how='any', subset=['last/org name',\n",
    "                                                                              'first name', \n",
    "                                                                              'city']).reset_index(drop = True)\n",
    "print(LEIE_id_peop.shape, PartD_id_peop.shape)"
   ]
  },
  {
   "cell_type": "code",
   "execution_count": 15,
   "metadata": {},
   "outputs": [
    {
     "data": {
      "text/plain": [
       "(14726, 3)"
      ]
     },
     "execution_count": 15,
     "metadata": {},
     "output_type": "execute_result"
    }
   ],
   "source": [
    "LEIE_id_peop[['last/org name','first name', 'city']].dropna(axis=0, how='any', inplace=False).shape"
   ]
  },
  {
   "cell_type": "code",
   "execution_count": 16,
   "metadata": {},
   "outputs": [
    {
     "name": "stdout",
     "output_type": "stream",
     "text": [
      "14726 1294086\n"
     ]
    }
   ],
   "source": [
    "LEIE_id_peop['full'] = LEIE_id_peop[['last/org name','first name', 'city']].apply(lambda x: ' '.join(x), axis=1)\n",
    "PartD_id_peop['full'] = PartD_id_peop[['last/org name','first name', 'city']].apply(lambda x: ' '.join(x), axis=1)\n",
    "print(len(LEIE_id_peop), len(PartD_id_peop))"
   ]
  },
  {
   "cell_type": "code",
   "execution_count": 17,
   "metadata": {},
   "outputs": [
    {
     "data": {
      "text/html": [
       "<div>\n",
       "<style scoped>\n",
       "    .dataframe tbody tr th:only-of-type {\n",
       "        vertical-align: middle;\n",
       "    }\n",
       "\n",
       "    .dataframe tbody tr th {\n",
       "        vertical-align: top;\n",
       "    }\n",
       "\n",
       "    .dataframe thead th {\n",
       "        text-align: right;\n",
       "    }\n",
       "</style>\n",
       "<table border=\"1\" class=\"dataframe\">\n",
       "  <thead>\n",
       "    <tr style=\"text-align: right;\">\n",
       "      <th></th>\n",
       "      <th>npi</th>\n",
       "      <th>last/org name</th>\n",
       "      <th>first name</th>\n",
       "      <th>city</th>\n",
       "      <th>specialty</th>\n",
       "      <th>exclusion_method</th>\n",
       "      <th>exclusion_year</th>\n",
       "      <th>full</th>\n",
       "    </tr>\n",
       "  </thead>\n",
       "  <tbody>\n",
       "    <tr>\n",
       "      <th>0</th>\n",
       "      <td>1003000126</td>\n",
       "      <td>ENKESHAFI</td>\n",
       "      <td>ARDALAN</td>\n",
       "      <td>CUMBERLAND</td>\n",
       "      <td>Internal Medicine</td>\n",
       "      <td>NaN</td>\n",
       "      <td>NaN</td>\n",
       "      <td>ENKESHAFI ARDALAN CUMBERLAND</td>\n",
       "    </tr>\n",
       "    <tr>\n",
       "      <th>1</th>\n",
       "      <td>1003000142</td>\n",
       "      <td>KHALIL</td>\n",
       "      <td>RASHID</td>\n",
       "      <td>TOLEDO</td>\n",
       "      <td>Anesthesiology</td>\n",
       "      <td>NaN</td>\n",
       "      <td>NaN</td>\n",
       "      <td>KHALIL RASHID TOLEDO</td>\n",
       "    </tr>\n",
       "    <tr>\n",
       "      <th>2</th>\n",
       "      <td>1003000167</td>\n",
       "      <td>ESCOBAR</td>\n",
       "      <td>JULIO</td>\n",
       "      <td>DAYTON</td>\n",
       "      <td>Dentist</td>\n",
       "      <td>NaN</td>\n",
       "      <td>NaN</td>\n",
       "      <td>ESCOBAR JULIO DAYTON</td>\n",
       "    </tr>\n",
       "    <tr>\n",
       "      <th>3</th>\n",
       "      <td>1003000282</td>\n",
       "      <td>BLAKEMORE</td>\n",
       "      <td>ROSIE</td>\n",
       "      <td>NASHVILLE</td>\n",
       "      <td>Nurse Practitioner</td>\n",
       "      <td>NaN</td>\n",
       "      <td>NaN</td>\n",
       "      <td>BLAKEMORE ROSIE NASHVILLE</td>\n",
       "    </tr>\n",
       "    <tr>\n",
       "      <th>4</th>\n",
       "      <td>1003000407</td>\n",
       "      <td>GIRARDI</td>\n",
       "      <td>DAVID</td>\n",
       "      <td>PATTON</td>\n",
       "      <td>Family Practice</td>\n",
       "      <td>NaN</td>\n",
       "      <td>NaN</td>\n",
       "      <td>GIRARDI DAVID PATTON</td>\n",
       "    </tr>\n",
       "  </tbody>\n",
       "</table>\n",
       "</div>"
      ],
      "text/plain": [
       "          npi last/org name first name        city           specialty  \\\n",
       "0  1003000126     ENKESHAFI    ARDALAN  CUMBERLAND   Internal Medicine   \n",
       "1  1003000142        KHALIL     RASHID      TOLEDO      Anesthesiology   \n",
       "2  1003000167       ESCOBAR      JULIO      DAYTON             Dentist   \n",
       "3  1003000282     BLAKEMORE      ROSIE   NASHVILLE  Nurse Practitioner   \n",
       "4  1003000407       GIRARDI      DAVID      PATTON     Family Practice   \n",
       "\n",
       "   exclusion_method  exclusion_year                          full  \n",
       "0               NaN             NaN  ENKESHAFI ARDALAN CUMBERLAND  \n",
       "1               NaN             NaN          KHALIL RASHID TOLEDO  \n",
       "2               NaN             NaN          ESCOBAR JULIO DAYTON  \n",
       "3               NaN             NaN     BLAKEMORE ROSIE NASHVILLE  \n",
       "4               NaN             NaN          GIRARDI DAVID PATTON  "
      ]
     },
     "execution_count": 17,
     "metadata": {},
     "output_type": "execute_result"
    }
   ],
   "source": [
    "PartD_id_peop.head()"
   ]
  },
  {
   "cell_type": "markdown",
   "metadata": {},
   "source": [
    "## Finally, lets merge the lists and save the results to efs\n",
    "---"
   ]
  },
  {
   "cell_type": "code",
   "execution_count": 20,
   "metadata": {},
   "outputs": [
    {
     "name": "stdout",
     "output_type": "stream",
     "text": [
      "(14967, 7) (241, 7) (14726, 7)\n"
     ]
    }
   ],
   "source": [
    "LEIE_id_full = pd.concat([LEIE_id_comp, LEIE_id_peop], axis=0)\n",
    "print(LEIE_id_full.shape, LEIE_id_comp.shape, LEIE_id_peop.shape)"
   ]
  },
  {
   "cell_type": "code",
   "execution_count": 21,
   "metadata": {},
   "outputs": [
    {
     "name": "stdout",
     "output_type": "stream",
     "text": [
      "(1294850, 8) (763, 8) (1294087, 8)\n"
     ]
    }
   ],
   "source": [
    "PartD_id_full = pd.concat([PartD_id_comp, PartD_id_peop], axis=0)\n",
    "print(PartD_id_full.shape, PartD_id_comp.shape, PartD_id_peop.shape)"
   ]
  },
  {
   "cell_type": "code",
   "execution_count": 22,
   "metadata": {},
   "outputs": [],
   "source": [
    "# save to efs\n",
    "src.save_to_efs(LEIE_id_full, \"LEIE_id_full.csv\")\n",
    "src.save_to_efs(PartD_id_full, \"PartD_id_full.csv\")"
   ]
  },
  {
   "cell_type": "code",
   "execution_count": null,
   "metadata": {},
   "outputs": [],
   "source": []
  }
 ],
 "metadata": {
  "kernelspec": {
   "display_name": "conda_python3",
   "language": "python",
   "name": "conda_python3"
  },
  "language_info": {
   "codemirror_mode": {
    "name": "ipython",
    "version": 3
   },
   "file_extension": ".py",
   "mimetype": "text/x-python",
   "name": "python",
   "nbconvert_exporter": "python",
   "pygments_lexer": "ipython3",
   "version": "3.6.4"
  }
 },
 "nbformat": 4,
 "nbformat_minor": 2
}
