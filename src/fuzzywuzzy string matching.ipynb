{
 "cells": [
  {
   "cell_type": "markdown",
   "metadata": {},
   "source": [
    "# String matching of full names\n",
    "> 1. Load data with full names\n",
    "> 2. Perform string matching using fuzzywuzzy"
   ]
  },
  {
   "cell_type": "code",
   "execution_count": 1,
   "metadata": {},
   "outputs": [
    {
     "name": "stdout",
     "output_type": "stream",
     "text": [
      "Requirement already satisfied: tqdm in /home/ec2-user/anaconda3/envs/python3/lib/python3.6/site-packages (4.24.0)\n",
      "\u001b[31mdistributed 1.21.8 requires msgpack, which is not installed.\u001b[0m\n",
      "\u001b[33mYou are using pip version 10.0.1, however version 18.0 is available.\n",
      "You should consider upgrading via the 'pip install --upgrade pip' command.\u001b[0m\n"
     ]
    }
   ],
   "source": [
    "import sys\n",
    "sys.path.insert(0, '/healthcare-fraud/src/')\n",
    "import scripts as src\n",
    "import pandas as pd\n",
    "import numpy as np\n",
    "import matplotlib.pyplot as plt\n",
    "from multiprocessing import Pool\n",
    "!pip install tqdm\n",
    "from tqdm import tqdm_notebook\n",
    "import time\n",
    "from itertools import product\n",
    "%matplotlib inline"
   ]
  },
  {
   "cell_type": "code",
   "execution_count": 2,
   "metadata": {},
   "outputs": [
    {
     "name": "stdout",
     "output_type": "stream",
     "text": [
      "LEIE_id_full shape: (14967, 7), PartD_id_full shape: (1294850, 8)\n"
     ]
    },
    {
     "name": "stderr",
     "output_type": "stream",
     "text": [
      "/home/ec2-user/anaconda3/envs/python3/lib/python3.6/site-packages/numpy/lib/arraysetops.py:472: FutureWarning: elementwise comparison failed; returning scalar instead, but in the future will perform elementwise comparison\n",
      "  mask |= (ar1 == a)\n"
     ]
    }
   ],
   "source": [
    "# load data\n",
    "LEIE_id_full = src.read_from_efs('LEIE_id_full.csv')\n",
    "PartD_id_full = src.read_from_efs('PartD_id_full.csv')\n",
    "print('LEIE_id_full shape: %s, PartD_id_full shape: %s' %(LEIE_id_full.shape, PartD_id_full.shape))"
   ]
  },
  {
   "cell_type": "code",
   "execution_count": 3,
   "metadata": {},
   "outputs": [
    {
     "name": "stdout",
     "output_type": "stream",
     "text": [
      "Number of cities common to LEIE and PartD: 3723\n"
     ]
    }
   ],
   "source": [
    "cities = list(set(LEIE_id_full['city']).intersection(set(PartD_id_full['city'])))\n",
    "print('Number of cities common to LEIE and PartD: %d' %len(cities))"
   ]
  },
  {
   "cell_type": "code",
   "execution_count": 4,
   "metadata": {},
   "outputs": [],
   "source": [
    "def build_pairs(city):\n",
    "    LEIE_names = LEIE_id_full['full'][LEIE_id_full['city'] == city]\n",
    "    PartD_names = PartD_id_full['full'][PartD_id_full['city'] == city]\n",
    "    return list(product(LEIE_names, PartD_names))"
   ]
  },
  {
   "cell_type": "code",
   "execution_count": 5,
   "metadata": {},
   "outputs": [
    {
     "name": "stdout",
     "output_type": "stream",
     "text": [
      "Number of available CPU cores: \n",
      "64\r\n"
     ]
    }
   ],
   "source": [
    "print(\"Number of available CPU cores: \")\n",
    "!cat /proc/cpuinfo | grep processor | wc -l"
   ]
  },
  {
   "cell_type": "code",
   "execution_count": 13,
   "metadata": {},
   "outputs": [
    {
     "data": {
      "application/vnd.jupyter.widget-view+json": {
       "model_id": "6006a92c212c4ab89aa8d656e057f1fd",
       "version_major": 2,
       "version_minor": 0
      },
      "text/plain": [
       "HBox(children=(IntProgress(value=0, max=3723), HTML(value='')))"
      ]
     },
     "metadata": {},
     "output_type": "display_data"
    }
   ],
   "source": [
    "# Build string pairs in parallel using multi-processing\n",
    "if __name__ == '__main__':\n",
    "    tasks = cities\n",
    "    function = build_pairs\n",
    "    with Pool(processes=64)as p:\n",
    "        pairs = list(tqdm_notebook(p.imap(function, tasks), total=len(tasks)))"
   ]
  },
  {
   "cell_type": "code",
   "execution_count": 14,
   "metadata": {},
   "outputs": [
    {
     "name": "stdout",
     "output_type": "stream",
     "text": [
      "There are 26.0 million pairs!\n"
     ]
    }
   ],
   "source": [
    "# make a dictionary before converting\n",
    "city_pairs_dict = {}\n",
    "for i, city in enumerate(cities):\n",
    "    city_pairs_dict[city] = pairs[i]\n",
    "\n",
    "# unpack name pairs\n",
    "pairs = []\n",
    "for city in cities:\n",
    "    pairs += city_pairs_dict[city]\n",
    "print('There are %s million pairs!' %round(len(pairs)/1000000,1))"
   ]
  },
  {
   "cell_type": "markdown",
   "metadata": {},
   "source": [
    "## String matching using Fuzzywuzzy\n",
    "---"
   ]
  },
  {
   "cell_type": "code",
   "execution_count": 15,
   "metadata": {},
   "outputs": [
    {
     "name": "stdout",
     "output_type": "stream",
     "text": [
      "Requirement already satisfied: fuzzywuzzy in /home/ec2-user/anaconda3/envs/python3/lib/python3.6/site-packages (0.16.0)\n",
      "\u001b[31mdistributed 1.21.8 requires msgpack, which is not installed.\u001b[0m\n",
      "\u001b[33mYou are using pip version 10.0.1, however version 18.0 is available.\n",
      "You should consider upgrading via the 'pip install --upgrade pip' command.\u001b[0m\n"
     ]
    }
   ],
   "source": [
    "!pip install fuzzywuzzy\n",
    "from fuzzywuzzy import fuzz\n",
    "\n",
    "def get_fuzz_scores(str_pair):\n",
    "    str_a = str_pair[0]\n",
    "    str_b = str_pair[1]\n",
    "    fuzz_scores = [fuzz.QRatio(str_a,str_b),\n",
    "                   fuzz.UQRatio(str_a,str_b),\n",
    "                   fuzz.UWRatio(str_a,str_b),\n",
    "                   fuzz.WRatio(str_a,str_b),                        \n",
    "                   fuzz.partial_ratio(str_a,str_b),\n",
    "                   fuzz.partial_token_sort_ratio(str_a,str_b),                  \n",
    "                   fuzz.token_set_ratio(str_a,str_b),\n",
    "                   fuzz.token_sort_ratio(str_a,str_b)]\n",
    "    return fuzz_scores"
   ]
  },
  {
   "cell_type": "code",
   "execution_count": null,
   "metadata": {},
   "outputs": [
    {
     "data": {
      "application/vnd.jupyter.widget-view+json": {
       "model_id": "3b70b3a6a9734b2b9f010f96e5f53ec2",
       "version_major": 2,
       "version_minor": 0
      },
      "text/plain": [
       "HBox(children=(IntProgress(value=0, max=25991160), HTML(value='')))"
      ]
     },
     "metadata": {},
     "output_type": "display_data"
    }
   ],
   "source": [
    "# Get fuzzy wuzzy scores in parallel using multi-processing\n",
    "if __name__ == '__main__':\n",
    "    tasks = pairs\n",
    "    function = get_fuzz_scores\n",
    "    with Pool(processes=64)as p:\n",
    "        fuzz_scores = list(tqdm_notebook(p.imap(function, tasks), total=len(tasks)))"
   ]
  },
  {
   "cell_type": "code",
   "execution_count": null,
   "metadata": {},
   "outputs": [],
   "source": [
    "# create pandas dataframe for fuzz scores\n",
    "columns = ['Qratio','UQratio','UWQratio','UWQratio','partial_ratio','partial_token_sort_ratio','token_set_ratio','token_sort_ratio']\n",
    "fuzz_scores_df = pd.DataFrame(data = fuzz_scores, index=pairs, columns=columns)\n",
    "\n",
    "# save to efs\n",
    "src.save_to_efs(fuzz_scores_df, 'fuzz_scores_df.csv')"
   ]
  },
  {
   "cell_type": "code",
   "execution_count": null,
   "metadata": {},
   "outputs": [],
   "source": [
    "fuzz_scores_df.boxplot(figsize=(12,6))\n",
    "plt.show()"
   ]
  },
  {
   "cell_type": "code",
   "execution_count": null,
   "metadata": {},
   "outputs": [],
   "source": [
    "fuzz_scores_df.sort_values(by='partial_ratio', ascending=False).head(100)"
   ]
  },
  {
   "cell_type": "code",
   "execution_count": null,
   "metadata": {},
   "outputs": [],
   "source": []
  }
 ],
 "metadata": {
  "kernelspec": {
   "display_name": "conda_python3",
   "language": "python",
   "name": "conda_python3"
  },
  "language_info": {
   "codemirror_mode": {
    "name": "ipython",
    "version": 3
   },
   "file_extension": ".py",
   "mimetype": "text/x-python",
   "name": "python",
   "nbconvert_exporter": "python",
   "pygments_lexer": "ipython3",
   "version": "3.6.4"
  }
 },
 "nbformat": 4,
 "nbformat_minor": 2
}
