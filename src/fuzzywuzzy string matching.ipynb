{
 "cells": [
  {
   "cell_type": "markdown",
   "metadata": {},
   "source": [
    "# String matching of full names\n",
    "> 1. Load data with full names\n",
    "> 2. Perform string matching using fuzzywuzzy"
   ]
  },
  {
   "cell_type": "code",
   "execution_count": 1,
   "metadata": {},
   "outputs": [
    {
     "name": "stdout",
     "output_type": "stream",
     "text": [
      "Requirement already satisfied: tqdm in /home/ec2-user/anaconda3/envs/python3/lib/python3.6/site-packages (4.24.0)\n",
      "\u001b[31mdistributed 1.21.8 requires msgpack, which is not installed.\u001b[0m\n",
      "\u001b[33mYou are using pip version 10.0.1, however version 18.0 is available.\n",
      "You should consider upgrading via the 'pip install --upgrade pip' command.\u001b[0m\n"
     ]
    }
   ],
   "source": [
    "import sys\n",
    "sys.path.insert(0, '/healthcare-fraud/src/')\n",
    "import scripts as src\n",
    "import pandas as pd\n",
    "import numpy as np\n",
    "import matplotlib.pyplot as plt\n",
    "from multiprocessing import Pool\n",
    "!pip install tqdm\n",
    "from tqdm import tqdm_notebook\n",
    "import time\n",
    "from itertools import product\n",
    "%matplotlib inline"
   ]
  },
  {
   "cell_type": "code",
   "execution_count": 2,
   "metadata": {},
   "outputs": [
    {
     "name": "stdout",
     "output_type": "stream",
     "text": [
      "LEIE_id_full shape: (14967, 7), PartD_id_full shape: (1294849, 8)\n"
     ]
    },
    {
     "name": "stderr",
     "output_type": "stream",
     "text": [
      "/home/ec2-user/anaconda3/envs/python3/lib/python3.6/site-packages/numpy/lib/arraysetops.py:472: FutureWarning: elementwise comparison failed; returning scalar instead, but in the future will perform elementwise comparison\n",
      "  mask |= (ar1 == a)\n"
     ]
    }
   ],
   "source": [
    "# load data\n",
    "LEIE_id_full = src.read_from_efs('LEIE_id_full.csv')\n",
    "PartD_id_full = src.read_from_efs('PartD_id_full.csv')\n",
    "print('LEIE_id_full shape: %s, PartD_id_full shape: %s' %(LEIE_id_full.shape, PartD_id_full.shape))"
   ]
  },
  {
   "cell_type": "code",
   "execution_count": 4,
   "metadata": {},
   "outputs": [
    {
     "name": "stdout",
     "output_type": "stream",
     "text": [
      "Number of cities common to LEIE and PartD: 3723\n"
     ]
    }
   ],
   "source": [
    "cities = list(set(LEIE_id_full['city']).intersection(set(PartD_id_full['city'])))\n",
    "print('Number of cities common to LEIE and PartD: %d' %len(cities))"
   ]
  },
  {
   "cell_type": "code",
   "execution_count": 5,
   "metadata": {},
   "outputs": [],
   "source": [
    "def build_pairs(city):\n",
    "    LEIE_names = LEIE_id_full['full'][LEIE_id_full['city'] == city]\n",
    "    PartD_names = PartD_id_full['full'][PartD_id_full['city'] == city]\n",
    "    return list(product(LEIE_names, PartD_names))"
   ]
  },
  {
   "cell_type": "code",
   "execution_count": 6,
   "metadata": {},
   "outputs": [
    {
     "name": "stdout",
     "output_type": "stream",
     "text": [
      "Number of available CPU cores: \n",
      "64\r\n"
     ]
    }
   ],
   "source": [
    "print(\"Number of available CPU cores: \")\n",
    "!cat /proc/cpuinfo | grep processor | wc -l"
   ]
  },
  {
   "cell_type": "code",
   "execution_count": 7,
   "metadata": {},
   "outputs": [
    {
     "data": {
      "application/vnd.jupyter.widget-view+json": {
       "model_id": "27f376eee06e464faecd01e39c4918f6",
       "version_major": 2,
       "version_minor": 0
      },
      "text/plain": [
       "HBox(children=(IntProgress(value=0, max=3723), HTML(value='')))"
      ]
     },
     "metadata": {},
     "output_type": "display_data"
    },
    {
     "name": "stdout",
     "output_type": "stream",
     "text": [
      "\n",
      "There are 26.0 million pairs!\n"
     ]
    }
   ],
   "source": [
    "# Build string pairs in parallel using multi-processing\n",
    "processors = 64\n",
    "if __name__ == '__main__':\n",
    "    tasks = cities\n",
    "    function = build_pairs\n",
    "    with Pool(processes=processors)as p:\n",
    "        pairs = list(tqdm_notebook(p.imap(function, tasks), total=len(tasks)))\n",
    "        \n",
    "# make a dictionary before converting\n",
    "city_pairs_dict = {}\n",
    "for i, city in enumerate(cities):\n",
    "    city_pairs_dict[city] = pairs[i]\n",
    "\n",
    "# unpack name pairs\n",
    "pairs = []\n",
    "for city in cities:\n",
    "    pairs += city_pairs_dict[city]\n",
    "print('There are %s million pairs!' %round(len(pairs)/1000000,1))"
   ]
  },
  {
   "cell_type": "markdown",
   "metadata": {},
   "source": [
    "## String matching using Fuzzywuzzy\n",
    "---"
   ]
  },
  {
   "cell_type": "code",
   "execution_count": 8,
   "metadata": {},
   "outputs": [
    {
     "name": "stdout",
     "output_type": "stream",
     "text": [
      "Requirement already satisfied: fuzzywuzzy in /home/ec2-user/anaconda3/envs/python3/lib/python3.6/site-packages (0.16.0)\n",
      "\u001b[31mdistributed 1.21.8 requires msgpack, which is not installed.\u001b[0m\n",
      "\u001b[33mYou are using pip version 10.0.1, however version 18.0 is available.\n",
      "You should consider upgrading via the 'pip install --upgrade pip' command.\u001b[0m\n"
     ]
    },
    {
     "name": "stderr",
     "output_type": "stream",
     "text": [
      "/home/ec2-user/anaconda3/envs/python3/lib/python3.6/site-packages/fuzzywuzzy/fuzz.py:35: UserWarning: Using slow pure-python SequenceMatcher. Install python-Levenshtein to remove this warning\n",
      "  warnings.warn('Using slow pure-python SequenceMatcher. Install python-Levenshtein to remove this warning')\n"
     ]
    }
   ],
   "source": [
    "!pip install fuzzywuzzy\n",
    "from fuzzywuzzy import fuzz\n",
    "\n",
    "def get_fuzz_scores(str_pair):\n",
    "    str_a = str_pair[0]\n",
    "    str_b = str_pair[1]\n",
    "    fuzz_scores = [fuzz.QRatio(str_a,str_b),\n",
    "                   fuzz.UQRatio(str_a,str_b),\n",
    "                   fuzz.UWRatio(str_a,str_b),\n",
    "                   fuzz.WRatio(str_a,str_b),                        \n",
    "                   fuzz.partial_ratio(str_a,str_b),\n",
    "                   fuzz.partial_token_sort_ratio(str_a,str_b),                  \n",
    "                   fuzz.token_set_ratio(str_a,str_b),\n",
    "                   fuzz.token_sort_ratio(str_a,str_b)]\n",
    "    return fuzz_scores"
   ]
  },
  {
   "cell_type": "code",
   "execution_count": 9,
   "metadata": {},
   "outputs": [
    {
     "data": {
      "text/plain": [
       "[('WASSERMAN RENEE PODIATRY COMMACK',\n",
       "  'WITANOWSKI STEPHEN Internal Medicine COMMACK'),\n",
       " ('WASSERMAN RENEE PODIATRY COMMACK', 'RUSSO EDWARD Dentist COMMACK'),\n",
       " ('WASSERMAN RENEE PODIATRY COMMACK',\n",
       "  'STURM ELIZABETH Internal Medicine COMMACK'),\n",
       " ('WASSERMAN RENEE PODIATRY COMMACK', 'ROSARIO JEFFREY Dentist COMMACK'),\n",
       " ('WASSERMAN RENEE PODIATRY COMMACK', 'STERGAKOS PETER Dentist COMMACK'),\n",
       " ('WASSERMAN RENEE PODIATRY COMMACK', 'BLAU KAREN Internal Medicine COMMACK'),\n",
       " ('WASSERMAN RENEE PODIATRY COMMACK',\n",
       "  'PILLAI PRABHA Internal Medicine COMMACK'),\n",
       " ('WASSERMAN RENEE PODIATRY COMMACK',\n",
       "  'FRENDO CHRISTOPHER Orthopedic Surgery COMMACK'),\n",
       " ('WASSERMAN RENEE PODIATRY COMMACK',\n",
       "  'SUGARMAN STEVEN Medical Oncology COMMACK'),\n",
       " ('WASSERMAN RENEE PODIATRY COMMACK', 'GREEN STEVEN Dentist COMMACK')]"
      ]
     },
     "execution_count": 9,
     "metadata": {},
     "output_type": "execute_result"
    }
   ],
   "source": [
    "pairs[:10]"
   ]
  },
  {
   "cell_type": "code",
   "execution_count": 10,
   "metadata": {},
   "outputs": [
    {
     "data": {
      "application/vnd.jupyter.widget-view+json": {
       "model_id": "d9cf3f761fc74b50ae43f4c3c9ad550b",
       "version_major": 2,
       "version_minor": 0
      },
      "text/plain": [
       "HBox(children=(IntProgress(value=0, max=25991160), HTML(value='')))"
      ]
     },
     "metadata": {},
     "output_type": "display_data"
    },
    {
     "name": "stdout",
     "output_type": "stream",
     "text": [
      "\n"
     ]
    }
   ],
   "source": [
    "# Get fuzzy wuzzy scores in parallel using multi-processing\n",
    "if __name__ == '__main__':\n",
    "    tasks = pairs\n",
    "    function = get_fuzz_scores\n",
    "    with Pool(processes=64)as p:\n",
    "        fuzz_scores = list(tqdm_notebook(p.imap(function, tasks), total=len(tasks)))"
   ]
  },
  {
   "cell_type": "code",
   "execution_count": 12,
   "metadata": {},
   "outputs": [
    {
     "data": {
      "text/plain": [
       "708.0314316749573"
      ]
     },
     "execution_count": 12,
     "metadata": {},
     "output_type": "execute_result"
    }
   ],
   "source": [
    "# create pandas dataframe for fuzz scores\n",
    "s_time = time.time()\n",
    "columns = ['Qratio',\n",
    "           'UQratio',\n",
    "           'UWQratio',\n",
    "           'WRatio',\n",
    "           'partial_ratio',\n",
    "           'partial_token_sort_ratio',\n",
    "           'token_set_ratio',\n",
    "           'token_sort_ratio']\n",
    "fuzz_scores_df = pd.DataFrame(data = fuzz_scores, index=None, columns=columns)\n",
    "\n",
    "# add names from LEIE and Part\n",
    "fuzz_scores_df['LEIE'] = np.array(pairs).T[0]\n",
    "fuzz_scores_df['PartD'] = np.array(pairs).T[1]\n",
    "\n",
    "# save to efs\n",
    "src.save_to_efs(fuzz_scores_df, 'fuzz_scores_df.csv')\n",
    "e_time = time.time()\n",
    "e_time - s_time\n",
    "\n",
    "# save to efs\n",
    "src.save_to_efs(fuzz_scores_df, 'fuzz_scores_df.csv')\n",
    "e_time = time.time()\n",
    "e_time - s_time"
   ]
  },
  {
   "cell_type": "code",
   "execution_count": 13,
   "metadata": {},
   "outputs": [
    {
     "data": {
      "image/png": "[encoded data removed]",
      "text/plain": [
       "<Figure size 864x432 with 1 Axes>"
      ]
     },
     "metadata": {},
     "output_type": "display_data"
    }
   ],
   "source": [
    "fuzz_scores_df.boxplot(figsize=(12,6))\n",
    "plt.show()"
   ]
  },
  {
   "cell_type": "code",
   "execution_count": null,
   "metadata": {},
   "outputs": [],
   "source": []
  }
 ],
 "metadata": {
  "kernelspec": {
   "display_name": "conda_python3",
   "language": "python",
   "name": "conda_python3"
  },
  "language_info": {
   "codemirror_mode": {
    "name": "ipython",
    "version": 3
   },
   "file_extension": ".py",
   "mimetype": "text/x-python",
   "name": "python",
   "nbconvert_exporter": "python",
   "pygments_lexer": "ipython3",
   "version": "3.6.4"
  }
 },
 "nbformat": 4,
 "nbformat_minor": 2
}
