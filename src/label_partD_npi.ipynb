{
 "cells": [
  {
   "cell_type": "markdown",
   "metadata": {},
   "source": [
    "# **Match as many records as possible.**"
   ]
  },
  {
   "cell_type": "markdown",
   "metadata": {},
   "source": [
    "## _Step 0. Load packages_"
   ]
  },
  {
   "cell_type": "code",
   "execution_count": 6,
   "metadata": {},
   "outputs": [],
   "source": [
    "import sys\n",
    "sys.path.insert(0, '/healthcare-fraud/src/')\n",
    "import scripts as src\n",
    "import pandas as pd\n",
    "import numpy as np"
   ]
  },
  {
   "cell_type": "markdown",
   "metadata": {},
   "source": [
    "## _Step 1. Load, clean, and prep data_\n",
    "---"
   ]
  },
  {
   "cell_type": "code",
   "execution_count": null,
   "metadata": {},
   "outputs": [],
   "source": [
    "# load data\n",
    "LEIE_df = src.read_from_efs('LEIE_2014+.csv')\n",
    "PartD_df = src.read_from_efs('raw_PartD.csv')"
   ]
  },
  {
   "cell_type": "code",
   "execution_count": null,
   "metadata": {},
   "outputs": [],
   "source": [
    "# build unique ID\n",
    "LEIE_id1 = LEIE_df[['exclusion year',\n",
    "                    'NPI',\n",
    "                    'LASTNAME',\n",
    "                    'BUSNAME',\n",
    "                    'FIRSTNAME',\n",
    "                    'CITY',\n",
    "                    'SPECIALTY']].drop_duplicates().reset_index(drop=True)\n",
    "\n",
    "PartD_id1 = PartD_df[['npi',\n",
    "                     'nppes_provider_last_org_name',\n",
    "                     'nppes_provider_first_name',\n",
    "                     'nppes_provider_city',\n",
    "                     'specialty_description']].drop_duplicates().reset_index(drop=True)"
   ]
  },
  {
   "cell_type": "code",
   "execution_count": null,
   "metadata": {},
   "outputs": [],
   "source": [
    "# rename names in PartD\n",
    "PartD_names_dict = {'nppes_provider_last_org_name':'last/org name',\n",
    "                    'nppes_provider_first_name':'first name',\n",
    "                    'nppes_provider_city':'city',\n",
    "                    'specialty_description':'specialty'}\n",
    "PartD_id = PartD_id1.rename(columns = PartD_names_dict)\n",
    "\n",
    "# replace missing values in `LASTNAME` with values from `BUSNAME`\n",
    "tf_array = LEIE_id1['LASTNAME'].isna() # find where are the missing values in `LASTNAME`\n",
    "LEIE_id1['LASTNAME'][tf_array] = LEIE_id1['BUSNAME'][tf_array] # replace those with `BUSNAME`\n",
    "LEIE_id1.drop('BUSNAME', axis=1, inplace=True)\n",
    "\n",
    "# rename names in PartD\n",
    "LEIE_names_dict = {'NPI':'npi',\n",
    "                   'LASTNAME':'last/org name',\n",
    "                   'FIRSTNAME':'first name',\n",
    "                   'CITY':'city',\n",
    "                   'SPECIALTY':'specialty'}\n",
    "LEIE_id = LEIE_id1.rename(columns = LEIE_names_dict)\n"
   ]
  },
  {
   "cell_type": "code",
   "execution_count": null,
   "metadata": {},
   "outputs": [],
   "source": [
    "PartD_id.head()"
   ]
  },
  {
   "cell_type": "code",
   "execution_count": null,
   "metadata": {},
   "outputs": [],
   "source": [
    "LEIE_id.head()"
   ]
  },
  {
   "cell_type": "markdown",
   "metadata": {},
   "source": [
    "## _Step 3. Match up ids_\n",
    "> 1. Add `exclusion_method` column to PartD_id\n",
    "> 2. Add `exclusion_year` column to PartD_id\n",
    "> 3. Update all exclusions by `npi`\n",
    "> 4. Save data frames for `fuzzy-match`\n",
    "---"
   ]
  },
  {
   "cell_type": "code",
   "execution_count": null,
   "metadata": {},
   "outputs": [],
   "source": [
    "PartD_id['exclusion_method'] = [np.nan] * PartD_id.shape[0]\n",
    "PartD_id['exclusion_year'] = [np.nan] * PartD_id.shape[0]"
   ]
  },
  {
   "cell_type": "code",
   "execution_count": null,
   "metadata": {},
   "outputs": [],
   "source": [
    "PartD_id.head()"
   ]
  },
  {
   "cell_type": "code",
   "execution_count": null,
   "metadata": {},
   "outputs": [],
   "source": [
    "npi_intersection = set(PartD_id['npi']).intersection(set(LEIE_id['npi']))\n",
    "tf_array_PartD = [npi in npi_intersection for npi in PartD_id['npi'].values]\n",
    "tf_array_LEIE = [npi in npi_intersection for npi in LEIE_id['npi'].values]\n",
    "excluded_by_npi = LEIE_id[['exclusion year','npi']][tf_array_LEIE].values"
   ]
  },
  {
   "cell_type": "code",
   "execution_count": null,
   "metadata": {},
   "outputs": [],
   "source": [
    "len(set(PartD_id[tf_array_PartD]['npi']))                                       "
   ]
  },
  {
   "cell_type": "code",
   "execution_count": null,
   "metadata": {},
   "outputs": [],
   "source": [
    "len(set(LEIE_id[tf_array_LEIE]['npi']))"
   ]
  },
  {
   "cell_type": "code",
   "execution_count": null,
   "metadata": {},
   "outputs": [],
   "source": [
    "for year, npi in excluded_by_npi:\n",
    "    tf_aray = PartD_id['npi'].values == npi\n",
    "    PartD_id['exclusion_method'][tf_aray] = ['npi'] * np.count_nonzero(tf_aray == True)\n",
    "    PartD_id['exclusion_year'][tf_aray] = [year] * np.count_nonzero(tf_aray == True)"
   ]
  },
  {
   "cell_type": "code",
   "execution_count": null,
   "metadata": {},
   "outputs": [],
   "source": [
    "PartD_id_labeled_npi = PartD_id[PartD_id['exclusion_method'] == 'npi'].reset_index(drop=True)\n",
    "PartD_id_labeled_npi.head()"
   ]
  },
  {
   "cell_type": "code",
   "execution_count": null,
   "metadata": {},
   "outputs": [],
   "source": [
    "# build data frame for `fuzzy-match`\n",
    "PartD_id_unlabeled = PartD_id[PartD_id['exclusion_method'] != 'npi'].reset_index(drop=True)\n",
    "print(PartD_id.shape, PartD_id_labeled_npi.shape, PartD_id_unlabeled.shape)"
   ]
  },
  {
   "cell_type": "markdown",
   "metadata": {},
   "source": [
    "**_Now, the data formats are all matched up and we can save the tables to efs._**"
   ]
  },
  {
   "cell_type": "code",
   "execution_count": null,
   "metadata": {},
   "outputs": [],
   "source": [
    "# save to clean data to efs\n",
    "src.save_to_efs(PartD_id, 'PartD_id.csv')\n",
    "src.save_to_efs(PartD_id_labeled_npi, 'PartD_id_labeled_npi.csv')\n",
    "src.save_to_efs(PartD_id_unlabeled, 'PartD_id_unlabeled.csv')\n",
    "src.save_to_efs(LEIE_id, 'LEIE_id.csv')"
   ]
  },
  {
   "cell_type": "code",
   "execution_count": null,
   "metadata": {},
   "outputs": [],
   "source": []
  }
 ],
 "metadata": {
  "kernelspec": {
   "display_name": "conda_python3",
   "language": "python",
   "name": "conda_python3"
  },
  "language_info": {
   "codemirror_mode": {
    "name": "ipython",
    "version": 3
   },
   "file_extension": ".py",
   "mimetype": "text/x-python",
   "name": "python",
   "nbconvert_exporter": "python",
   "pygments_lexer": "ipython3",
   "version": "3.6.4"
  }
 },
 "nbformat": 4,
 "nbformat_minor": 2
}
