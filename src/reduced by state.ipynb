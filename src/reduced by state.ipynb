{
 "cells": [
  {
   "cell_type": "markdown",
   "metadata": {},
   "source": [
    "# Reduce by State\n",
    "---"
   ]
  },
  {
   "cell_type": "code",
   "execution_count": 1,
   "metadata": {},
   "outputs": [],
   "source": [
    "# import packages\n",
    "import numpy as np\n",
    "import pandas as pd\n",
    "import src.scripts as src\n",
    "import matplotlib.pyplot as plt\n",
    "%matplotlib inline"
   ]
  },
  {
   "cell_type": "code",
   "execution_count": 2,
   "metadata": {},
   "outputs": [
    {
     "name": "stderr",
     "output_type": "stream",
     "text": [
      "/home/ec2-user/anaconda3/envs/python3/lib/python3.6/site-packages/numpy/lib/arraysetops.py:472: FutureWarning: elementwise comparison failed; returning scalar instead, but in the future will perform elementwise comparison\n",
      "  mask |= (ar1 == a)\n"
     ]
    }
   ],
   "source": [
    "# import data\n",
    "df_id = src.read_from_efs('df_id.csv')\n",
    "X = src.read_from_efs('X.csv')\n",
    "y = src.read_from_efs('y.csv', header=None)"
   ]
  },
  {
   "cell_type": "markdown",
   "metadata": {},
   "source": [
    "### **Identification Data (df_id)**\n",
    "---"
   ]
  },
  {
   "cell_type": "code",
   "execution_count": 3,
   "metadata": {},
   "outputs": [
    {
     "name": "stdout",
     "output_type": "stream",
     "text": [
      "df_id shape:  (90624128, 7)\n"
     ]
    },
    {
     "data": {
      "text/html": [
       "<div>\n",
       "<style scoped>\n",
       "    .dataframe tbody tr th:only-of-type {\n",
       "        vertical-align: middle;\n",
       "    }\n",
       "\n",
       "    .dataframe tbody tr th {\n",
       "        vertical-align: top;\n",
       "    }\n",
       "\n",
       "    .dataframe thead th {\n",
       "        text-align: right;\n",
       "    }\n",
       "</style>\n",
       "<table border=\"1\" class=\"dataframe\">\n",
       "  <thead>\n",
       "    <tr style=\"text-align: right;\">\n",
       "      <th></th>\n",
       "      <th>year</th>\n",
       "      <th>npi</th>\n",
       "      <th>nppes_provider_last_org_name</th>\n",
       "      <th>nppes_provider_first_name</th>\n",
       "      <th>specialty_description</th>\n",
       "      <th>nppes_provider_city</th>\n",
       "      <th>nppes_provider_state</th>\n",
       "    </tr>\n",
       "  </thead>\n",
       "  <tbody>\n",
       "    <tr>\n",
       "      <th>0</th>\n",
       "      <td>2013</td>\n",
       "      <td>1003000126</td>\n",
       "      <td>ENKESHAFI</td>\n",
       "      <td>ARDALAN</td>\n",
       "      <td>Internal Medicine</td>\n",
       "      <td>CUMBERLAND</td>\n",
       "      <td>MD</td>\n",
       "    </tr>\n",
       "    <tr>\n",
       "      <th>1</th>\n",
       "      <td>2013</td>\n",
       "      <td>1003000126</td>\n",
       "      <td>ENKESHAFI</td>\n",
       "      <td>ARDALAN</td>\n",
       "      <td>Internal Medicine</td>\n",
       "      <td>CUMBERLAND</td>\n",
       "      <td>MD</td>\n",
       "    </tr>\n",
       "    <tr>\n",
       "      <th>2</th>\n",
       "      <td>2013</td>\n",
       "      <td>1003000126</td>\n",
       "      <td>ENKESHAFI</td>\n",
       "      <td>ARDALAN</td>\n",
       "      <td>Internal Medicine</td>\n",
       "      <td>CUMBERLAND</td>\n",
       "      <td>MD</td>\n",
       "    </tr>\n",
       "    <tr>\n",
       "      <th>3</th>\n",
       "      <td>2013</td>\n",
       "      <td>1003000126</td>\n",
       "      <td>ENKESHAFI</td>\n",
       "      <td>ARDALAN</td>\n",
       "      <td>Internal Medicine</td>\n",
       "      <td>CUMBERLAND</td>\n",
       "      <td>MD</td>\n",
       "    </tr>\n",
       "    <tr>\n",
       "      <th>4</th>\n",
       "      <td>2013</td>\n",
       "      <td>1003000126</td>\n",
       "      <td>ENKESHAFI</td>\n",
       "      <td>ARDALAN</td>\n",
       "      <td>Internal Medicine</td>\n",
       "      <td>CUMBERLAND</td>\n",
       "      <td>MD</td>\n",
       "    </tr>\n",
       "  </tbody>\n",
       "</table>\n",
       "</div>"
      ],
      "text/plain": [
       "   year         npi nppes_provider_last_org_name nppes_provider_first_name  \\\n",
       "0  2013  1003000126                    ENKESHAFI                   ARDALAN   \n",
       "1  2013  1003000126                    ENKESHAFI                   ARDALAN   \n",
       "2  2013  1003000126                    ENKESHAFI                   ARDALAN   \n",
       "3  2013  1003000126                    ENKESHAFI                   ARDALAN   \n",
       "4  2013  1003000126                    ENKESHAFI                   ARDALAN   \n",
       "\n",
       "  specialty_description nppes_provider_city nppes_provider_state  \n",
       "0     Internal Medicine          CUMBERLAND                   MD  \n",
       "1     Internal Medicine          CUMBERLAND                   MD  \n",
       "2     Internal Medicine          CUMBERLAND                   MD  \n",
       "3     Internal Medicine          CUMBERLAND                   MD  \n",
       "4     Internal Medicine          CUMBERLAND                   MD  "
      ]
     },
     "execution_count": 3,
     "metadata": {},
     "output_type": "execute_result"
    }
   ],
   "source": [
    "print('df_id shape: ', df_id.shape)\n",
    "df_id.head()"
   ]
  },
  {
   "cell_type": "markdown",
   "metadata": {},
   "source": [
    "### **Feature Matrix (X)**\n",
    "---\n",
    "> `generic_name` will need to be expanded into dummy variables"
   ]
  },
  {
   "cell_type": "code",
   "execution_count": 4,
   "metadata": {},
   "outputs": [
    {
     "name": "stdout",
     "output_type": "stream",
     "text": [
      "X shape:  (90624128, 15)\n"
     ]
    },
    {
     "data": {
      "text/html": [
       "<div>\n",
       "<style scoped>\n",
       "    .dataframe tbody tr th:only-of-type {\n",
       "        vertical-align: middle;\n",
       "    }\n",
       "\n",
       "    .dataframe tbody tr th {\n",
       "        vertical-align: top;\n",
       "    }\n",
       "\n",
       "    .dataframe thead th {\n",
       "        text-align: right;\n",
       "    }\n",
       "</style>\n",
       "<table border=\"1\" class=\"dataframe\">\n",
       "  <thead>\n",
       "    <tr style=\"text-align: right;\">\n",
       "      <th></th>\n",
       "      <th>generic_name</th>\n",
       "      <th>bene_count</th>\n",
       "      <th>total_claim_count</th>\n",
       "      <th>total_30_day_fill_count</th>\n",
       "      <th>total_day_supply</th>\n",
       "      <th>total_drug_cost</th>\n",
       "      <th>bene_count_ge65</th>\n",
       "      <th>total_claim_count_ge65</th>\n",
       "      <th>total_30_day_fill_count_ge65</th>\n",
       "      <th>total_day_supply_ge65</th>\n",
       "      <th>total_drug_cost_ge65</th>\n",
       "      <th>total_drug_cost_per_beneficiary</th>\n",
       "      <th>total_drug_cost_per_claim</th>\n",
       "      <th>total_drug_cost_per_beneficiary_ge65</th>\n",
       "      <th>total_drug_cost_per_claim_ge65</th>\n",
       "    </tr>\n",
       "  </thead>\n",
       "  <tbody>\n",
       "    <tr>\n",
       "      <th>0</th>\n",
       "      <td>ISOSORBIDE MONONITRATE</td>\n",
       "      <td>0.0</td>\n",
       "      <td>11</td>\n",
       "      <td>11.0</td>\n",
       "      <td>307</td>\n",
       "      <td>171.59</td>\n",
       "      <td>0.0</td>\n",
       "      <td>0.0</td>\n",
       "      <td>0.0</td>\n",
       "      <td>0.0</td>\n",
       "      <td>0.00</td>\n",
       "      <td>inf</td>\n",
       "      <td>15.599091</td>\n",
       "      <td>NaN</td>\n",
       "      <td>NaN</td>\n",
       "    </tr>\n",
       "    <tr>\n",
       "      <th>1</th>\n",
       "      <td>LEVOFLOXACIN</td>\n",
       "      <td>26.0</td>\n",
       "      <td>26</td>\n",
       "      <td>26.0</td>\n",
       "      <td>165</td>\n",
       "      <td>227.10</td>\n",
       "      <td>15.0</td>\n",
       "      <td>15.0</td>\n",
       "      <td>15.0</td>\n",
       "      <td>106.0</td>\n",
       "      <td>159.72</td>\n",
       "      <td>8.734615</td>\n",
       "      <td>8.734615</td>\n",
       "      <td>10.648</td>\n",
       "      <td>10.648</td>\n",
       "    </tr>\n",
       "    <tr>\n",
       "      <th>2</th>\n",
       "      <td>LISINOPRIL</td>\n",
       "      <td>17.0</td>\n",
       "      <td>19</td>\n",
       "      <td>19.0</td>\n",
       "      <td>570</td>\n",
       "      <td>100.37</td>\n",
       "      <td>0.0</td>\n",
       "      <td>0.0</td>\n",
       "      <td>0.0</td>\n",
       "      <td>0.0</td>\n",
       "      <td>0.00</td>\n",
       "      <td>5.904118</td>\n",
       "      <td>5.282632</td>\n",
       "      <td>NaN</td>\n",
       "      <td>NaN</td>\n",
       "    </tr>\n",
       "    <tr>\n",
       "      <th>3</th>\n",
       "      <td>METOPROLOL TARTRATE</td>\n",
       "      <td>28.0</td>\n",
       "      <td>30</td>\n",
       "      <td>31.0</td>\n",
       "      <td>916</td>\n",
       "      <td>154.65</td>\n",
       "      <td>0.0</td>\n",
       "      <td>0.0</td>\n",
       "      <td>0.0</td>\n",
       "      <td>0.0</td>\n",
       "      <td>0.00</td>\n",
       "      <td>5.523214</td>\n",
       "      <td>5.155000</td>\n",
       "      <td>NaN</td>\n",
       "      <td>NaN</td>\n",
       "    </tr>\n",
       "    <tr>\n",
       "      <th>4</th>\n",
       "      <td>PREDNISONE</td>\n",
       "      <td>14.0</td>\n",
       "      <td>14</td>\n",
       "      <td>14.0</td>\n",
       "      <td>133</td>\n",
       "      <td>44.72</td>\n",
       "      <td>0.0</td>\n",
       "      <td>0.0</td>\n",
       "      <td>0.0</td>\n",
       "      <td>0.0</td>\n",
       "      <td>0.00</td>\n",
       "      <td>3.194286</td>\n",
       "      <td>3.194286</td>\n",
       "      <td>NaN</td>\n",
       "      <td>NaN</td>\n",
       "    </tr>\n",
       "  </tbody>\n",
       "</table>\n",
       "</div>"
      ],
      "text/plain": [
       "             generic_name  bene_count  total_claim_count  \\\n",
       "0  ISOSORBIDE MONONITRATE         0.0                 11   \n",
       "1            LEVOFLOXACIN        26.0                 26   \n",
       "2              LISINOPRIL        17.0                 19   \n",
       "3     METOPROLOL TARTRATE        28.0                 30   \n",
       "4              PREDNISONE        14.0                 14   \n",
       "\n",
       "   total_30_day_fill_count  total_day_supply  total_drug_cost  \\\n",
       "0                     11.0               307           171.59   \n",
       "1                     26.0               165           227.10   \n",
       "2                     19.0               570           100.37   \n",
       "3                     31.0               916           154.65   \n",
       "4                     14.0               133            44.72   \n",
       "\n",
       "   bene_count_ge65  total_claim_count_ge65  total_30_day_fill_count_ge65  \\\n",
       "0              0.0                     0.0                           0.0   \n",
       "1             15.0                    15.0                          15.0   \n",
       "2              0.0                     0.0                           0.0   \n",
       "3              0.0                     0.0                           0.0   \n",
       "4              0.0                     0.0                           0.0   \n",
       "\n",
       "   total_day_supply_ge65  total_drug_cost_ge65  \\\n",
       "0                    0.0                  0.00   \n",
       "1                  106.0                159.72   \n",
       "2                    0.0                  0.00   \n",
       "3                    0.0                  0.00   \n",
       "4                    0.0                  0.00   \n",
       "\n",
       "   total_drug_cost_per_beneficiary  total_drug_cost_per_claim  \\\n",
       "0                              inf                  15.599091   \n",
       "1                         8.734615                   8.734615   \n",
       "2                         5.904118                   5.282632   \n",
       "3                         5.523214                   5.155000   \n",
       "4                         3.194286                   3.194286   \n",
       "\n",
       "   total_drug_cost_per_beneficiary_ge65  total_drug_cost_per_claim_ge65  \n",
       "0                                   NaN                             NaN  \n",
       "1                                10.648                          10.648  \n",
       "2                                   NaN                             NaN  \n",
       "3                                   NaN                             NaN  \n",
       "4                                   NaN                             NaN  "
      ]
     },
     "execution_count": 4,
     "metadata": {},
     "output_type": "execute_result"
    }
   ],
   "source": [
    "print('X shape: ', X.shape)\n",
    "X.head()"
   ]
  },
  {
   "cell_type": "code",
   "execution_count": 5,
   "metadata": {},
   "outputs": [
    {
     "name": "stdout",
     "output_type": "stream",
     "text": [
      "unique_generics shape:  (2000,)\n"
     ]
    }
   ],
   "source": [
    "unique_generics = X['generic_name'].drop_duplicates()\n",
    "print('unique_generics shape: ', unique_generics.shape)"
   ]
  },
  {
   "cell_type": "markdown",
   "metadata": {},
   "source": [
    "### **Label Data (y)**\n",
    "---"
   ]
  },
  {
   "cell_type": "code",
   "execution_count": 6,
   "metadata": {},
   "outputs": [
    {
     "name": "stdout",
     "output_type": "stream",
     "text": [
      "y shape:  (90624128, 1)\n"
     ]
    },
    {
     "data": {
      "text/html": [
       "<div>\n",
       "<style scoped>\n",
       "    .dataframe tbody tr th:only-of-type {\n",
       "        vertical-align: middle;\n",
       "    }\n",
       "\n",
       "    .dataframe tbody tr th {\n",
       "        vertical-align: top;\n",
       "    }\n",
       "\n",
       "    .dataframe thead th {\n",
       "        text-align: right;\n",
       "    }\n",
       "</style>\n",
       "<table border=\"1\" class=\"dataframe\">\n",
       "  <thead>\n",
       "    <tr style=\"text-align: right;\">\n",
       "      <th></th>\n",
       "      <th>1</th>\n",
       "    </tr>\n",
       "    <tr>\n",
       "      <th>0</th>\n",
       "      <th></th>\n",
       "    </tr>\n",
       "  </thead>\n",
       "  <tbody>\n",
       "    <tr>\n",
       "      <th>0</th>\n",
       "      <td>False</td>\n",
       "    </tr>\n",
       "    <tr>\n",
       "      <th>1</th>\n",
       "      <td>False</td>\n",
       "    </tr>\n",
       "    <tr>\n",
       "      <th>2</th>\n",
       "      <td>False</td>\n",
       "    </tr>\n",
       "    <tr>\n",
       "      <th>3</th>\n",
       "      <td>False</td>\n",
       "    </tr>\n",
       "    <tr>\n",
       "      <th>4</th>\n",
       "      <td>False</td>\n",
       "    </tr>\n",
       "  </tbody>\n",
       "</table>\n",
       "</div>"
      ],
      "text/plain": [
       "       1\n",
       "0       \n",
       "0  False\n",
       "1  False\n",
       "2  False\n",
       "3  False\n",
       "4  False"
      ]
     },
     "execution_count": 6,
     "metadata": {},
     "output_type": "execute_result"
    }
   ],
   "source": [
    "print('y shape: ', y.shape)\n",
    "y.head()"
   ]
  },
  {
   "cell_type": "markdown",
   "metadata": {},
   "source": [
    "## Reduce the data by state\n",
    "---"
   ]
  },
  {
   "cell_type": "code",
   "execution_count": 7,
   "metadata": {},
   "outputs": [
    {
     "data": {
      "text/html": [
       "<div>\n",
       "<style scoped>\n",
       "    .dataframe tbody tr th:only-of-type {\n",
       "        vertical-align: middle;\n",
       "    }\n",
       "\n",
       "    .dataframe tbody tr th {\n",
       "        vertical-align: top;\n",
       "    }\n",
       "\n",
       "    .dataframe thead th {\n",
       "        text-align: right;\n",
       "    }\n",
       "</style>\n",
       "<table border=\"1\" class=\"dataframe\">\n",
       "  <thead>\n",
       "    <tr style=\"text-align: right;\">\n",
       "      <th></th>\n",
       "      <th>npi</th>\n",
       "      <th>exclusion</th>\n",
       "      <th>exclusion_ratio</th>\n",
       "    </tr>\n",
       "    <tr>\n",
       "      <th>nppes_provider_state</th>\n",
       "      <th></th>\n",
       "      <th></th>\n",
       "      <th></th>\n",
       "    </tr>\n",
       "  </thead>\n",
       "  <tbody>\n",
       "    <tr>\n",
       "      <th>NV</th>\n",
       "      <td>575840</td>\n",
       "      <td>2568</td>\n",
       "      <td>0.004460</td>\n",
       "    </tr>\n",
       "    <tr>\n",
       "      <th>MI</th>\n",
       "      <td>3113638</td>\n",
       "      <td>10765</td>\n",
       "      <td>0.003457</td>\n",
       "    </tr>\n",
       "    <tr>\n",
       "      <th>NJ</th>\n",
       "      <td>2423833</td>\n",
       "      <td>7788</td>\n",
       "      <td>0.003213</td>\n",
       "    </tr>\n",
       "    <tr>\n",
       "      <th>IL</th>\n",
       "      <td>3246210</td>\n",
       "      <td>9460</td>\n",
       "      <td>0.002914</td>\n",
       "    </tr>\n",
       "    <tr>\n",
       "      <th>NM</th>\n",
       "      <td>502856</td>\n",
       "      <td>1377</td>\n",
       "      <td>0.002738</td>\n",
       "    </tr>\n",
       "  </tbody>\n",
       "</table>\n",
       "</div>"
      ],
      "text/plain": [
       "                          npi  exclusion  exclusion_ratio\n",
       "nppes_provider_state                                     \n",
       "NV                     575840       2568         0.004460\n",
       "MI                    3113638      10765         0.003457\n",
       "NJ                    2423833       7788         0.003213\n",
       "IL                    3246210       9460         0.002914\n",
       "NM                     502856       1377         0.002738"
      ]
     },
     "execution_count": 7,
     "metadata": {},
     "output_type": "execute_result"
    }
   ],
   "source": [
    "# add label\n",
    "df_id['exclusion'] = y\n",
    "\n",
    "# count `exclusion by state`\n",
    "exclusions_by_state = df_id[['nppes_provider_state','exclusion']].groupby('nppes_provider_state').agg('sum')\\\n",
    "                                                             .sort_values('exclusion', ascending=False).astype(int)\n",
    "\n",
    "# count Medicare Part D `providers by state`\n",
    "providers_by_state = df_id[['nppes_provider_state','npi']].groupby('nppes_provider_state').agg('count')\\\n",
    "                                                             .sort_values('npi', ascending=False).astype(int)\n",
    "\n",
    "# join `exclusion by state` and `providers by state`\n",
    "counts_by_state = providers_by_state.join(exclusions_by_state)\n",
    "\n",
    "# calculate `exclusion ratio`\n",
    "counts_by_state['exclusion_ratio'] = counts_by_state['exclusion']/counts_by_state['npi']\n",
    "counts_by_state.sort_values('exclusion_ratio', ascending=False, inplace=True)\n",
    "counts_by_state.head()"
   ]
  },
  {
   "cell_type": "code",
   "execution_count": 8,
   "metadata": {},
   "outputs": [],
   "source": [
    "# Build `state_ratio_df` with cummulatives\n",
    "state_ratio_df = pd.DataFrame()\n",
    "state_ratio_df['cumm_provider_cnt'] = counts_by_state['npi'].cumsum()\n",
    "state_ratio_df['cumm_exclusion_cnt'] = counts_by_state['exclusion'].cumsum()\n",
    "state_ratio_df['exclusion_ratio'] = state_ratio_df['cumm_exclusion_cnt']/state_ratio_df['cumm_provider_cnt']"
   ]
  },
  {
   "cell_type": "code",
   "execution_count": 9,
   "metadata": {},
   "outputs": [
    {
     "data": {
      "image/png": "[encoded data removed]",
      "text/plain": [
       "<Figure size 864x576 with 3 Axes>"
      ]
     },
     "metadata": {},
     "output_type": "display_data"
    }
   ],
   "source": [
    "# Plot sorted cumulative chart by Exclusion Ratio\n",
    "threshold_value=12\n",
    "src.plot_multi(state_ratio_df, threshold_value, figsize=(12,8), title='Exclusion ratio sorted by State')\n",
    "plt.show()"
   ]
  },
  {
   "cell_type": "code",
   "execution_count": 10,
   "metadata": {},
   "outputs": [
    {
     "name": "stdout",
     "output_type": "stream",
     "text": [
      "Top states by exclusion ratio:  ['NV', 'MI', 'NJ', 'IL', 'NM', 'AL', 'WV', 'KY', 'TN', 'NY', 'UT', 'AK']\n"
     ]
    }
   ],
   "source": [
    "top_states = state_ratio_df.index[:threshold_value].tolist()\n",
    "print('Top states by exclusion ratio: ', top_states)"
   ]
  },
  {
   "cell_type": "code",
   "execution_count": 11,
   "metadata": {},
   "outputs": [],
   "source": [
    "# get indeces for top states\n",
    "trgt_idx = []\n",
    "for state in top_states:\n",
    "    trgt_idx += df_id[df_id['nppes_provider_state']==state].index.tolist()"
   ]
  },
  {
   "cell_type": "code",
   "execution_count": 12,
   "metadata": {},
   "outputs": [],
   "source": [
    "# reduce data sets\n",
    "df_id_reduced = df_id.iloc[trgt_idx].reset_index(drop=True)\n",
    "X_reduced = X.iloc[trgt_idx].reset_index(drop=True)\n",
    "y_reduced = y.iloc[trgt_idx].reset_index(drop=True)"
   ]
  },
  {
   "cell_type": "code",
   "execution_count": 13,
   "metadata": {},
   "outputs": [],
   "source": [
    "# Remove 'exclusion' from df_id\n",
    "df_id_reduced.drop('exclusion', axis=1, inplace=True)"
   ]
  },
  {
   "cell_type": "markdown",
   "metadata": {},
   "source": [
    "## Results:\n",
    "---"
   ]
  },
  {
   "cell_type": "markdown",
   "metadata": {},
   "source": [
    "### Reduced Identification Data (df_id)\n",
    "> for consistancy remove `exclusion` column as a separate `label` data"
   ]
  },
  {
   "cell_type": "code",
   "execution_count": 14,
   "metadata": {},
   "outputs": [
    {
     "name": "stdout",
     "output_type": "stream",
     "text": [
      "df_id_reduced shape:  (23052741, 7)\n"
     ]
    },
    {
     "data": {
      "text/html": [
       "<div>\n",
       "<style scoped>\n",
       "    .dataframe tbody tr th:only-of-type {\n",
       "        vertical-align: middle;\n",
       "    }\n",
       "\n",
       "    .dataframe tbody tr th {\n",
       "        vertical-align: top;\n",
       "    }\n",
       "\n",
       "    .dataframe thead th {\n",
       "        text-align: right;\n",
       "    }\n",
       "</style>\n",
       "<table border=\"1\" class=\"dataframe\">\n",
       "  <thead>\n",
       "    <tr style=\"text-align: right;\">\n",
       "      <th></th>\n",
       "      <th>year</th>\n",
       "      <th>npi</th>\n",
       "      <th>nppes_provider_last_org_name</th>\n",
       "      <th>nppes_provider_first_name</th>\n",
       "      <th>specialty_description</th>\n",
       "      <th>nppes_provider_city</th>\n",
       "      <th>nppes_provider_state</th>\n",
       "    </tr>\n",
       "  </thead>\n",
       "  <tbody>\n",
       "    <tr>\n",
       "      <th>0</th>\n",
       "      <td>2013</td>\n",
       "      <td>1003000167</td>\n",
       "      <td>ESCOBAR</td>\n",
       "      <td>JULIO</td>\n",
       "      <td>Dentist</td>\n",
       "      <td>DAYTON</td>\n",
       "      <td>NV</td>\n",
       "    </tr>\n",
       "    <tr>\n",
       "      <th>1</th>\n",
       "      <td>2013</td>\n",
       "      <td>1003000167</td>\n",
       "      <td>ESCOBAR</td>\n",
       "      <td>JULIO</td>\n",
       "      <td>Dentist</td>\n",
       "      <td>DAYTON</td>\n",
       "      <td>NV</td>\n",
       "    </tr>\n",
       "    <tr>\n",
       "      <th>2</th>\n",
       "      <td>2013</td>\n",
       "      <td>1003000167</td>\n",
       "      <td>ESCOBAR</td>\n",
       "      <td>JULIO</td>\n",
       "      <td>Dentist</td>\n",
       "      <td>DAYTON</td>\n",
       "      <td>NV</td>\n",
       "    </tr>\n",
       "    <tr>\n",
       "      <th>3</th>\n",
       "      <td>2013</td>\n",
       "      <td>1003016809</td>\n",
       "      <td>BAUMGARDNER</td>\n",
       "      <td>ZACHARY</td>\n",
       "      <td>Family Practice</td>\n",
       "      <td>RENO</td>\n",
       "      <td>NV</td>\n",
       "    </tr>\n",
       "    <tr>\n",
       "      <th>4</th>\n",
       "      <td>2013</td>\n",
       "      <td>1003016809</td>\n",
       "      <td>BAUMGARDNER</td>\n",
       "      <td>ZACHARY</td>\n",
       "      <td>Family Practice</td>\n",
       "      <td>RENO</td>\n",
       "      <td>NV</td>\n",
       "    </tr>\n",
       "  </tbody>\n",
       "</table>\n",
       "</div>"
      ],
      "text/plain": [
       "   year         npi nppes_provider_last_org_name nppes_provider_first_name  \\\n",
       "0  2013  1003000167                      ESCOBAR                     JULIO   \n",
       "1  2013  1003000167                      ESCOBAR                     JULIO   \n",
       "2  2013  1003000167                      ESCOBAR                     JULIO   \n",
       "3  2013  1003016809                  BAUMGARDNER                   ZACHARY   \n",
       "4  2013  1003016809                  BAUMGARDNER                   ZACHARY   \n",
       "\n",
       "  specialty_description nppes_provider_city nppes_provider_state  \n",
       "0               Dentist              DAYTON                   NV  \n",
       "1               Dentist              DAYTON                   NV  \n",
       "2               Dentist              DAYTON                   NV  \n",
       "3       Family Practice                RENO                   NV  \n",
       "4       Family Practice                RENO                   NV  "
      ]
     },
     "execution_count": 14,
     "metadata": {},
     "output_type": "execute_result"
    }
   ],
   "source": [
    "print('df_id_reduced shape: ', df_id_reduced.shape)\n",
    "df_id_reduced.head()"
   ]
  },
  {
   "cell_type": "markdown",
   "metadata": {},
   "source": [
    "#### Reduced Feature Matrix (X)\n",
    "---"
   ]
  },
  {
   "cell_type": "code",
   "execution_count": 15,
   "metadata": {},
   "outputs": [
    {
     "name": "stdout",
     "output_type": "stream",
     "text": [
      "X_reduced shape:  (23052741, 15)\n"
     ]
    },
    {
     "data": {
      "text/html": [
       "<div>\n",
       "<style scoped>\n",
       "    .dataframe tbody tr th:only-of-type {\n",
       "        vertical-align: middle;\n",
       "    }\n",
       "\n",
       "    .dataframe tbody tr th {\n",
       "        vertical-align: top;\n",
       "    }\n",
       "\n",
       "    .dataframe thead th {\n",
       "        text-align: right;\n",
       "    }\n",
       "</style>\n",
       "<table border=\"1\" class=\"dataframe\">\n",
       "  <thead>\n",
       "    <tr style=\"text-align: right;\">\n",
       "      <th></th>\n",
       "      <th>generic_name</th>\n",
       "      <th>bene_count</th>\n",
       "      <th>total_claim_count</th>\n",
       "      <th>total_30_day_fill_count</th>\n",
       "      <th>total_day_supply</th>\n",
       "      <th>total_drug_cost</th>\n",
       "      <th>bene_count_ge65</th>\n",
       "      <th>total_claim_count_ge65</th>\n",
       "      <th>total_30_day_fill_count_ge65</th>\n",
       "      <th>total_day_supply_ge65</th>\n",
       "      <th>total_drug_cost_ge65</th>\n",
       "      <th>total_drug_cost_per_beneficiary</th>\n",
       "      <th>total_drug_cost_per_claim</th>\n",
       "      <th>total_drug_cost_per_beneficiary_ge65</th>\n",
       "      <th>total_drug_cost_per_claim_ge65</th>\n",
       "    </tr>\n",
       "  </thead>\n",
       "  <tbody>\n",
       "    <tr>\n",
       "      <th>0</th>\n",
       "      <td>AMOXICILLIN</td>\n",
       "      <td>0.0</td>\n",
       "      <td>11</td>\n",
       "      <td>11.0</td>\n",
       "      <td>72</td>\n",
       "      <td>46.76</td>\n",
       "      <td>0.0</td>\n",
       "      <td>0.0</td>\n",
       "      <td>0.0</td>\n",
       "      <td>0.0</td>\n",
       "      <td>0.00</td>\n",
       "      <td>inf</td>\n",
       "      <td>4.250909</td>\n",
       "      <td>NaN</td>\n",
       "      <td>NaN</td>\n",
       "    </tr>\n",
       "    <tr>\n",
       "      <th>1</th>\n",
       "      <td>HYDROCODONE/ACETAMINOPHEN</td>\n",
       "      <td>16.0</td>\n",
       "      <td>23</td>\n",
       "      <td>23.0</td>\n",
       "      <td>57</td>\n",
       "      <td>81.51</td>\n",
       "      <td>0.0</td>\n",
       "      <td>0.0</td>\n",
       "      <td>0.0</td>\n",
       "      <td>0.0</td>\n",
       "      <td>0.00</td>\n",
       "      <td>5.094375</td>\n",
       "      <td>3.543913</td>\n",
       "      <td>NaN</td>\n",
       "      <td>NaN</td>\n",
       "    </tr>\n",
       "    <tr>\n",
       "      <th>2</th>\n",
       "      <td>SODIUM FLUORIDE</td>\n",
       "      <td>0.0</td>\n",
       "      <td>16</td>\n",
       "      <td>18.1</td>\n",
       "      <td>478</td>\n",
       "      <td>109.59</td>\n",
       "      <td>0.0</td>\n",
       "      <td>0.0</td>\n",
       "      <td>0.0</td>\n",
       "      <td>0.0</td>\n",
       "      <td>0.00</td>\n",
       "      <td>inf</td>\n",
       "      <td>6.849375</td>\n",
       "      <td>NaN</td>\n",
       "      <td>NaN</td>\n",
       "    </tr>\n",
       "    <tr>\n",
       "      <th>3</th>\n",
       "      <td>ACYCLOVIR</td>\n",
       "      <td>0.0</td>\n",
       "      <td>16</td>\n",
       "      <td>18.0</td>\n",
       "      <td>253</td>\n",
       "      <td>127.90</td>\n",
       "      <td>0.0</td>\n",
       "      <td>16.0</td>\n",
       "      <td>18.0</td>\n",
       "      <td>253.0</td>\n",
       "      <td>127.90</td>\n",
       "      <td>inf</td>\n",
       "      <td>7.993750</td>\n",
       "      <td>inf</td>\n",
       "      <td>7.993750</td>\n",
       "    </tr>\n",
       "    <tr>\n",
       "      <th>4</th>\n",
       "      <td>ALBUTEROL SULFATE</td>\n",
       "      <td>13.0</td>\n",
       "      <td>64</td>\n",
       "      <td>69.3</td>\n",
       "      <td>1467</td>\n",
       "      <td>3483.22</td>\n",
       "      <td>0.0</td>\n",
       "      <td>53.0</td>\n",
       "      <td>58.3</td>\n",
       "      <td>1291.0</td>\n",
       "      <td>3013.26</td>\n",
       "      <td>267.940000</td>\n",
       "      <td>54.425312</td>\n",
       "      <td>inf</td>\n",
       "      <td>56.853962</td>\n",
       "    </tr>\n",
       "  </tbody>\n",
       "</table>\n",
       "</div>"
      ],
      "text/plain": [
       "                generic_name  bene_count  total_claim_count  \\\n",
       "0                AMOXICILLIN         0.0                 11   \n",
       "1  HYDROCODONE/ACETAMINOPHEN        16.0                 23   \n",
       "2            SODIUM FLUORIDE         0.0                 16   \n",
       "3                  ACYCLOVIR         0.0                 16   \n",
       "4          ALBUTEROL SULFATE        13.0                 64   \n",
       "\n",
       "   total_30_day_fill_count  total_day_supply  total_drug_cost  \\\n",
       "0                     11.0                72            46.76   \n",
       "1                     23.0                57            81.51   \n",
       "2                     18.1               478           109.59   \n",
       "3                     18.0               253           127.90   \n",
       "4                     69.3              1467          3483.22   \n",
       "\n",
       "   bene_count_ge65  total_claim_count_ge65  total_30_day_fill_count_ge65  \\\n",
       "0              0.0                     0.0                           0.0   \n",
       "1              0.0                     0.0                           0.0   \n",
       "2              0.0                     0.0                           0.0   \n",
       "3              0.0                    16.0                          18.0   \n",
       "4              0.0                    53.0                          58.3   \n",
       "\n",
       "   total_day_supply_ge65  total_drug_cost_ge65  \\\n",
       "0                    0.0                  0.00   \n",
       "1                    0.0                  0.00   \n",
       "2                    0.0                  0.00   \n",
       "3                  253.0                127.90   \n",
       "4                 1291.0               3013.26   \n",
       "\n",
       "   total_drug_cost_per_beneficiary  total_drug_cost_per_claim  \\\n",
       "0                              inf                   4.250909   \n",
       "1                         5.094375                   3.543913   \n",
       "2                              inf                   6.849375   \n",
       "3                              inf                   7.993750   \n",
       "4                       267.940000                  54.425312   \n",
       "\n",
       "   total_drug_cost_per_beneficiary_ge65  total_drug_cost_per_claim_ge65  \n",
       "0                                   NaN                             NaN  \n",
       "1                                   NaN                             NaN  \n",
       "2                                   NaN                             NaN  \n",
       "3                                   inf                        7.993750  \n",
       "4                                   inf                       56.853962  "
      ]
     },
     "execution_count": 15,
     "metadata": {},
     "output_type": "execute_result"
    }
   ],
   "source": [
    "print('X_reduced shape: ', X_reduced.shape)\n",
    "X_reduced.head()"
   ]
  },
  {
   "cell_type": "markdown",
   "metadata": {},
   "source": [
    "#### Reduced Label Data `y_reduced`\n",
    "---"
   ]
  },
  {
   "cell_type": "code",
   "execution_count": 16,
   "metadata": {},
   "outputs": [
    {
     "name": "stdout",
     "output_type": "stream",
     "text": [
      "y_reduced shape:  (23052741, 1)\n"
     ]
    },
    {
     "data": {
      "text/html": [
       "<div>\n",
       "<style scoped>\n",
       "    .dataframe tbody tr th:only-of-type {\n",
       "        vertical-align: middle;\n",
       "    }\n",
       "\n",
       "    .dataframe tbody tr th {\n",
       "        vertical-align: top;\n",
       "    }\n",
       "\n",
       "    .dataframe thead th {\n",
       "        text-align: right;\n",
       "    }\n",
       "</style>\n",
       "<table border=\"1\" class=\"dataframe\">\n",
       "  <thead>\n",
       "    <tr style=\"text-align: right;\">\n",
       "      <th></th>\n",
       "      <th>1</th>\n",
       "    </tr>\n",
       "  </thead>\n",
       "  <tbody>\n",
       "    <tr>\n",
       "      <th>0</th>\n",
       "      <td>False</td>\n",
       "    </tr>\n",
       "    <tr>\n",
       "      <th>1</th>\n",
       "      <td>False</td>\n",
       "    </tr>\n",
       "    <tr>\n",
       "      <th>2</th>\n",
       "      <td>False</td>\n",
       "    </tr>\n",
       "    <tr>\n",
       "      <th>3</th>\n",
       "      <td>False</td>\n",
       "    </tr>\n",
       "    <tr>\n",
       "      <th>4</th>\n",
       "      <td>False</td>\n",
       "    </tr>\n",
       "  </tbody>\n",
       "</table>\n",
       "</div>"
      ],
      "text/plain": [
       "       1\n",
       "0  False\n",
       "1  False\n",
       "2  False\n",
       "3  False\n",
       "4  False"
      ]
     },
     "execution_count": 16,
     "metadata": {},
     "output_type": "execute_result"
    }
   ],
   "source": [
    "print('y_reduced shape: ', y_reduced.shape)\n",
    "y_reduced.head()"
   ]
  },
  {
   "cell_type": "markdown",
   "metadata": {},
   "source": [
    "### Save to efs"
   ]
  },
  {
   "cell_type": "code",
   "execution_count": 18,
   "metadata": {},
   "outputs": [],
   "source": [
    "src.save_to_efs(y_reduced,'y_reduced.csv')\n",
    "src.save_to_efs(X_reduced,'X_reduced.csv')\n",
    "src.save_to_efs(df_id_reduced, 'df_id_reduced.csv')"
   ]
  },
  {
   "cell_type": "code",
   "execution_count": null,
   "metadata": {},
   "outputs": [],
   "source": []
  }
 ],
 "metadata": {
  "kernelspec": {
   "display_name": "conda_python3",
   "language": "python",
   "name": "conda_python3"
  },
  "language_info": {
   "codemirror_mode": {
    "name": "ipython",
    "version": 3
   },
   "file_extension": ".py",
   "mimetype": "text/x-python",
   "name": "python",
   "nbconvert_exporter": "python",
   "pygments_lexer": "ipython3",
   "version": "3.6.4"
  }
 },
 "nbformat": 4,
 "nbformat_minor": 2
}
